{
 "cells": [
  {
   "cell_type": "code",
   "execution_count": 95,
   "id": "5363d53a",
   "metadata": {},
   "outputs": [],
   "source": [
    "import pandas as pd"
   ]
  },
  {
   "cell_type": "code",
   "execution_count": 96,
   "id": "968c90f8",
   "metadata": {},
   "outputs": [],
   "source": [
    "coffee_domestic_consumption = pd.read_csv(\"Coffee_domestic_consumption.csv\")\n",
    "coffee_export = pd.read_csv(\"Coffee_export.csv\")\n",
    "coffee_import = pd.read_csv(\"Coffee_import.csv\")\n",
    "coffee_production = pd.read_csv(\"Coffee_production.csv\")"
   ]
  },
  {
   "cell_type": "code",
   "execution_count": 97,
   "id": "1fa72d79",
   "metadata": {},
   "outputs": [
    {
     "data": {
      "text/html": [
       "<div>\n",
       "<style scoped>\n",
       "    .dataframe tbody tr th:only-of-type {\n",
       "        vertical-align: middle;\n",
       "    }\n",
       "\n",
       "    .dataframe tbody tr th {\n",
       "        vertical-align: top;\n",
       "    }\n",
       "\n",
       "    .dataframe thead th {\n",
       "        text-align: right;\n",
       "    }\n",
       "</style>\n",
       "<table border=\"1\" class=\"dataframe\">\n",
       "  <thead>\n",
       "    <tr style=\"text-align: right;\">\n",
       "      <th></th>\n",
       "      <th>Country</th>\n",
       "      <th>Coffee type</th>\n",
       "      <th>1990/91</th>\n",
       "      <th>1991/92</th>\n",
       "      <th>1992/93</th>\n",
       "      <th>1993/94</th>\n",
       "      <th>1994/95</th>\n",
       "      <th>1995/96</th>\n",
       "      <th>1996/97</th>\n",
       "      <th>1997/98</th>\n",
       "      <th>...</th>\n",
       "      <th>2011/12</th>\n",
       "      <th>2012/13</th>\n",
       "      <th>2013/14</th>\n",
       "      <th>2014/15</th>\n",
       "      <th>2015/16</th>\n",
       "      <th>2016/17</th>\n",
       "      <th>2017/18</th>\n",
       "      <th>2018/19</th>\n",
       "      <th>2019/20</th>\n",
       "      <th>Total_domestic_consumption</th>\n",
       "    </tr>\n",
       "  </thead>\n",
       "  <tbody>\n",
       "    <tr>\n",
       "      <th>0</th>\n",
       "      <td>Angola</td>\n",
       "      <td>Robusta/Arabica</td>\n",
       "      <td>1200000</td>\n",
       "      <td>1800000</td>\n",
       "      <td>2100000</td>\n",
       "      <td>1200000</td>\n",
       "      <td>1500000</td>\n",
       "      <td>600000</td>\n",
       "      <td>1200000</td>\n",
       "      <td>2400000</td>\n",
       "      <td>...</td>\n",
       "      <td>1800000</td>\n",
       "      <td>1800000</td>\n",
       "      <td>1800000</td>\n",
       "      <td>1800000</td>\n",
       "      <td>1800000</td>\n",
       "      <td>1800000</td>\n",
       "      <td>1800000</td>\n",
       "      <td>1800000</td>\n",
       "      <td>1800000</td>\n",
       "      <td>46500000</td>\n",
       "    </tr>\n",
       "    <tr>\n",
       "      <th>1</th>\n",
       "      <td>Bolivia (Plurinational State of)</td>\n",
       "      <td>Arabica</td>\n",
       "      <td>1500000</td>\n",
       "      <td>1620000</td>\n",
       "      <td>1650000</td>\n",
       "      <td>1710000</td>\n",
       "      <td>1770000</td>\n",
       "      <td>1830000</td>\n",
       "      <td>1890000</td>\n",
       "      <td>1950000</td>\n",
       "      <td>...</td>\n",
       "      <td>2940000</td>\n",
       "      <td>3030000</td>\n",
       "      <td>3120000</td>\n",
       "      <td>3210000</td>\n",
       "      <td>3300000</td>\n",
       "      <td>3420000</td>\n",
       "      <td>3510000</td>\n",
       "      <td>3600000</td>\n",
       "      <td>3660000</td>\n",
       "      <td>75180000</td>\n",
       "    </tr>\n",
       "    <tr>\n",
       "      <th>2</th>\n",
       "      <td>Brazil</td>\n",
       "      <td>Arabica/Robusta</td>\n",
       "      <td>492000000</td>\n",
       "      <td>510000000</td>\n",
       "      <td>534000000</td>\n",
       "      <td>546000000</td>\n",
       "      <td>558000000</td>\n",
       "      <td>606000000</td>\n",
       "      <td>660000000</td>\n",
       "      <td>690000000</td>\n",
       "      <td>...</td>\n",
       "      <td>1183200000</td>\n",
       "      <td>1219800000</td>\n",
       "      <td>1205100000</td>\n",
       "      <td>1219980000</td>\n",
       "      <td>1230480000</td>\n",
       "      <td>1273500000</td>\n",
       "      <td>1319820000</td>\n",
       "      <td>1332000000</td>\n",
       "      <td>1320000000</td>\n",
       "      <td>27824700000</td>\n",
       "    </tr>\n",
       "    <tr>\n",
       "      <th>3</th>\n",
       "      <td>Burundi</td>\n",
       "      <td>Arabica/Robusta</td>\n",
       "      <td>120000</td>\n",
       "      <td>96000</td>\n",
       "      <td>102000</td>\n",
       "      <td>114600</td>\n",
       "      <td>120000</td>\n",
       "      <td>120000</td>\n",
       "      <td>120000</td>\n",
       "      <td>120000</td>\n",
       "      <td>...</td>\n",
       "      <td>120000</td>\n",
       "      <td>120000</td>\n",
       "      <td>120000</td>\n",
       "      <td>120000</td>\n",
       "      <td>120000</td>\n",
       "      <td>120000</td>\n",
       "      <td>120000</td>\n",
       "      <td>120000</td>\n",
       "      <td>120000</td>\n",
       "      <td>3412020</td>\n",
       "    </tr>\n",
       "    <tr>\n",
       "      <th>4</th>\n",
       "      <td>Ecuador</td>\n",
       "      <td>Arabica/Robusta</td>\n",
       "      <td>21000000</td>\n",
       "      <td>21000000</td>\n",
       "      <td>21000000</td>\n",
       "      <td>21000000</td>\n",
       "      <td>21000000</td>\n",
       "      <td>21000000</td>\n",
       "      <td>18000000</td>\n",
       "      <td>18000000</td>\n",
       "      <td>...</td>\n",
       "      <td>9000000</td>\n",
       "      <td>9000000</td>\n",
       "      <td>9300000</td>\n",
       "      <td>9300000</td>\n",
       "      <td>9300000</td>\n",
       "      <td>9300000</td>\n",
       "      <td>9300000</td>\n",
       "      <td>9300000</td>\n",
       "      <td>8940000</td>\n",
       "      <td>381540000</td>\n",
       "    </tr>\n",
       "  </tbody>\n",
       "</table>\n",
       "<p>5 rows × 33 columns</p>\n",
       "</div>"
      ],
      "text/plain": [
       "                            Country      Coffee type    1990/91    1991/92  \\\n",
       "0                            Angola  Robusta/Arabica    1200000    1800000   \n",
       "1  Bolivia (Plurinational State of)          Arabica    1500000    1620000   \n",
       "2                            Brazil  Arabica/Robusta  492000000  510000000   \n",
       "3                           Burundi  Arabica/Robusta     120000      96000   \n",
       "4                           Ecuador  Arabica/Robusta   21000000   21000000   \n",
       "\n",
       "     1992/93    1993/94    1994/95    1995/96    1996/97    1997/98  ...  \\\n",
       "0    2100000    1200000    1500000     600000    1200000    2400000  ...   \n",
       "1    1650000    1710000    1770000    1830000    1890000    1950000  ...   \n",
       "2  534000000  546000000  558000000  606000000  660000000  690000000  ...   \n",
       "3     102000     114600     120000     120000     120000     120000  ...   \n",
       "4   21000000   21000000   21000000   21000000   18000000   18000000  ...   \n",
       "\n",
       "      2011/12     2012/13     2013/14     2014/15     2015/16     2016/17  \\\n",
       "0     1800000     1800000     1800000     1800000     1800000     1800000   \n",
       "1     2940000     3030000     3120000     3210000     3300000     3420000   \n",
       "2  1183200000  1219800000  1205100000  1219980000  1230480000  1273500000   \n",
       "3      120000      120000      120000      120000      120000      120000   \n",
       "4     9000000     9000000     9300000     9300000     9300000     9300000   \n",
       "\n",
       "      2017/18     2018/19     2019/20  Total_domestic_consumption  \n",
       "0     1800000     1800000     1800000                    46500000  \n",
       "1     3510000     3600000     3660000                    75180000  \n",
       "2  1319820000  1332000000  1320000000                 27824700000  \n",
       "3      120000      120000      120000                     3412020  \n",
       "4     9300000     9300000     8940000                   381540000  \n",
       "\n",
       "[5 rows x 33 columns]"
      ]
     },
     "execution_count": 97,
     "metadata": {},
     "output_type": "execute_result"
    }
   ],
   "source": [
    "coffee_domestic_consumption.head()"
   ]
  },
  {
   "cell_type": "code",
   "execution_count": 98,
   "id": "b37bb57e",
   "metadata": {},
   "outputs": [],
   "source": [
    "zero_coffee_domestic_consumption = coffee_domestic_consumption.query(\"Total_domestic_consumption == 0\") #Is there any 0 value?"
   ]
  },
  {
   "cell_type": "code",
   "execution_count": 99,
   "id": "af5f5b6e",
   "metadata": {},
   "outputs": [
    {
     "data": {
      "text/plain": [
       "Index([28, 42], dtype='int64')"
      ]
     },
     "execution_count": 99,
     "metadata": {},
     "output_type": "execute_result"
    }
   ],
   "source": [
    "zero_coffee_domestic_consumption.index # Yes there is."
   ]
  },
  {
   "cell_type": "code",
   "execution_count": 100,
   "id": "ba077e57",
   "metadata": {},
   "outputs": [],
   "source": [
    "coffee_domestic_consumption.drop(28,inplace = True) #removing one"
   ]
  },
  {
   "cell_type": "code",
   "execution_count": 101,
   "id": "dca7916b",
   "metadata": {},
   "outputs": [],
   "source": [
    "coffee_domestic_consumption.drop(42 , inplace = True) # removing other"
   ]
  },
  {
   "cell_type": "code",
   "execution_count": 102,
   "id": "e82948d8",
   "metadata": {},
   "outputs": [],
   "source": [
    "#There are no more 0 values! We can start."
   ]
  },
  {
   "cell_type": "code",
   "execution_count": 103,
   "id": "1d59a7ba",
   "metadata": {},
   "outputs": [],
   "source": [
    "# Sorting the values by the highest to the lowest\n",
    "coffee_domestic_consumption.sort_values(by = \"Total_domestic_consumption\",ascending = False , inplace = True)"
   ]
  },
  {
   "cell_type": "code",
   "execution_count": 104,
   "id": "51db5d1c",
   "metadata": {},
   "outputs": [],
   "source": [
    "# Splitting the most important columns\n",
    "coffee_total_consumption = coffee_domestic_consumption[[\"Country\",\"Total_domestic_consumption\"]]"
   ]
  },
  {
   "cell_type": "code",
   "execution_count": 105,
   "id": "8ca3cd02",
   "metadata": {},
   "outputs": [
    {
     "data": {
      "text/html": [
       "<div>\n",
       "<style scoped>\n",
       "    .dataframe tbody tr th:only-of-type {\n",
       "        vertical-align: middle;\n",
       "    }\n",
       "\n",
       "    .dataframe tbody tr th {\n",
       "        vertical-align: top;\n",
       "    }\n",
       "\n",
       "    .dataframe thead th {\n",
       "        text-align: right;\n",
       "    }\n",
       "</style>\n",
       "<table border=\"1\" class=\"dataframe\">\n",
       "  <thead>\n",
       "    <tr style=\"text-align: right;\">\n",
       "      <th></th>\n",
       "      <th>Country</th>\n",
       "      <th>Total_domestic_consumption</th>\n",
       "    </tr>\n",
       "  </thead>\n",
       "  <tbody>\n",
       "    <tr>\n",
       "      <th>2</th>\n",
       "      <td>Brazil</td>\n",
       "      <td>27824700000</td>\n",
       "    </tr>\n",
       "    <tr>\n",
       "      <th>5</th>\n",
       "      <td>Indonesia</td>\n",
       "      <td>4920480000</td>\n",
       "    </tr>\n",
       "    <tr>\n",
       "      <th>29</th>\n",
       "      <td>Ethiopia</td>\n",
       "      <td>4536540000</td>\n",
       "    </tr>\n",
       "    <tr>\n",
       "      <th>41</th>\n",
       "      <td>Mexico</td>\n",
       "      <td>3189660000</td>\n",
       "    </tr>\n",
       "    <tr>\n",
       "      <th>18</th>\n",
       "      <td>Philippines</td>\n",
       "      <td>2807280000</td>\n",
       "    </tr>\n",
       "  </tbody>\n",
       "</table>\n",
       "</div>"
      ],
      "text/plain": [
       "        Country  Total_domestic_consumption\n",
       "2        Brazil                 27824700000\n",
       "5     Indonesia                  4920480000\n",
       "29     Ethiopia                  4536540000\n",
       "41       Mexico                  3189660000\n",
       "18  Philippines                  2807280000"
      ]
     },
     "execution_count": 105,
     "metadata": {},
     "output_type": "execute_result"
    }
   ],
   "source": [
    "coffee_total_consumption.head()"
   ]
  },
  {
   "cell_type": "code",
   "execution_count": 106,
   "id": "5146df1b",
   "metadata": {},
   "outputs": [],
   "source": [
    "#Changing the index, to start with 1\n",
    "coffee_total_consumption.index = range(coffee_total_consumption.shape[0])"
   ]
  },
  {
   "cell_type": "code",
   "execution_count": 107,
   "id": "75e8cc58",
   "metadata": {},
   "outputs": [],
   "source": [
    "coffee_total_consumption.index += 1"
   ]
  },
  {
   "cell_type": "code",
   "execution_count": 108,
   "id": "94e496cc",
   "metadata": {},
   "outputs": [],
   "source": [
    "cdc = coffee_domestic_consumption "
   ]
  },
  {
   "cell_type": "code",
   "execution_count": 109,
   "id": "b43efca0",
   "metadata": {},
   "outputs": [],
   "source": [
    "brazil = cdc[cdc[\"Country\"] == \"Brazil\"] #choosing brazil"
   ]
  },
  {
   "cell_type": "code",
   "execution_count": 110,
   "id": "26166e08",
   "metadata": {},
   "outputs": [
    {
     "data": {
      "text/html": [
       "<div>\n",
       "<style scoped>\n",
       "    .dataframe tbody tr th:only-of-type {\n",
       "        vertical-align: middle;\n",
       "    }\n",
       "\n",
       "    .dataframe tbody tr th {\n",
       "        vertical-align: top;\n",
       "    }\n",
       "\n",
       "    .dataframe thead th {\n",
       "        text-align: right;\n",
       "    }\n",
       "</style>\n",
       "<table border=\"1\" class=\"dataframe\">\n",
       "  <thead>\n",
       "    <tr style=\"text-align: right;\">\n",
       "      <th></th>\n",
       "      <th>Country</th>\n",
       "      <th>Coffee type</th>\n",
       "      <th>1990/91</th>\n",
       "      <th>1991/92</th>\n",
       "      <th>1992/93</th>\n",
       "      <th>1993/94</th>\n",
       "      <th>1994/95</th>\n",
       "      <th>1995/96</th>\n",
       "      <th>1996/97</th>\n",
       "      <th>1997/98</th>\n",
       "      <th>...</th>\n",
       "      <th>2011/12</th>\n",
       "      <th>2012/13</th>\n",
       "      <th>2013/14</th>\n",
       "      <th>2014/15</th>\n",
       "      <th>2015/16</th>\n",
       "      <th>2016/17</th>\n",
       "      <th>2017/18</th>\n",
       "      <th>2018/19</th>\n",
       "      <th>2019/20</th>\n",
       "      <th>Total_domestic_consumption</th>\n",
       "    </tr>\n",
       "  </thead>\n",
       "  <tbody>\n",
       "    <tr>\n",
       "      <th>2</th>\n",
       "      <td>Brazil</td>\n",
       "      <td>Arabica/Robusta</td>\n",
       "      <td>492000000</td>\n",
       "      <td>510000000</td>\n",
       "      <td>534000000</td>\n",
       "      <td>546000000</td>\n",
       "      <td>558000000</td>\n",
       "      <td>606000000</td>\n",
       "      <td>660000000</td>\n",
       "      <td>690000000</td>\n",
       "      <td>...</td>\n",
       "      <td>1183200000</td>\n",
       "      <td>1219800000</td>\n",
       "      <td>1205100000</td>\n",
       "      <td>1219980000</td>\n",
       "      <td>1230480000</td>\n",
       "      <td>1273500000</td>\n",
       "      <td>1319820000</td>\n",
       "      <td>1332000000</td>\n",
       "      <td>1320000000</td>\n",
       "      <td>27824700000</td>\n",
       "    </tr>\n",
       "  </tbody>\n",
       "</table>\n",
       "<p>1 rows × 33 columns</p>\n",
       "</div>"
      ],
      "text/plain": [
       "  Country      Coffee type    1990/91    1991/92    1992/93    1993/94  \\\n",
       "2  Brazil  Arabica/Robusta  492000000  510000000  534000000  546000000   \n",
       "\n",
       "     1994/95    1995/96    1996/97    1997/98  ...     2011/12     2012/13  \\\n",
       "2  558000000  606000000  660000000  690000000  ...  1183200000  1219800000   \n",
       "\n",
       "      2013/14     2014/15     2015/16     2016/17     2017/18     2018/19  \\\n",
       "2  1205100000  1219980000  1230480000  1273500000  1319820000  1332000000   \n",
       "\n",
       "      2019/20  Total_domestic_consumption  \n",
       "2  1320000000                 27824700000  \n",
       "\n",
       "[1 rows x 33 columns]"
      ]
     },
     "execution_count": 110,
     "metadata": {},
     "output_type": "execute_result"
    }
   ],
   "source": [
    "brazil"
   ]
  },
  {
   "cell_type": "code",
   "execution_count": 111,
   "id": "c172e90d",
   "metadata": {},
   "outputs": [],
   "source": [
    "brazil_nums = brazil.select_dtypes(include = \"number\") #we want just the numeric values!"
   ]
  },
  {
   "cell_type": "code",
   "execution_count": 112,
   "id": "3b0a76d7",
   "metadata": {},
   "outputs": [
    {
     "data": {
      "text/html": [
       "<div>\n",
       "<style scoped>\n",
       "    .dataframe tbody tr th:only-of-type {\n",
       "        vertical-align: middle;\n",
       "    }\n",
       "\n",
       "    .dataframe tbody tr th {\n",
       "        vertical-align: top;\n",
       "    }\n",
       "\n",
       "    .dataframe thead th {\n",
       "        text-align: right;\n",
       "    }\n",
       "</style>\n",
       "<table border=\"1\" class=\"dataframe\">\n",
       "  <thead>\n",
       "    <tr style=\"text-align: right;\">\n",
       "      <th></th>\n",
       "      <th>1990/91</th>\n",
       "      <th>1991/92</th>\n",
       "      <th>1992/93</th>\n",
       "      <th>1993/94</th>\n",
       "      <th>1994/95</th>\n",
       "      <th>1995/96</th>\n",
       "      <th>1996/97</th>\n",
       "      <th>1997/98</th>\n",
       "      <th>1998/99</th>\n",
       "      <th>1999/00</th>\n",
       "      <th>...</th>\n",
       "      <th>2011/12</th>\n",
       "      <th>2012/13</th>\n",
       "      <th>2013/14</th>\n",
       "      <th>2014/15</th>\n",
       "      <th>2015/16</th>\n",
       "      <th>2016/17</th>\n",
       "      <th>2017/18</th>\n",
       "      <th>2018/19</th>\n",
       "      <th>2019/20</th>\n",
       "      <th>Total_domestic_consumption</th>\n",
       "    </tr>\n",
       "  </thead>\n",
       "  <tbody>\n",
       "    <tr>\n",
       "      <th>2</th>\n",
       "      <td>492000000</td>\n",
       "      <td>510000000</td>\n",
       "      <td>534000000</td>\n",
       "      <td>546000000</td>\n",
       "      <td>558000000</td>\n",
       "      <td>606000000</td>\n",
       "      <td>660000000</td>\n",
       "      <td>690000000</td>\n",
       "      <td>732000000</td>\n",
       "      <td>762000000</td>\n",
       "      <td>...</td>\n",
       "      <td>1183200000</td>\n",
       "      <td>1219800000</td>\n",
       "      <td>1205100000</td>\n",
       "      <td>1219980000</td>\n",
       "      <td>1230480000</td>\n",
       "      <td>1273500000</td>\n",
       "      <td>1319820000</td>\n",
       "      <td>1332000000</td>\n",
       "      <td>1320000000</td>\n",
       "      <td>27824700000</td>\n",
       "    </tr>\n",
       "  </tbody>\n",
       "</table>\n",
       "<p>1 rows × 31 columns</p>\n",
       "</div>"
      ],
      "text/plain": [
       "     1990/91    1991/92    1992/93    1993/94    1994/95    1995/96  \\\n",
       "2  492000000  510000000  534000000  546000000  558000000  606000000   \n",
       "\n",
       "     1996/97    1997/98    1998/99    1999/00  ...     2011/12     2012/13  \\\n",
       "2  660000000  690000000  732000000  762000000  ...  1183200000  1219800000   \n",
       "\n",
       "      2013/14     2014/15     2015/16     2016/17     2017/18     2018/19  \\\n",
       "2  1205100000  1219980000  1230480000  1273500000  1319820000  1332000000   \n",
       "\n",
       "      2019/20  Total_domestic_consumption  \n",
       "2  1320000000                 27824700000  \n",
       "\n",
       "[1 rows x 31 columns]"
      ]
     },
     "execution_count": 112,
     "metadata": {},
     "output_type": "execute_result"
    }
   ],
   "source": [
    "brazil_nums"
   ]
  },
  {
   "cell_type": "code",
   "execution_count": 113,
   "id": "b58a3e4d",
   "metadata": {},
   "outputs": [],
   "source": [
    "bnv = brazil_nums.values #selecting just the values (without the columns)\n"
   ]
  },
  {
   "cell_type": "code",
   "execution_count": 114,
   "id": "f05dc7d3",
   "metadata": {},
   "outputs": [
    {
     "data": {
      "text/html": [
       "<div>\n",
       "<style scoped>\n",
       "    .dataframe tbody tr th:only-of-type {\n",
       "        vertical-align: middle;\n",
       "    }\n",
       "\n",
       "    .dataframe tbody tr th {\n",
       "        vertical-align: top;\n",
       "    }\n",
       "\n",
       "    .dataframe thead th {\n",
       "        text-align: right;\n",
       "    }\n",
       "</style>\n",
       "<table border=\"1\" class=\"dataframe\">\n",
       "  <thead>\n",
       "    <tr style=\"text-align: right;\">\n",
       "      <th></th>\n",
       "      <th>0</th>\n",
       "    </tr>\n",
       "  </thead>\n",
       "  <tbody>\n",
       "    <tr>\n",
       "      <th>0</th>\n",
       "      <td>492000000</td>\n",
       "    </tr>\n",
       "    <tr>\n",
       "      <th>1</th>\n",
       "      <td>510000000</td>\n",
       "    </tr>\n",
       "    <tr>\n",
       "      <th>2</th>\n",
       "      <td>534000000</td>\n",
       "    </tr>\n",
       "    <tr>\n",
       "      <th>3</th>\n",
       "      <td>546000000</td>\n",
       "    </tr>\n",
       "    <tr>\n",
       "      <th>4</th>\n",
       "      <td>558000000</td>\n",
       "    </tr>\n",
       "    <tr>\n",
       "      <th>5</th>\n",
       "      <td>606000000</td>\n",
       "    </tr>\n",
       "    <tr>\n",
       "      <th>6</th>\n",
       "      <td>660000000</td>\n",
       "    </tr>\n",
       "    <tr>\n",
       "      <th>7</th>\n",
       "      <td>690000000</td>\n",
       "    </tr>\n",
       "    <tr>\n",
       "      <th>8</th>\n",
       "      <td>732000000</td>\n",
       "    </tr>\n",
       "    <tr>\n",
       "      <th>9</th>\n",
       "      <td>762000000</td>\n",
       "    </tr>\n",
       "    <tr>\n",
       "      <th>10</th>\n",
       "      <td>792000000</td>\n",
       "    </tr>\n",
       "    <tr>\n",
       "      <th>11</th>\n",
       "      <td>815400000</td>\n",
       "    </tr>\n",
       "    <tr>\n",
       "      <th>12</th>\n",
       "      <td>825000000</td>\n",
       "    </tr>\n",
       "    <tr>\n",
       "      <th>13</th>\n",
       "      <td>852000000</td>\n",
       "    </tr>\n",
       "    <tr>\n",
       "      <th>14</th>\n",
       "      <td>896760000</td>\n",
       "    </tr>\n",
       "    <tr>\n",
       "      <th>15</th>\n",
       "      <td>932280000</td>\n",
       "    </tr>\n",
       "    <tr>\n",
       "      <th>16</th>\n",
       "      <td>979860000</td>\n",
       "    </tr>\n",
       "    <tr>\n",
       "      <th>17</th>\n",
       "      <td>1026600000</td>\n",
       "    </tr>\n",
       "    <tr>\n",
       "      <th>18</th>\n",
       "      <td>1059600000</td>\n",
       "    </tr>\n",
       "    <tr>\n",
       "      <th>19</th>\n",
       "      <td>1103400000</td>\n",
       "    </tr>\n",
       "    <tr>\n",
       "      <th>20</th>\n",
       "      <td>1147920000</td>\n",
       "    </tr>\n",
       "    <tr>\n",
       "      <th>21</th>\n",
       "      <td>1183200000</td>\n",
       "    </tr>\n",
       "    <tr>\n",
       "      <th>22</th>\n",
       "      <td>1219800000</td>\n",
       "    </tr>\n",
       "    <tr>\n",
       "      <th>23</th>\n",
       "      <td>1205100000</td>\n",
       "    </tr>\n",
       "    <tr>\n",
       "      <th>24</th>\n",
       "      <td>1219980000</td>\n",
       "    </tr>\n",
       "    <tr>\n",
       "      <th>25</th>\n",
       "      <td>1230480000</td>\n",
       "    </tr>\n",
       "    <tr>\n",
       "      <th>26</th>\n",
       "      <td>1273500000</td>\n",
       "    </tr>\n",
       "    <tr>\n",
       "      <th>27</th>\n",
       "      <td>1319820000</td>\n",
       "    </tr>\n",
       "    <tr>\n",
       "      <th>28</th>\n",
       "      <td>1332000000</td>\n",
       "    </tr>\n",
       "    <tr>\n",
       "      <th>29</th>\n",
       "      <td>1320000000</td>\n",
       "    </tr>\n",
       "    <tr>\n",
       "      <th>30</th>\n",
       "      <td>27824700000</td>\n",
       "    </tr>\n",
       "  </tbody>\n",
       "</table>\n",
       "</div>"
      ],
      "text/plain": [
       "              0\n",
       "0     492000000\n",
       "1     510000000\n",
       "2     534000000\n",
       "3     546000000\n",
       "4     558000000\n",
       "5     606000000\n",
       "6     660000000\n",
       "7     690000000\n",
       "8     732000000\n",
       "9     762000000\n",
       "10    792000000\n",
       "11    815400000\n",
       "12    825000000\n",
       "13    852000000\n",
       "14    896760000\n",
       "15    932280000\n",
       "16    979860000\n",
       "17   1026600000\n",
       "18   1059600000\n",
       "19   1103400000\n",
       "20   1147920000\n",
       "21   1183200000\n",
       "22   1219800000\n",
       "23   1205100000\n",
       "24   1219980000\n",
       "25   1230480000\n",
       "26   1273500000\n",
       "27   1319820000\n",
       "28   1332000000\n",
       "29   1320000000\n",
       "30  27824700000"
      ]
     },
     "execution_count": 114,
     "metadata": {},
     "output_type": "execute_result"
    }
   ],
   "source": [
    "pd.DataFrame(bnv.T) #transforming the numpyarray in a dataframe, setting the values in a vertical direction"
   ]
  },
  {
   "cell_type": "code",
   "execution_count": 115,
   "id": "7b53335e",
   "metadata": {},
   "outputs": [],
   "source": [
    "bnc = brazil_nums.columns #setting the columns as index"
   ]
  },
  {
   "cell_type": "code",
   "execution_count": 116,
   "id": "15a685f9",
   "metadata": {},
   "outputs": [
    {
     "data": {
      "text/html": [
       "<div>\n",
       "<style scoped>\n",
       "    .dataframe tbody tr th:only-of-type {\n",
       "        vertical-align: middle;\n",
       "    }\n",
       "\n",
       "    .dataframe tbody tr th {\n",
       "        vertical-align: top;\n",
       "    }\n",
       "\n",
       "    .dataframe thead th {\n",
       "        text-align: right;\n",
       "    }\n",
       "</style>\n",
       "<table border=\"1\" class=\"dataframe\">\n",
       "  <thead>\n",
       "    <tr style=\"text-align: right;\">\n",
       "      <th></th>\n",
       "      <th>Valores</th>\n",
       "    </tr>\n",
       "    <tr>\n",
       "      <th>Anos</th>\n",
       "      <th></th>\n",
       "    </tr>\n",
       "  </thead>\n",
       "  <tbody>\n",
       "    <tr>\n",
       "      <th>1990/91</th>\n",
       "      <td>492000000</td>\n",
       "    </tr>\n",
       "    <tr>\n",
       "      <th>1991/92</th>\n",
       "      <td>510000000</td>\n",
       "    </tr>\n",
       "    <tr>\n",
       "      <th>1992/93</th>\n",
       "      <td>534000000</td>\n",
       "    </tr>\n",
       "    <tr>\n",
       "      <th>1993/94</th>\n",
       "      <td>546000000</td>\n",
       "    </tr>\n",
       "    <tr>\n",
       "      <th>1994/95</th>\n",
       "      <td>558000000</td>\n",
       "    </tr>\n",
       "    <tr>\n",
       "      <th>1995/96</th>\n",
       "      <td>606000000</td>\n",
       "    </tr>\n",
       "    <tr>\n",
       "      <th>1996/97</th>\n",
       "      <td>660000000</td>\n",
       "    </tr>\n",
       "    <tr>\n",
       "      <th>1997/98</th>\n",
       "      <td>690000000</td>\n",
       "    </tr>\n",
       "    <tr>\n",
       "      <th>1998/99</th>\n",
       "      <td>732000000</td>\n",
       "    </tr>\n",
       "    <tr>\n",
       "      <th>1999/00</th>\n",
       "      <td>762000000</td>\n",
       "    </tr>\n",
       "    <tr>\n",
       "      <th>2000/01</th>\n",
       "      <td>792000000</td>\n",
       "    </tr>\n",
       "    <tr>\n",
       "      <th>2001/02</th>\n",
       "      <td>815400000</td>\n",
       "    </tr>\n",
       "    <tr>\n",
       "      <th>2002/03</th>\n",
       "      <td>825000000</td>\n",
       "    </tr>\n",
       "    <tr>\n",
       "      <th>2003/04</th>\n",
       "      <td>852000000</td>\n",
       "    </tr>\n",
       "    <tr>\n",
       "      <th>2004/05</th>\n",
       "      <td>896760000</td>\n",
       "    </tr>\n",
       "    <tr>\n",
       "      <th>2005/06</th>\n",
       "      <td>932280000</td>\n",
       "    </tr>\n",
       "    <tr>\n",
       "      <th>2006/07</th>\n",
       "      <td>979860000</td>\n",
       "    </tr>\n",
       "    <tr>\n",
       "      <th>2007/08</th>\n",
       "      <td>1026600000</td>\n",
       "    </tr>\n",
       "    <tr>\n",
       "      <th>2008/09</th>\n",
       "      <td>1059600000</td>\n",
       "    </tr>\n",
       "    <tr>\n",
       "      <th>2009/10</th>\n",
       "      <td>1103400000</td>\n",
       "    </tr>\n",
       "    <tr>\n",
       "      <th>2010/11</th>\n",
       "      <td>1147920000</td>\n",
       "    </tr>\n",
       "    <tr>\n",
       "      <th>2011/12</th>\n",
       "      <td>1183200000</td>\n",
       "    </tr>\n",
       "    <tr>\n",
       "      <th>2012/13</th>\n",
       "      <td>1219800000</td>\n",
       "    </tr>\n",
       "    <tr>\n",
       "      <th>2013/14</th>\n",
       "      <td>1205100000</td>\n",
       "    </tr>\n",
       "    <tr>\n",
       "      <th>2014/15</th>\n",
       "      <td>1219980000</td>\n",
       "    </tr>\n",
       "    <tr>\n",
       "      <th>2015/16</th>\n",
       "      <td>1230480000</td>\n",
       "    </tr>\n",
       "    <tr>\n",
       "      <th>2016/17</th>\n",
       "      <td>1273500000</td>\n",
       "    </tr>\n",
       "    <tr>\n",
       "      <th>2017/18</th>\n",
       "      <td>1319820000</td>\n",
       "    </tr>\n",
       "    <tr>\n",
       "      <th>2018/19</th>\n",
       "      <td>1332000000</td>\n",
       "    </tr>\n",
       "    <tr>\n",
       "      <th>2019/20</th>\n",
       "      <td>1320000000</td>\n",
       "    </tr>\n",
       "    <tr>\n",
       "      <th>Total_domestic_consumption</th>\n",
       "      <td>27824700000</td>\n",
       "    </tr>\n",
       "  </tbody>\n",
       "</table>\n",
       "</div>"
      ],
      "text/plain": [
       "                                Valores\n",
       "Anos                                   \n",
       "1990/91                       492000000\n",
       "1991/92                       510000000\n",
       "1992/93                       534000000\n",
       "1993/94                       546000000\n",
       "1994/95                       558000000\n",
       "1995/96                       606000000\n",
       "1996/97                       660000000\n",
       "1997/98                       690000000\n",
       "1998/99                       732000000\n",
       "1999/00                       762000000\n",
       "2000/01                       792000000\n",
       "2001/02                       815400000\n",
       "2002/03                       825000000\n",
       "2003/04                       852000000\n",
       "2004/05                       896760000\n",
       "2005/06                       932280000\n",
       "2006/07                       979860000\n",
       "2007/08                      1026600000\n",
       "2008/09                      1059600000\n",
       "2009/10                      1103400000\n",
       "2010/11                      1147920000\n",
       "2011/12                      1183200000\n",
       "2012/13                      1219800000\n",
       "2013/14                      1205100000\n",
       "2014/15                      1219980000\n",
       "2015/16                      1230480000\n",
       "2016/17                      1273500000\n",
       "2017/18                      1319820000\n",
       "2018/19                      1332000000\n",
       "2019/20                      1320000000\n",
       "Total_domestic_consumption  27824700000"
      ]
     },
     "execution_count": 116,
     "metadata": {},
     "output_type": "execute_result"
    }
   ],
   "source": [
    "df = pd.DataFrame(bnv.T,index = bnc , columns = [\"Valores\"] ) #creating a new dataframe!\n",
    "df.index.name = \"Anos\"\n",
    "\n",
    "df"
   ]
  },
  {
   "cell_type": "code",
   "execution_count": 117,
   "id": "4768dceb",
   "metadata": {},
   "outputs": [],
   "source": [
    "df.drop(\"Total_domestic_consumption\", axis = 0 , inplace = True) #dropping the row about the sum of the values"
   ]
  },
  {
   "cell_type": "code",
   "execution_count": 118,
   "id": "243415bb",
   "metadata": {},
   "outputs": [
    {
     "data": {
      "text/plain": [
       "<Axes: title={'center': 'Coffee Consumption x Years'}, xlabel='Passing Years (1990-2020)', ylabel='Coffe Consumptions (Billions)'>"
      ]
     },
     "execution_count": 118,
     "metadata": {},
     "output_type": "execute_result"
    },
    {
     "data": {
      "image/png": "[encoded data removed]",
      "text/plain": [
       "<Figure size 1500x800 with 1 Axes>"
      ]
     },
     "metadata": {},
     "output_type": "display_data"
    }
   ],
   "source": [
    "import matplotlib.pyplot as plt\n",
    "%matplotlib inline\n",
    "\n",
    "fig = plt.figure(figsize =( 15,8))\n",
    "eixo = fig.add_axes([0,0,1,1])\n",
    "eixo.plot(df.index,df[\"Valores\"])\n",
    "eixo.set_title(\"Coffee Consumption x Years\",fontsize= 20)\n",
    "eixo.set_xlabel(\"Passing Years (1990-2020)\",fontsize = 15)\n",
    "eixo.set_ylabel(\"Coffe Consumptions (Billions)\",fontsize = 15)\n",
    "eixo\n",
    "\n",
    "#Time to plot!"
   ]
  },
  {
   "cell_type": "code",
   "execution_count": 119,
   "id": "85614d89",
   "metadata": {},
   "outputs": [
    {
     "data": {
      "application/vnd.plotly.v1+json": {
       "config": {
        "plotlyServerURL": "https://plot.ly"
       },
       "data": [
        {
         "alignmentgroup": "True",
         "bingroup": "x",
         "histfunc": "sum",
         "hovertemplate": "Anos=%{x}<br>sum of Valores=%{y}<extra></extra>",
         "legendgroup": "",
         "marker": {
          "color": "#636efa",
          "pattern": {
           "shape": ""
          }
         },
         "name": "",
         "offsetgroup": "",
         "orientation": "v",
         "showlegend": false,
         "type": "histogram",
         "x": [
          "1990/91",
          "1991/92",
          "1992/93",
          "1993/94",
          "1994/95",
          "1995/96",
          "1996/97",
          "1997/98",
          "1998/99",
          "1999/00",
          "2000/01",
          "2001/02",
          "2002/03",
          "2003/04",
          "2004/05",
          "2005/06",
          "2006/07",
          "2007/08",
          "2008/09",
          "2009/10",
          "2010/11",
          "2011/12",
          "2012/13",
          "2013/14",
          "2014/15",
          "2015/16",
          "2016/17",
          "2017/18",
          "2018/19",
          "2019/20"
         ],
         "xaxis": "x",
         "y": [
          492000000,
          510000000,
          534000000,
          546000000,
          558000000,
          606000000,
          660000000,
          690000000,
          732000000,
          762000000,
          792000000,
          815400000,
          825000000,
          852000000,
          896760000,
          932280000,
          979860000,
          1026600000,
          1059600000,
          1103400000,
          1147920000,
          1183200000,
          1219800000,
          1205100000,
          1219980000,
          1230480000,
          1273500000,
          1319820000,
          1332000000,
          1320000000
         ],
         "yaxis": "y"
        }
       ],
       "layout": {
        "barmode": "relative",
        "legend": {
         "tracegroupgap": 0
        },
        "margin": {
         "t": 60
        },
        "template": {
         "data": {
          "bar": [
           {
            "error_x": {
             "color": "#2a3f5f"
            },
            "error_y": {
             "color": "#2a3f5f"
            },
            "marker": {
             "line": {
              "color": "#E5ECF6",
              "width": 0.5
             },
             "pattern": {
              "fillmode": "overlay",
              "size": 10,
              "solidity": 0.2
             }
            },
            "type": "bar"
           }
          ],
          "barpolar": [
           {
            "marker": {
             "line": {
              "color": "#E5ECF6",
              "width": 0.5
             },
             "pattern": {
              "fillmode": "overlay",
              "size": 10,
              "solidity": 0.2
             }
            },
            "type": "barpolar"
           }
          ],
          "carpet": [
           {
            "aaxis": {
             "endlinecolor": "#2a3f5f",
             "gridcolor": "white",
             "linecolor": "white",
             "minorgridcolor": "white",
             "startlinecolor": "#2a3f5f"
            },
            "baxis": {
             "endlinecolor": "#2a3f5f",
             "gridcolor": "white",
             "linecolor": "white",
             "minorgridcolor": "white",
             "startlinecolor": "#2a3f5f"
            },
            "type": "carpet"
           }
          ],
          "choropleth": [
           {
            "colorbar": {
             "outlinewidth": 0,
             "ticks": ""
            },
            "type": "choropleth"
           }
          ],
          "contour": [
           {
            "colorbar": {
             "outlinewidth": 0,
             "ticks": ""
            },
            "colorscale": [
             [
              0,
              "#0d0887"
             ],
             [
              0.1111111111111111,
              "#46039f"
             ],
             [
              0.2222222222222222,
              "#7201a8"
             ],
             [
              0.3333333333333333,
              "#9c179e"
             ],
             [
              0.4444444444444444,
              "#bd3786"
             ],
             [
              0.5555555555555556,
              "#d8576b"
             ],
             [
              0.6666666666666666,
              "#ed7953"
             ],
             [
              0.7777777777777778,
              "#fb9f3a"
             ],
             [
              0.8888888888888888,
              "#fdca26"
             ],
             [
              1,
              "#f0f921"
             ]
            ],
            "type": "contour"
           }
          ],
          "contourcarpet": [
           {
            "colorbar": {
             "outlinewidth": 0,
             "ticks": ""
            },
            "type": "contourcarpet"
           }
          ],
          "heatmap": [
           {
            "colorbar": {
             "outlinewidth": 0,
             "ticks": ""
            },
            "colorscale": [
             [
              0,
              "#0d0887"
             ],
             [
              0.1111111111111111,
              "#46039f"
             ],
             [
              0.2222222222222222,
              "#7201a8"
             ],
             [
              0.3333333333333333,
              "#9c179e"
             ],
             [
              0.4444444444444444,
              "#bd3786"
             ],
             [
              0.5555555555555556,
              "#d8576b"
             ],
             [
              0.6666666666666666,
              "#ed7953"
             ],
             [
              0.7777777777777778,
              "#fb9f3a"
             ],
             [
              0.8888888888888888,
              "#fdca26"
             ],
             [
              1,
              "#f0f921"
             ]
            ],
            "type": "heatmap"
           }
          ],
          "heatmapgl": [
           {
            "colorbar": {
             "outlinewidth": 0,
             "ticks": ""
            },
            "colorscale": [
             [
              0,
              "#0d0887"
             ],
             [
              0.1111111111111111,
              "#46039f"
             ],
             [
              0.2222222222222222,
              "#7201a8"
             ],
             [
              0.3333333333333333,
              "#9c179e"
             ],
             [
              0.4444444444444444,
              "#bd3786"
             ],
             [
              0.5555555555555556,
              "#d8576b"
             ],
             [
              0.6666666666666666,
              "#ed7953"
             ],
             [
              0.7777777777777778,
              "#fb9f3a"
             ],
             [
              0.8888888888888888,
              "#fdca26"
             ],
             [
              1,
              "#f0f921"
             ]
            ],
            "type": "heatmapgl"
           }
          ],
          "histogram": [
           {
            "marker": {
             "pattern": {
              "fillmode": "overlay",
              "size": 10,
              "solidity": 0.2
             }
            },
            "type": "histogram"
           }
          ],
          "histogram2d": [
           {
            "colorbar": {
             "outlinewidth": 0,
             "ticks": ""
            },
            "colorscale": [
             [
              0,
              "#0d0887"
             ],
             [
              0.1111111111111111,
              "#46039f"
             ],
             [
              0.2222222222222222,
              "#7201a8"
             ],
             [
              0.3333333333333333,
              "#9c179e"
             ],
             [
              0.4444444444444444,
              "#bd3786"
             ],
             [
              0.5555555555555556,
              "#d8576b"
             ],
             [
              0.6666666666666666,
              "#ed7953"
             ],
             [
              0.7777777777777778,
              "#fb9f3a"
             ],
             [
              0.8888888888888888,
              "#fdca26"
             ],
             [
              1,
              "#f0f921"
             ]
            ],
            "type": "histogram2d"
           }
          ],
          "histogram2dcontour": [
           {
            "colorbar": {
             "outlinewidth": 0,
             "ticks": ""
            },
            "colorscale": [
             [
              0,
              "#0d0887"
             ],
             [
              0.1111111111111111,
              "#46039f"
             ],
             [
              0.2222222222222222,
              "#7201a8"
             ],
             [
              0.3333333333333333,
              "#9c179e"
             ],
             [
              0.4444444444444444,
              "#bd3786"
             ],
             [
              0.5555555555555556,
              "#d8576b"
             ],
             [
              0.6666666666666666,
              "#ed7953"
             ],
             [
              0.7777777777777778,
              "#fb9f3a"
             ],
             [
              0.8888888888888888,
              "#fdca26"
             ],
             [
              1,
              "#f0f921"
             ]
            ],
            "type": "histogram2dcontour"
           }
          ],
          "mesh3d": [
           {
            "colorbar": {
             "outlinewidth": 0,
             "ticks": ""
            },
            "type": "mesh3d"
           }
          ],
          "parcoords": [
           {
            "line": {
             "colorbar": {
              "outlinewidth": 0,
              "ticks": ""
             }
            },
            "type": "parcoords"
           }
          ],
          "pie": [
           {
            "automargin": true,
            "type": "pie"
           }
          ],
          "scatter": [
           {
            "fillpattern": {
             "fillmode": "overlay",
             "size": 10,
             "solidity": 0.2
            },
            "type": "scatter"
           }
          ],
          "scatter3d": [
           {
            "line": {
             "colorbar": {
              "outlinewidth": 0,
              "ticks": ""
             }
            },
            "marker": {
             "colorbar": {
              "outlinewidth": 0,
              "ticks": ""
             }
            },
            "type": "scatter3d"
           }
          ],
          "scattercarpet": [
           {
            "marker": {
             "colorbar": {
              "outlinewidth": 0,
              "ticks": ""
             }
            },
            "type": "scattercarpet"
           }
          ],
          "scattergeo": [
           {
            "marker": {
             "colorbar": {
              "outlinewidth": 0,
              "ticks": ""
             }
            },
            "type": "scattergeo"
           }
          ],
          "scattergl": [
           {
            "marker": {
             "colorbar": {
              "outlinewidth": 0,
              "ticks": ""
             }
            },
            "type": "scattergl"
           }
          ],
          "scattermapbox": [
           {
            "marker": {
             "colorbar": {
              "outlinewidth": 0,
              "ticks": ""
             }
            },
            "type": "scattermapbox"
           }
          ],
          "scatterpolar": [
           {
            "marker": {
             "colorbar": {
              "outlinewidth": 0,
              "ticks": ""
             }
            },
            "type": "scatterpolar"
           }
          ],
          "scatterpolargl": [
           {
            "marker": {
             "colorbar": {
              "outlinewidth": 0,
              "ticks": ""
             }
            },
            "type": "scatterpolargl"
           }
          ],
          "scatterternary": [
           {
            "marker": {
             "colorbar": {
              "outlinewidth": 0,
              "ticks": ""
             }
            },
            "type": "scatterternary"
           }
          ],
          "surface": [
           {
            "colorbar": {
             "outlinewidth": 0,
             "ticks": ""
            },
            "colorscale": [
             [
              0,
              "#0d0887"
             ],
             [
              0.1111111111111111,
              "#46039f"
             ],
             [
              0.2222222222222222,
              "#7201a8"
             ],
             [
              0.3333333333333333,
              "#9c179e"
             ],
             [
              0.4444444444444444,
              "#bd3786"
             ],
             [
              0.5555555555555556,
              "#d8576b"
             ],
             [
              0.6666666666666666,
              "#ed7953"
             ],
             [
              0.7777777777777778,
              "#fb9f3a"
             ],
             [
              0.8888888888888888,
              "#fdca26"
             ],
             [
              1,
              "#f0f921"
             ]
            ],
            "type": "surface"
           }
          ],
          "table": [
           {
            "cells": {
             "fill": {
              "color": "#EBF0F8"
             },
             "line": {
              "color": "white"
             }
            },
            "header": {
             "fill": {
              "color": "#C8D4E3"
             },
             "line": {
              "color": "white"
             }
            },
            "type": "table"
           }
          ]
         },
         "layout": {
          "annotationdefaults": {
           "arrowcolor": "#2a3f5f",
           "arrowhead": 0,
           "arrowwidth": 1
          },
          "autotypenumbers": "strict",
          "coloraxis": {
           "colorbar": {
            "outlinewidth": 0,
            "ticks": ""
           }
          },
          "colorscale": {
           "diverging": [
            [
             0,
             "#8e0152"
            ],
            [
             0.1,
             "#c51b7d"
            ],
            [
             0.2,
             "#de77ae"
            ],
            [
             0.3,
             "#f1b6da"
            ],
            [
             0.4,
             "#fde0ef"
            ],
            [
             0.5,
             "#f7f7f7"
            ],
            [
             0.6,
             "#e6f5d0"
            ],
            [
             0.7,
             "#b8e186"
            ],
            [
             0.8,
             "#7fbc41"
            ],
            [
             0.9,
             "#4d9221"
            ],
            [
             1,
             "#276419"
            ]
           ],
           "sequential": [
            [
             0,
             "#0d0887"
            ],
            [
             0.1111111111111111,
             "#46039f"
            ],
            [
             0.2222222222222222,
             "#7201a8"
            ],
            [
             0.3333333333333333,
             "#9c179e"
            ],
            [
             0.4444444444444444,
             "#bd3786"
            ],
            [
             0.5555555555555556,
             "#d8576b"
            ],
            [
             0.6666666666666666,
             "#ed7953"
            ],
            [
             0.7777777777777778,
             "#fb9f3a"
            ],
            [
             0.8888888888888888,
             "#fdca26"
            ],
            [
             1,
             "#f0f921"
            ]
           ],
           "sequentialminus": [
            [
             0,
             "#0d0887"
            ],
            [
             0.1111111111111111,
             "#46039f"
            ],
            [
             0.2222222222222222,
             "#7201a8"
            ],
            [
             0.3333333333333333,
             "#9c179e"
            ],
            [
             0.4444444444444444,
             "#bd3786"
            ],
            [
             0.5555555555555556,
             "#d8576b"
            ],
            [
             0.6666666666666666,
             "#ed7953"
            ],
            [
             0.7777777777777778,
             "#fb9f3a"
            ],
            [
             0.8888888888888888,
             "#fdca26"
            ],
            [
             1,
             "#f0f921"
            ]
           ]
          },
          "colorway": [
           "#636efa",
           "#EF553B",
           "#00cc96",
           "#ab63fa",
           "#FFA15A",
           "#19d3f3",
           "#FF6692",
           "#B6E880",
           "#FF97FF",
           "#FECB52"
          ],
          "font": {
           "color": "#2a3f5f"
          },
          "geo": {
           "bgcolor": "white",
           "lakecolor": "white",
           "landcolor": "#E5ECF6",
           "showlakes": true,
           "showland": true,
           "subunitcolor": "white"
          },
          "hoverlabel": {
           "align": "left"
          },
          "hovermode": "closest",
          "mapbox": {
           "style": "light"
          },
          "paper_bgcolor": "white",
          "plot_bgcolor": "#E5ECF6",
          "polar": {
           "angularaxis": {
            "gridcolor": "white",
            "linecolor": "white",
            "ticks": ""
           },
           "bgcolor": "#E5ECF6",
           "radialaxis": {
            "gridcolor": "white",
            "linecolor": "white",
            "ticks": ""
           }
          },
          "scene": {
           "xaxis": {
            "backgroundcolor": "#E5ECF6",
            "gridcolor": "white",
            "gridwidth": 2,
            "linecolor": "white",
            "showbackground": true,
            "ticks": "",
            "zerolinecolor": "white"
           },
           "yaxis": {
            "backgroundcolor": "#E5ECF6",
            "gridcolor": "white",
            "gridwidth": 2,
            "linecolor": "white",
            "showbackground": true,
            "ticks": "",
            "zerolinecolor": "white"
           },
           "zaxis": {
            "backgroundcolor": "#E5ECF6",
            "gridcolor": "white",
            "gridwidth": 2,
            "linecolor": "white",
            "showbackground": true,
            "ticks": "",
            "zerolinecolor": "white"
           }
          },
          "shapedefaults": {
           "line": {
            "color": "#2a3f5f"
           }
          },
          "ternary": {
           "aaxis": {
            "gridcolor": "white",
            "linecolor": "white",
            "ticks": ""
           },
           "baxis": {
            "gridcolor": "white",
            "linecolor": "white",
            "ticks": ""
           },
           "bgcolor": "#E5ECF6",
           "caxis": {
            "gridcolor": "white",
            "linecolor": "white",
            "ticks": ""
           }
          },
          "title": {
           "x": 0.05
          },
          "xaxis": {
           "automargin": true,
           "gridcolor": "white",
           "linecolor": "white",
           "ticks": "",
           "title": {
            "standoff": 15
           },
           "zerolinecolor": "white",
           "zerolinewidth": 2
          },
          "yaxis": {
           "automargin": true,
           "gridcolor": "white",
           "linecolor": "white",
           "ticks": "",
           "title": {
            "standoff": 15
           },
           "zerolinecolor": "white",
           "zerolinewidth": 2
          }
         }
        },
        "xaxis": {
         "anchor": "y",
         "domain": [
          0,
          1
         ],
         "title": {
          "text": "Anos"
         }
        },
        "yaxis": {
         "anchor": "x",
         "domain": [
          0,
          1
         ],
         "title": {
          "text": "sum of Valores"
         }
        }
       }
      },
      "text/html": [
       "<div>                            <div id=\"c8397e15-db7a-4621-9435-3d5a0e5092f3\" class=\"plotly-graph-div\" style=\"height:525px; width:100%;\"></div>            <script type=\"text/javascript\">                require([\"plotly\"], function(Plotly) {                    window.PLOTLYENV=window.PLOTLYENV || {};                                    if (document.getElementById(\"c8397e15-db7a-4621-9435-3d5a0e5092f3\")) {                    Plotly.newPlot(                        \"c8397e15-db7a-4621-9435-3d5a0e5092f3\",                        [{\"alignmentgroup\":\"True\",\"bingroup\":\"x\",\"histfunc\":\"sum\",\"hovertemplate\":\"Anos=%{x}<br>sum of Valores=%{y}<extra></extra>\",\"legendgroup\":\"\",\"marker\":{\"color\":\"#636efa\",\"pattern\":{\"shape\":\"\"}},\"name\":\"\",\"offsetgroup\":\"\",\"orientation\":\"v\",\"showlegend\":false,\"x\":[\"1990/91\",\"1991/92\",\"1992/93\",\"1993/94\",\"1994/95\",\"1995/96\",\"1996/97\",\"1997/98\",\"1998/99\",\"1999/00\",\"2000/01\",\"2001/02\",\"2002/03\",\"2003/04\",\"2004/05\",\"2005/06\",\"2006/07\",\"2007/08\",\"2008/09\",\"2009/10\",\"2010/11\",\"2011/12\",\"2012/13\",\"2013/14\",\"2014/15\",\"2015/16\",\"2016/17\",\"2017/18\",\"2018/19\",\"2019/20\"],\"xaxis\":\"x\",\"y\":[492000000,510000000,534000000,546000000,558000000,606000000,660000000,690000000,732000000,762000000,792000000,815400000,825000000,852000000,896760000,932280000,979860000,1026600000,1059600000,1103400000,1147920000,1183200000,1219800000,1205100000,1219980000,1230480000,1273500000,1319820000,1332000000,1320000000],\"yaxis\":\"y\",\"type\":\"histogram\"}],                        {\"template\":{\"data\":{\"histogram2dcontour\":[{\"type\":\"histogram2dcontour\",\"colorbar\":{\"outlinewidth\":0,\"ticks\":\"\"},\"colorscale\":[[0.0,\"#0d0887\"],[0.1111111111111111,\"#46039f\"],[0.2222222222222222,\"#7201a8\"],[0.3333333333333333,\"#9c179e\"],[0.4444444444444444,\"#bd3786\"],[0.5555555555555556,\"#d8576b\"],[0.6666666666666666,\"#ed7953\"],[0.7777777777777778,\"#fb9f3a\"],[0.8888888888888888,\"#fdca26\"],[1.0,\"#f0f921\"]]}],\"choropleth\":[{\"type\":\"choropleth\",\"colorbar\":{\"outlinewidth\":0,\"ticks\":\"\"}}],\"histogram2d\":[{\"type\":\"histogram2d\",\"colorbar\":{\"outlinewidth\":0,\"ticks\":\"\"},\"colorscale\":[[0.0,\"#0d0887\"],[0.1111111111111111,\"#46039f\"],[0.2222222222222222,\"#7201a8\"],[0.3333333333333333,\"#9c179e\"],[0.4444444444444444,\"#bd3786\"],[0.5555555555555556,\"#d8576b\"],[0.6666666666666666,\"#ed7953\"],[0.7777777777777778,\"#fb9f3a\"],[0.8888888888888888,\"#fdca26\"],[1.0,\"#f0f921\"]]}],\"heatmap\":[{\"type\":\"heatmap\",\"colorbar\":{\"outlinewidth\":0,\"ticks\":\"\"},\"colorscale\":[[0.0,\"#0d0887\"],[0.1111111111111111,\"#46039f\"],[0.2222222222222222,\"#7201a8\"],[0.3333333333333333,\"#9c179e\"],[0.4444444444444444,\"#bd3786\"],[0.5555555555555556,\"#d8576b\"],[0.6666666666666666,\"#ed7953\"],[0.7777777777777778,\"#fb9f3a\"],[0.8888888888888888,\"#fdca26\"],[1.0,\"#f0f921\"]]}],\"heatmapgl\":[{\"type\":\"heatmapgl\",\"colorbar\":{\"outlinewidth\":0,\"ticks\":\"\"},\"colorscale\":[[0.0,\"#0d0887\"],[0.1111111111111111,\"#46039f\"],[0.2222222222222222,\"#7201a8\"],[0.3333333333333333,\"#9c179e\"],[0.4444444444444444,\"#bd3786\"],[0.5555555555555556,\"#d8576b\"],[0.6666666666666666,\"#ed7953\"],[0.7777777777777778,\"#fb9f3a\"],[0.8888888888888888,\"#fdca26\"],[1.0,\"#f0f921\"]]}],\"contourcarpet\":[{\"type\":\"contourcarpet\",\"colorbar\":{\"outlinewidth\":0,\"ticks\":\"\"}}],\"contour\":[{\"type\":\"contour\",\"colorbar\":{\"outlinewidth\":0,\"ticks\":\"\"},\"colorscale\":[[0.0,\"#0d0887\"],[0.1111111111111111,\"#46039f\"],[0.2222222222222222,\"#7201a8\"],[0.3333333333333333,\"#9c179e\"],[0.4444444444444444,\"#bd3786\"],[0.5555555555555556,\"#d8576b\"],[0.6666666666666666,\"#ed7953\"],[0.7777777777777778,\"#fb9f3a\"],[0.8888888888888888,\"#fdca26\"],[1.0,\"#f0f921\"]]}],\"surface\":[{\"type\":\"surface\",\"colorbar\":{\"outlinewidth\":0,\"ticks\":\"\"},\"colorscale\":[[0.0,\"#0d0887\"],[0.1111111111111111,\"#46039f\"],[0.2222222222222222,\"#7201a8\"],[0.3333333333333333,\"#9c179e\"],[0.4444444444444444,\"#bd3786\"],[0.5555555555555556,\"#d8576b\"],[0.6666666666666666,\"#ed7953\"],[0.7777777777777778,\"#fb9f3a\"],[0.8888888888888888,\"#fdca26\"],[1.0,\"#f0f921\"]]}],\"mesh3d\":[{\"type\":\"mesh3d\",\"colorbar\":{\"outlinewidth\":0,\"ticks\":\"\"}}],\"scatter\":[{\"fillpattern\":{\"fillmode\":\"overlay\",\"size\":10,\"solidity\":0.2},\"type\":\"scatter\"}],\"parcoords\":[{\"type\":\"parcoords\",\"line\":{\"colorbar\":{\"outlinewidth\":0,\"ticks\":\"\"}}}],\"scatterpolargl\":[{\"type\":\"scatterpolargl\",\"marker\":{\"colorbar\":{\"outlinewidth\":0,\"ticks\":\"\"}}}],\"bar\":[{\"error_x\":{\"color\":\"#2a3f5f\"},\"error_y\":{\"color\":\"#2a3f5f\"},\"marker\":{\"line\":{\"color\":\"#E5ECF6\",\"width\":0.5},\"pattern\":{\"fillmode\":\"overlay\",\"size\":10,\"solidity\":0.2}},\"type\":\"bar\"}],\"scattergeo\":[{\"type\":\"scattergeo\",\"marker\":{\"colorbar\":{\"outlinewidth\":0,\"ticks\":\"\"}}}],\"scatterpolar\":[{\"type\":\"scatterpolar\",\"marker\":{\"colorbar\":{\"outlinewidth\":0,\"ticks\":\"\"}}}],\"histogram\":[{\"marker\":{\"pattern\":{\"fillmode\":\"overlay\",\"size\":10,\"solidity\":0.2}},\"type\":\"histogram\"}],\"scattergl\":[{\"type\":\"scattergl\",\"marker\":{\"colorbar\":{\"outlinewidth\":0,\"ticks\":\"\"}}}],\"scatter3d\":[{\"type\":\"scatter3d\",\"line\":{\"colorbar\":{\"outlinewidth\":0,\"ticks\":\"\"}},\"marker\":{\"colorbar\":{\"outlinewidth\":0,\"ticks\":\"\"}}}],\"scattermapbox\":[{\"type\":\"scattermapbox\",\"marker\":{\"colorbar\":{\"outlinewidth\":0,\"ticks\":\"\"}}}],\"scatterternary\":[{\"type\":\"scatterternary\",\"marker\":{\"colorbar\":{\"outlinewidth\":0,\"ticks\":\"\"}}}],\"scattercarpet\":[{\"type\":\"scattercarpet\",\"marker\":{\"colorbar\":{\"outlinewidth\":0,\"ticks\":\"\"}}}],\"carpet\":[{\"aaxis\":{\"endlinecolor\":\"#2a3f5f\",\"gridcolor\":\"white\",\"linecolor\":\"white\",\"minorgridcolor\":\"white\",\"startlinecolor\":\"#2a3f5f\"},\"baxis\":{\"endlinecolor\":\"#2a3f5f\",\"gridcolor\":\"white\",\"linecolor\":\"white\",\"minorgridcolor\":\"white\",\"startlinecolor\":\"#2a3f5f\"},\"type\":\"carpet\"}],\"table\":[{\"cells\":{\"fill\":{\"color\":\"#EBF0F8\"},\"line\":{\"color\":\"white\"}},\"header\":{\"fill\":{\"color\":\"#C8D4E3\"},\"line\":{\"color\":\"white\"}},\"type\":\"table\"}],\"barpolar\":[{\"marker\":{\"line\":{\"color\":\"#E5ECF6\",\"width\":0.5},\"pattern\":{\"fillmode\":\"overlay\",\"size\":10,\"solidity\":0.2}},\"type\":\"barpolar\"}],\"pie\":[{\"automargin\":true,\"type\":\"pie\"}]},\"layout\":{\"autotypenumbers\":\"strict\",\"colorway\":[\"#636efa\",\"#EF553B\",\"#00cc96\",\"#ab63fa\",\"#FFA15A\",\"#19d3f3\",\"#FF6692\",\"#B6E880\",\"#FF97FF\",\"#FECB52\"],\"font\":{\"color\":\"#2a3f5f\"},\"hovermode\":\"closest\",\"hoverlabel\":{\"align\":\"left\"},\"paper_bgcolor\":\"white\",\"plot_bgcolor\":\"#E5ECF6\",\"polar\":{\"bgcolor\":\"#E5ECF6\",\"angularaxis\":{\"gridcolor\":\"white\",\"linecolor\":\"white\",\"ticks\":\"\"},\"radialaxis\":{\"gridcolor\":\"white\",\"linecolor\":\"white\",\"ticks\":\"\"}},\"ternary\":{\"bgcolor\":\"#E5ECF6\",\"aaxis\":{\"gridcolor\":\"white\",\"linecolor\":\"white\",\"ticks\":\"\"},\"baxis\":{\"gridcolor\":\"white\",\"linecolor\":\"white\",\"ticks\":\"\"},\"caxis\":{\"gridcolor\":\"white\",\"linecolor\":\"white\",\"ticks\":\"\"}},\"coloraxis\":{\"colorbar\":{\"outlinewidth\":0,\"ticks\":\"\"}},\"colorscale\":{\"sequential\":[[0.0,\"#0d0887\"],[0.1111111111111111,\"#46039f\"],[0.2222222222222222,\"#7201a8\"],[0.3333333333333333,\"#9c179e\"],[0.4444444444444444,\"#bd3786\"],[0.5555555555555556,\"#d8576b\"],[0.6666666666666666,\"#ed7953\"],[0.7777777777777778,\"#fb9f3a\"],[0.8888888888888888,\"#fdca26\"],[1.0,\"#f0f921\"]],\"sequentialminus\":[[0.0,\"#0d0887\"],[0.1111111111111111,\"#46039f\"],[0.2222222222222222,\"#7201a8\"],[0.3333333333333333,\"#9c179e\"],[0.4444444444444444,\"#bd3786\"],[0.5555555555555556,\"#d8576b\"],[0.6666666666666666,\"#ed7953\"],[0.7777777777777778,\"#fb9f3a\"],[0.8888888888888888,\"#fdca26\"],[1.0,\"#f0f921\"]],\"diverging\":[[0,\"#8e0152\"],[0.1,\"#c51b7d\"],[0.2,\"#de77ae\"],[0.3,\"#f1b6da\"],[0.4,\"#fde0ef\"],[0.5,\"#f7f7f7\"],[0.6,\"#e6f5d0\"],[0.7,\"#b8e186\"],[0.8,\"#7fbc41\"],[0.9,\"#4d9221\"],[1,\"#276419\"]]},\"xaxis\":{\"gridcolor\":\"white\",\"linecolor\":\"white\",\"ticks\":\"\",\"title\":{\"standoff\":15},\"zerolinecolor\":\"white\",\"automargin\":true,\"zerolinewidth\":2},\"yaxis\":{\"gridcolor\":\"white\",\"linecolor\":\"white\",\"ticks\":\"\",\"title\":{\"standoff\":15},\"zerolinecolor\":\"white\",\"automargin\":true,\"zerolinewidth\":2},\"scene\":{\"xaxis\":{\"backgroundcolor\":\"#E5ECF6\",\"gridcolor\":\"white\",\"linecolor\":\"white\",\"showbackground\":true,\"ticks\":\"\",\"zerolinecolor\":\"white\",\"gridwidth\":2},\"yaxis\":{\"backgroundcolor\":\"#E5ECF6\",\"gridcolor\":\"white\",\"linecolor\":\"white\",\"showbackground\":true,\"ticks\":\"\",\"zerolinecolor\":\"white\",\"gridwidth\":2},\"zaxis\":{\"backgroundcolor\":\"#E5ECF6\",\"gridcolor\":\"white\",\"linecolor\":\"white\",\"showbackground\":true,\"ticks\":\"\",\"zerolinecolor\":\"white\",\"gridwidth\":2}},\"shapedefaults\":{\"line\":{\"color\":\"#2a3f5f\"}},\"annotationdefaults\":{\"arrowcolor\":\"#2a3f5f\",\"arrowhead\":0,\"arrowwidth\":1},\"geo\":{\"bgcolor\":\"white\",\"landcolor\":\"#E5ECF6\",\"subunitcolor\":\"white\",\"showland\":true,\"showlakes\":true,\"lakecolor\":\"white\"},\"title\":{\"x\":0.05},\"mapbox\":{\"style\":\"light\"}}},\"xaxis\":{\"anchor\":\"y\",\"domain\":[0.0,1.0],\"title\":{\"text\":\"Anos\"}},\"yaxis\":{\"anchor\":\"x\",\"domain\":[0.0,1.0],\"title\":{\"text\":\"sum of Valores\"}},\"legend\":{\"tracegroupgap\":0},\"margin\":{\"t\":60},\"barmode\":\"relative\"},                        {\"responsive\": true}                    ).then(function(){\n",
       "                            \n",
       "var gd = document.getElementById('c8397e15-db7a-4621-9435-3d5a0e5092f3');\n",
       "var x = new MutationObserver(function (mutations, observer) {{\n",
       "        var display = window.getComputedStyle(gd).display;\n",
       "        if (!display || display === 'none') {{\n",
       "            console.log([gd, 'removed!']);\n",
       "            Plotly.purge(gd);\n",
       "            observer.disconnect();\n",
       "        }}\n",
       "}});\n",
       "\n",
       "// Listen for the removal of the full notebook cells\n",
       "var notebookContainer = gd.closest('#notebook-container');\n",
       "if (notebookContainer) {{\n",
       "    x.observe(notebookContainer, {childList: true});\n",
       "}}\n",
       "\n",
       "// Listen for the clearing of the current output cell\n",
       "var outputEl = gd.closest('.output');\n",
       "if (outputEl) {{\n",
       "    x.observe(outputEl, {childList: true});\n",
       "}}\n",
       "\n",
       "                        })                };                });            </script>        </div>"
      ]
     },
     "metadata": {},
     "output_type": "display_data"
    }
   ],
   "source": [
    "import plotly.express as px\n",
    "\n",
    "fig = px.histogram(df,x=df.index , y=\"Valores\")\n",
    "fig"
   ]
  },
  {
   "cell_type": "code",
   "execution_count": 120,
   "id": "242e78f8",
   "metadata": {},
   "outputs": [],
   "source": [
    "# We can clearly see that coffee consumption has been increasing over the years.\n",
    "# But what about coffee production? It must be increasing at the same time, right?"
   ]
  },
  {
   "cell_type": "code",
   "execution_count": 121,
   "id": "ca9464b5",
   "metadata": {},
   "outputs": [],
   "source": [
    "####################################################################################################################################\n"
   ]
  },
  {
   "cell_type": "code",
   "execution_count": 122,
   "id": "c4a69786",
   "metadata": {},
   "outputs": [],
   "source": [
    "coffee_production.sort_values(by=\"Total_production\",ascending = False ,inplace = True)\n",
    "cp = coffee_production \n"
   ]
  },
  {
   "cell_type": "code",
   "execution_count": 123,
   "id": "4c0d523b",
   "metadata": {},
   "outputs": [],
   "source": [
    "cp.index = range(cp.shape[0])\n",
    "cp.index += 1"
   ]
  },
  {
   "cell_type": "code",
   "execution_count": 124,
   "id": "268322e3",
   "metadata": {},
   "outputs": [
    {
     "data": {
      "text/html": [
       "<div>\n",
       "<style scoped>\n",
       "    .dataframe tbody tr th:only-of-type {\n",
       "        vertical-align: middle;\n",
       "    }\n",
       "\n",
       "    .dataframe tbody tr th {\n",
       "        vertical-align: top;\n",
       "    }\n",
       "\n",
       "    .dataframe thead th {\n",
       "        text-align: right;\n",
       "    }\n",
       "</style>\n",
       "<table border=\"1\" class=\"dataframe\">\n",
       "  <thead>\n",
       "    <tr style=\"text-align: right;\">\n",
       "      <th></th>\n",
       "      <th>Country</th>\n",
       "      <th>Coffee type</th>\n",
       "      <th>1990/91</th>\n",
       "      <th>1991/92</th>\n",
       "      <th>1992/93</th>\n",
       "      <th>1993/94</th>\n",
       "      <th>1994/95</th>\n",
       "      <th>1995/96</th>\n",
       "      <th>1996/97</th>\n",
       "      <th>1997/98</th>\n",
       "      <th>...</th>\n",
       "      <th>2011/12</th>\n",
       "      <th>2012/13</th>\n",
       "      <th>2013/14</th>\n",
       "      <th>2014/15</th>\n",
       "      <th>2015/16</th>\n",
       "      <th>2016/17</th>\n",
       "      <th>2017/18</th>\n",
       "      <th>2018/19</th>\n",
       "      <th>2019/20</th>\n",
       "      <th>Total_production</th>\n",
       "    </tr>\n",
       "  </thead>\n",
       "  <tbody>\n",
       "    <tr>\n",
       "      <th>1</th>\n",
       "      <td>Brazil</td>\n",
       "      <td>Arabica/Robusta</td>\n",
       "      <td>1.637160e+09</td>\n",
       "      <td>1.637580e+09</td>\n",
       "      <td>2.076180e+09</td>\n",
       "      <td>1.690020e+09</td>\n",
       "      <td>1.691520e+09</td>\n",
       "      <td>1.083600e+09</td>\n",
       "      <td>1.751820e+09</td>\n",
       "      <td>1.568880e+09</td>\n",
       "      <td>...</td>\n",
       "      <td>2.915520e+09</td>\n",
       "      <td>3.325080e+09</td>\n",
       "      <td>3.281340e+09</td>\n",
       "      <td>3.198300e+09</td>\n",
       "      <td>3.172260e+09</td>\n",
       "      <td>3.407280e+09</td>\n",
       "      <td>3.164400e+09</td>\n",
       "      <td>3.907860e+09</td>\n",
       "      <td>3.492660e+09</td>\n",
       "      <td>7.508298e+10</td>\n",
       "    </tr>\n",
       "    <tr>\n",
       "      <th>2</th>\n",
       "      <td>Viet Nam</td>\n",
       "      <td>Robusta/Arabica</td>\n",
       "      <td>7.860000e+07</td>\n",
       "      <td>8.628000e+07</td>\n",
       "      <td>1.404000e+08</td>\n",
       "      <td>1.812000e+08</td>\n",
       "      <td>2.179200e+08</td>\n",
       "      <td>2.382000e+08</td>\n",
       "      <td>3.451200e+08</td>\n",
       "      <td>4.187400e+08</td>\n",
       "      <td>...</td>\n",
       "      <td>1.590000e+09</td>\n",
       "      <td>1.404120e+09</td>\n",
       "      <td>1.656600e+09</td>\n",
       "      <td>1.634460e+09</td>\n",
       "      <td>1.865400e+09</td>\n",
       "      <td>1.669140e+09</td>\n",
       "      <td>2.005920e+09</td>\n",
       "      <td>1.816980e+09</td>\n",
       "      <td>1.829220e+09</td>\n",
       "      <td>2.880318e+10</td>\n",
       "    </tr>\n",
       "    <tr>\n",
       "      <th>3</th>\n",
       "      <td>Colombia</td>\n",
       "      <td>Arabica</td>\n",
       "      <td>8.637600e+08</td>\n",
       "      <td>1.078800e+09</td>\n",
       "      <td>8.968200e+08</td>\n",
       "      <td>6.853200e+08</td>\n",
       "      <td>7.778400e+08</td>\n",
       "      <td>7.762800e+08</td>\n",
       "      <td>6.467400e+08</td>\n",
       "      <td>7.273200e+08</td>\n",
       "      <td>...</td>\n",
       "      <td>4.591800e+08</td>\n",
       "      <td>5.956200e+08</td>\n",
       "      <td>7.274400e+08</td>\n",
       "      <td>7.999800e+08</td>\n",
       "      <td>8.405400e+08</td>\n",
       "      <td>8.780400e+08</td>\n",
       "      <td>8.294400e+08</td>\n",
       "      <td>8.319600e+08</td>\n",
       "      <td>8.460000e+08</td>\n",
       "      <td>2.159862e+10</td>\n",
       "    </tr>\n",
       "    <tr>\n",
       "      <th>4</th>\n",
       "      <td>Indonesia</td>\n",
       "      <td>Robusta/Arabica</td>\n",
       "      <td>4.464600e+08</td>\n",
       "      <td>5.095800e+08</td>\n",
       "      <td>3.341400e+08</td>\n",
       "      <td>4.045800e+08</td>\n",
       "      <td>3.220800e+08</td>\n",
       "      <td>2.743800e+08</td>\n",
       "      <td>4.932600e+08</td>\n",
       "      <td>4.572600e+08</td>\n",
       "      <td>...</td>\n",
       "      <td>4.133400e+08</td>\n",
       "      <td>7.842000e+08</td>\n",
       "      <td>7.740600e+08</td>\n",
       "      <td>6.567600e+08</td>\n",
       "      <td>7.551000e+08</td>\n",
       "      <td>6.924600e+08</td>\n",
       "      <td>6.511200e+08</td>\n",
       "      <td>5.770800e+08</td>\n",
       "      <td>6.859800e+08</td>\n",
       "      <td>1.540488e+10</td>\n",
       "    </tr>\n",
       "    <tr>\n",
       "      <th>5</th>\n",
       "      <td>Ethiopia</td>\n",
       "      <td>Arabica</td>\n",
       "      <td>1.745400e+08</td>\n",
       "      <td>1.755000e+08</td>\n",
       "      <td>1.095000e+08</td>\n",
       "      <td>1.780200e+08</td>\n",
       "      <td>1.657800e+08</td>\n",
       "      <td>1.899000e+08</td>\n",
       "      <td>2.044200e+08</td>\n",
       "      <td>1.834200e+08</td>\n",
       "      <td>...</td>\n",
       "      <td>3.390000e+08</td>\n",
       "      <td>3.679200e+08</td>\n",
       "      <td>3.745200e+08</td>\n",
       "      <td>3.829800e+08</td>\n",
       "      <td>3.909000e+08</td>\n",
       "      <td>4.285800e+08</td>\n",
       "      <td>4.408200e+08</td>\n",
       "      <td>4.506600e+08</td>\n",
       "      <td>4.405800e+08</td>\n",
       "      <td>8.669520e+09</td>\n",
       "    </tr>\n",
       "  </tbody>\n",
       "</table>\n",
       "<p>5 rows × 33 columns</p>\n",
       "</div>"
      ],
      "text/plain": [
       "     Country      Coffee type       1990/91       1991/92       1992/93  \\\n",
       "1     Brazil  Arabica/Robusta  1.637160e+09  1.637580e+09  2.076180e+09   \n",
       "2   Viet Nam  Robusta/Arabica  7.860000e+07  8.628000e+07  1.404000e+08   \n",
       "3   Colombia          Arabica  8.637600e+08  1.078800e+09  8.968200e+08   \n",
       "4  Indonesia  Robusta/Arabica  4.464600e+08  5.095800e+08  3.341400e+08   \n",
       "5   Ethiopia          Arabica  1.745400e+08  1.755000e+08  1.095000e+08   \n",
       "\n",
       "        1993/94       1994/95       1995/96       1996/97       1997/98  ...  \\\n",
       "1  1.690020e+09  1.691520e+09  1.083600e+09  1.751820e+09  1.568880e+09  ...   \n",
       "2  1.812000e+08  2.179200e+08  2.382000e+08  3.451200e+08  4.187400e+08  ...   \n",
       "3  6.853200e+08  7.778400e+08  7.762800e+08  6.467400e+08  7.273200e+08  ...   \n",
       "4  4.045800e+08  3.220800e+08  2.743800e+08  4.932600e+08  4.572600e+08  ...   \n",
       "5  1.780200e+08  1.657800e+08  1.899000e+08  2.044200e+08  1.834200e+08  ...   \n",
       "\n",
       "        2011/12       2012/13       2013/14       2014/15       2015/16  \\\n",
       "1  2.915520e+09  3.325080e+09  3.281340e+09  3.198300e+09  3.172260e+09   \n",
       "2  1.590000e+09  1.404120e+09  1.656600e+09  1.634460e+09  1.865400e+09   \n",
       "3  4.591800e+08  5.956200e+08  7.274400e+08  7.999800e+08  8.405400e+08   \n",
       "4  4.133400e+08  7.842000e+08  7.740600e+08  6.567600e+08  7.551000e+08   \n",
       "5  3.390000e+08  3.679200e+08  3.745200e+08  3.829800e+08  3.909000e+08   \n",
       "\n",
       "        2016/17       2017/18       2018/19       2019/20  Total_production  \n",
       "1  3.407280e+09  3.164400e+09  3.907860e+09  3.492660e+09      7.508298e+10  \n",
       "2  1.669140e+09  2.005920e+09  1.816980e+09  1.829220e+09      2.880318e+10  \n",
       "3  8.780400e+08  8.294400e+08  8.319600e+08  8.460000e+08      2.159862e+10  \n",
       "4  6.924600e+08  6.511200e+08  5.770800e+08  6.859800e+08      1.540488e+10  \n",
       "5  4.285800e+08  4.408200e+08  4.506600e+08  4.405800e+08      8.669520e+09  \n",
       "\n",
       "[5 rows x 33 columns]"
      ]
     },
     "execution_count": 124,
     "metadata": {},
     "output_type": "execute_result"
    }
   ],
   "source": [
    "cp.head()"
   ]
  },
  {
   "cell_type": "code",
   "execution_count": 125,
   "id": "47489ec6",
   "metadata": {},
   "outputs": [
    {
     "data": {
      "text/html": [
       "<div>\n",
       "<style scoped>\n",
       "    .dataframe tbody tr th:only-of-type {\n",
       "        vertical-align: middle;\n",
       "    }\n",
       "\n",
       "    .dataframe tbody tr th {\n",
       "        vertical-align: top;\n",
       "    }\n",
       "\n",
       "    .dataframe thead th {\n",
       "        text-align: right;\n",
       "    }\n",
       "</style>\n",
       "<table border=\"1\" class=\"dataframe\">\n",
       "  <thead>\n",
       "    <tr style=\"text-align: right;\">\n",
       "      <th></th>\n",
       "      <th>Country</th>\n",
       "      <th>Coffee type</th>\n",
       "      <th>1990/91</th>\n",
       "      <th>1991/92</th>\n",
       "      <th>1992/93</th>\n",
       "      <th>1993/94</th>\n",
       "      <th>1994/95</th>\n",
       "      <th>1995/96</th>\n",
       "      <th>1996/97</th>\n",
       "      <th>1997/98</th>\n",
       "      <th>...</th>\n",
       "      <th>2011/12</th>\n",
       "      <th>2012/13</th>\n",
       "      <th>2013/14</th>\n",
       "      <th>2014/15</th>\n",
       "      <th>2015/16</th>\n",
       "      <th>2016/17</th>\n",
       "      <th>2017/18</th>\n",
       "      <th>2018/19</th>\n",
       "      <th>2019/20</th>\n",
       "      <th>Total_production</th>\n",
       "    </tr>\n",
       "  </thead>\n",
       "  <tbody>\n",
       "    <tr>\n",
       "      <th>1</th>\n",
       "      <td>Brazil</td>\n",
       "      <td>Arabica/Robusta</td>\n",
       "      <td>1.637160e+09</td>\n",
       "      <td>1.637580e+09</td>\n",
       "      <td>2.076180e+09</td>\n",
       "      <td>1.690020e+09</td>\n",
       "      <td>1.691520e+09</td>\n",
       "      <td>1.083600e+09</td>\n",
       "      <td>1.751820e+09</td>\n",
       "      <td>1.568880e+09</td>\n",
       "      <td>...</td>\n",
       "      <td>2.915520e+09</td>\n",
       "      <td>3.325080e+09</td>\n",
       "      <td>3.281340e+09</td>\n",
       "      <td>3.198300e+09</td>\n",
       "      <td>3.172260e+09</td>\n",
       "      <td>3.407280e+09</td>\n",
       "      <td>3.164400e+09</td>\n",
       "      <td>3.907860e+09</td>\n",
       "      <td>3.492660e+09</td>\n",
       "      <td>7.508298e+10</td>\n",
       "    </tr>\n",
       "  </tbody>\n",
       "</table>\n",
       "<p>1 rows × 33 columns</p>\n",
       "</div>"
      ],
      "text/plain": [
       "  Country      Coffee type       1990/91       1991/92       1992/93  \\\n",
       "1  Brazil  Arabica/Robusta  1.637160e+09  1.637580e+09  2.076180e+09   \n",
       "\n",
       "        1993/94       1994/95       1995/96       1996/97       1997/98  ...  \\\n",
       "1  1.690020e+09  1.691520e+09  1.083600e+09  1.751820e+09  1.568880e+09  ...   \n",
       "\n",
       "        2011/12       2012/13       2013/14       2014/15       2015/16  \\\n",
       "1  2.915520e+09  3.325080e+09  3.281340e+09  3.198300e+09  3.172260e+09   \n",
       "\n",
       "        2016/17       2017/18       2018/19       2019/20  Total_production  \n",
       "1  3.407280e+09  3.164400e+09  3.907860e+09  3.492660e+09      7.508298e+10  \n",
       "\n",
       "[1 rows x 33 columns]"
      ]
     },
     "execution_count": 125,
     "metadata": {},
     "output_type": "execute_result"
    }
   ],
   "source": [
    "brazil2 = cp[cp[\"Country\"] == \"Brazil\"] #again, just BraziL!\n",
    "brazil2"
   ]
  },
  {
   "cell_type": "code",
   "execution_count": 126,
   "id": "01011654",
   "metadata": {},
   "outputs": [],
   "source": [
    "brazil2= brazil2.select_dtypes(include=\"number\") #just numbers"
   ]
  },
  {
   "cell_type": "code",
   "execution_count": 127,
   "id": "6d05b774",
   "metadata": {},
   "outputs": [],
   "source": [
    "bnv2 = brazil2.values #just the values"
   ]
  },
  {
   "cell_type": "code",
   "execution_count": 128,
   "id": "ebf6f02c",
   "metadata": {},
   "outputs": [],
   "source": [
    "bnc2 = brazil2.columns"
   ]
  },
  {
   "cell_type": "code",
   "execution_count": 129,
   "id": "3cfe82d0",
   "metadata": {},
   "outputs": [],
   "source": [
    "df2 = pd.DataFrame(bnv2.T , index = bnc2 , columns = [\"Valores\"])\n",
    "df2.drop(\"Total_production\", axis = 0, inplace = True)"
   ]
  },
  {
   "cell_type": "code",
   "execution_count": 130,
   "id": "e338f2ec",
   "metadata": {},
   "outputs": [
    {
     "data": {
      "application/vnd.plotly.v1+json": {
       "config": {
        "plotlyServerURL": "https://plot.ly"
       },
       "data": [
        {
         "alignmentgroup": "True",
         "bingroup": "x",
         "histfunc": "sum",
         "hovertemplate": "x=%{x}<br>sum of Valores=%{y}<extra></extra>",
         "legendgroup": "",
         "marker": {
          "color": "#636efa",
          "pattern": {
           "shape": ""
          }
         },
         "name": "",
         "offsetgroup": "",
         "orientation": "v",
         "showlegend": false,
         "type": "histogram",
         "x": [
          "1990/91",
          "1991/92",
          "1992/93",
          "1993/94",
          "1994/95",
          "1995/96",
          "1996/97",
          "1997/98",
          "1998/99",
          "1999/00",
          "2000/01",
          "2001/02",
          "2002/03",
          "2003/04",
          "2004/05",
          "2005/06",
          "2006/07",
          "2007/08",
          "2008/09",
          "2009/10",
          "2010/11",
          "2011/12",
          "2012/13",
          "2013/14",
          "2014/15",
          "2015/16",
          "2016/17",
          "2017/18",
          "2018/19",
          "2019/20"
         ],
         "xaxis": "x",
         "y": [
          1637160000,
          1637580000,
          2076180000,
          1690020000,
          1691520000,
          1083600000,
          1751820000,
          1568880000,
          2205660000,
          2854680000,
          1878600000,
          1881900000,
          2901120000,
          1732380000,
          2356860000,
          1975980000,
          2905920000,
          2334660000,
          3089460000,
          2638620000,
          3325680000,
          2915520000,
          3325080000,
          3281340000,
          3198300000,
          3172260000,
          3407280000,
          3164400000,
          3907860000,
          3492660000
         ],
         "yaxis": "y"
        }
       ],
       "layout": {
        "barmode": "relative",
        "legend": {
         "tracegroupgap": 0
        },
        "margin": {
         "t": 60
        },
        "template": {
         "data": {
          "bar": [
           {
            "error_x": {
             "color": "#2a3f5f"
            },
            "error_y": {
             "color": "#2a3f5f"
            },
            "marker": {
             "line": {
              "color": "#E5ECF6",
              "width": 0.5
             },
             "pattern": {
              "fillmode": "overlay",
              "size": 10,
              "solidity": 0.2
             }
            },
            "type": "bar"
           }
          ],
          "barpolar": [
           {
            "marker": {
             "line": {
              "color": "#E5ECF6",
              "width": 0.5
             },
             "pattern": {
              "fillmode": "overlay",
              "size": 10,
              "solidity": 0.2
             }
            },
            "type": "barpolar"
           }
          ],
          "carpet": [
           {
            "aaxis": {
             "endlinecolor": "#2a3f5f",
             "gridcolor": "white",
             "linecolor": "white",
             "minorgridcolor": "white",
             "startlinecolor": "#2a3f5f"
            },
            "baxis": {
             "endlinecolor": "#2a3f5f",
             "gridcolor": "white",
             "linecolor": "white",
             "minorgridcolor": "white",
             "startlinecolor": "#2a3f5f"
            },
            "type": "carpet"
           }
          ],
          "choropleth": [
           {
            "colorbar": {
             "outlinewidth": 0,
             "ticks": ""
            },
            "type": "choropleth"
           }
          ],
          "contour": [
           {
            "colorbar": {
             "outlinewidth": 0,
             "ticks": ""
            },
            "colorscale": [
             [
              0,
              "#0d0887"
             ],
             [
              0.1111111111111111,
              "#46039f"
             ],
             [
              0.2222222222222222,
              "#7201a8"
             ],
             [
              0.3333333333333333,
              "#9c179e"
             ],
             [
              0.4444444444444444,
              "#bd3786"
             ],
             [
              0.5555555555555556,
              "#d8576b"
             ],
             [
              0.6666666666666666,
              "#ed7953"
             ],
             [
              0.7777777777777778,
              "#fb9f3a"
             ],
             [
              0.8888888888888888,
              "#fdca26"
             ],
             [
              1,
              "#f0f921"
             ]
            ],
            "type": "contour"
           }
          ],
          "contourcarpet": [
           {
            "colorbar": {
             "outlinewidth": 0,
             "ticks": ""
            },
            "type": "contourcarpet"
           }
          ],
          "heatmap": [
           {
            "colorbar": {
             "outlinewidth": 0,
             "ticks": ""
            },
            "colorscale": [
             [
              0,
              "#0d0887"
             ],
             [
              0.1111111111111111,
              "#46039f"
             ],
             [
              0.2222222222222222,
              "#7201a8"
             ],
             [
              0.3333333333333333,
              "#9c179e"
             ],
             [
              0.4444444444444444,
              "#bd3786"
             ],
             [
              0.5555555555555556,
              "#d8576b"
             ],
             [
              0.6666666666666666,
              "#ed7953"
             ],
             [
              0.7777777777777778,
              "#fb9f3a"
             ],
             [
              0.8888888888888888,
              "#fdca26"
             ],
             [
              1,
              "#f0f921"
             ]
            ],
            "type": "heatmap"
           }
          ],
          "heatmapgl": [
           {
            "colorbar": {
             "outlinewidth": 0,
             "ticks": ""
            },
            "colorscale": [
             [
              0,
              "#0d0887"
             ],
             [
              0.1111111111111111,
              "#46039f"
             ],
             [
              0.2222222222222222,
              "#7201a8"
             ],
             [
              0.3333333333333333,
              "#9c179e"
             ],
             [
              0.4444444444444444,
              "#bd3786"
             ],
             [
              0.5555555555555556,
              "#d8576b"
             ],
             [
              0.6666666666666666,
              "#ed7953"
             ],
             [
              0.7777777777777778,
              "#fb9f3a"
             ],
             [
              0.8888888888888888,
              "#fdca26"
             ],
             [
              1,
              "#f0f921"
             ]
            ],
            "type": "heatmapgl"
           }
          ],
          "histogram": [
           {
            "marker": {
             "pattern": {
              "fillmode": "overlay",
              "size": 10,
              "solidity": 0.2
             }
            },
            "type": "histogram"
           }
          ],
          "histogram2d": [
           {
            "colorbar": {
             "outlinewidth": 0,
             "ticks": ""
            },
            "colorscale": [
             [
              0,
              "#0d0887"
             ],
             [
              0.1111111111111111,
              "#46039f"
             ],
             [
              0.2222222222222222,
              "#7201a8"
             ],
             [
              0.3333333333333333,
              "#9c179e"
             ],
             [
              0.4444444444444444,
              "#bd3786"
             ],
             [
              0.5555555555555556,
              "#d8576b"
             ],
             [
              0.6666666666666666,
              "#ed7953"
             ],
             [
              0.7777777777777778,
              "#fb9f3a"
             ],
             [
              0.8888888888888888,
              "#fdca26"
             ],
             [
              1,
              "#f0f921"
             ]
            ],
            "type": "histogram2d"
           }
          ],
          "histogram2dcontour": [
           {
            "colorbar": {
             "outlinewidth": 0,
             "ticks": ""
            },
            "colorscale": [
             [
              0,
              "#0d0887"
             ],
             [
              0.1111111111111111,
              "#46039f"
             ],
             [
              0.2222222222222222,
              "#7201a8"
             ],
             [
              0.3333333333333333,
              "#9c179e"
             ],
             [
              0.4444444444444444,
              "#bd3786"
             ],
             [
              0.5555555555555556,
              "#d8576b"
             ],
             [
              0.6666666666666666,
              "#ed7953"
             ],
             [
              0.7777777777777778,
              "#fb9f3a"
             ],
             [
              0.8888888888888888,
              "#fdca26"
             ],
             [
              1,
              "#f0f921"
             ]
            ],
            "type": "histogram2dcontour"
           }
          ],
          "mesh3d": [
           {
            "colorbar": {
             "outlinewidth": 0,
             "ticks": ""
            },
            "type": "mesh3d"
           }
          ],
          "parcoords": [
           {
            "line": {
             "colorbar": {
              "outlinewidth": 0,
              "ticks": ""
             }
            },
            "type": "parcoords"
           }
          ],
          "pie": [
           {
            "automargin": true,
            "type": "pie"
           }
          ],
          "scatter": [
           {
            "fillpattern": {
             "fillmode": "overlay",
             "size": 10,
             "solidity": 0.2
            },
            "type": "scatter"
           }
          ],
          "scatter3d": [
           {
            "line": {
             "colorbar": {
              "outlinewidth": 0,
              "ticks": ""
             }
            },
            "marker": {
             "colorbar": {
              "outlinewidth": 0,
              "ticks": ""
             }
            },
            "type": "scatter3d"
           }
          ],
          "scattercarpet": [
           {
            "marker": {
             "colorbar": {
              "outlinewidth": 0,
              "ticks": ""
             }
            },
            "type": "scattercarpet"
           }
          ],
          "scattergeo": [
           {
            "marker": {
             "colorbar": {
              "outlinewidth": 0,
              "ticks": ""
             }
            },
            "type": "scattergeo"
           }
          ],
          "scattergl": [
           {
            "marker": {
             "colorbar": {
              "outlinewidth": 0,
              "ticks": ""
             }
            },
            "type": "scattergl"
           }
          ],
          "scattermapbox": [
           {
            "marker": {
             "colorbar": {
              "outlinewidth": 0,
              "ticks": ""
             }
            },
            "type": "scattermapbox"
           }
          ],
          "scatterpolar": [
           {
            "marker": {
             "colorbar": {
              "outlinewidth": 0,
              "ticks": ""
             }
            },
            "type": "scatterpolar"
           }
          ],
          "scatterpolargl": [
           {
            "marker": {
             "colorbar": {
              "outlinewidth": 0,
              "ticks": ""
             }
            },
            "type": "scatterpolargl"
           }
          ],
          "scatterternary": [
           {
            "marker": {
             "colorbar": {
              "outlinewidth": 0,
              "ticks": ""
             }
            },
            "type": "scatterternary"
           }
          ],
          "surface": [
           {
            "colorbar": {
             "outlinewidth": 0,
             "ticks": ""
            },
            "colorscale": [
             [
              0,
              "#0d0887"
             ],
             [
              0.1111111111111111,
              "#46039f"
             ],
             [
              0.2222222222222222,
              "#7201a8"
             ],
             [
              0.3333333333333333,
              "#9c179e"
             ],
             [
              0.4444444444444444,
              "#bd3786"
             ],
             [
              0.5555555555555556,
              "#d8576b"
             ],
             [
              0.6666666666666666,
              "#ed7953"
             ],
             [
              0.7777777777777778,
              "#fb9f3a"
             ],
             [
              0.8888888888888888,
              "#fdca26"
             ],
             [
              1,
              "#f0f921"
             ]
            ],
            "type": "surface"
           }
          ],
          "table": [
           {
            "cells": {
             "fill": {
              "color": "#EBF0F8"
             },
             "line": {
              "color": "white"
             }
            },
            "header": {
             "fill": {
              "color": "#C8D4E3"
             },
             "line": {
              "color": "white"
             }
            },
            "type": "table"
           }
          ]
         },
         "layout": {
          "annotationdefaults": {
           "arrowcolor": "#2a3f5f",
           "arrowhead": 0,
           "arrowwidth": 1
          },
          "autotypenumbers": "strict",
          "coloraxis": {
           "colorbar": {
            "outlinewidth": 0,
            "ticks": ""
           }
          },
          "colorscale": {
           "diverging": [
            [
             0,
             "#8e0152"
            ],
            [
             0.1,
             "#c51b7d"
            ],
            [
             0.2,
             "#de77ae"
            ],
            [
             0.3,
             "#f1b6da"
            ],
            [
             0.4,
             "#fde0ef"
            ],
            [
             0.5,
             "#f7f7f7"
            ],
            [
             0.6,
             "#e6f5d0"
            ],
            [
             0.7,
             "#b8e186"
            ],
            [
             0.8,
             "#7fbc41"
            ],
            [
             0.9,
             "#4d9221"
            ],
            [
             1,
             "#276419"
            ]
           ],
           "sequential": [
            [
             0,
             "#0d0887"
            ],
            [
             0.1111111111111111,
             "#46039f"
            ],
            [
             0.2222222222222222,
             "#7201a8"
            ],
            [
             0.3333333333333333,
             "#9c179e"
            ],
            [
             0.4444444444444444,
             "#bd3786"
            ],
            [
             0.5555555555555556,
             "#d8576b"
            ],
            [
             0.6666666666666666,
             "#ed7953"
            ],
            [
             0.7777777777777778,
             "#fb9f3a"
            ],
            [
             0.8888888888888888,
             "#fdca26"
            ],
            [
             1,
             "#f0f921"
            ]
           ],
           "sequentialminus": [
            [
             0,
             "#0d0887"
            ],
            [
             0.1111111111111111,
             "#46039f"
            ],
            [
             0.2222222222222222,
             "#7201a8"
            ],
            [
             0.3333333333333333,
             "#9c179e"
            ],
            [
             0.4444444444444444,
             "#bd3786"
            ],
            [
             0.5555555555555556,
             "#d8576b"
            ],
            [
             0.6666666666666666,
             "#ed7953"
            ],
            [
             0.7777777777777778,
             "#fb9f3a"
            ],
            [
             0.8888888888888888,
             "#fdca26"
            ],
            [
             1,
             "#f0f921"
            ]
           ]
          },
          "colorway": [
           "#636efa",
           "#EF553B",
           "#00cc96",
           "#ab63fa",
           "#FFA15A",
           "#19d3f3",
           "#FF6692",
           "#B6E880",
           "#FF97FF",
           "#FECB52"
          ],
          "font": {
           "color": "#2a3f5f"
          },
          "geo": {
           "bgcolor": "white",
           "lakecolor": "white",
           "landcolor": "#E5ECF6",
           "showlakes": true,
           "showland": true,
           "subunitcolor": "white"
          },
          "hoverlabel": {
           "align": "left"
          },
          "hovermode": "closest",
          "mapbox": {
           "style": "light"
          },
          "paper_bgcolor": "white",
          "plot_bgcolor": "#E5ECF6",
          "polar": {
           "angularaxis": {
            "gridcolor": "white",
            "linecolor": "white",
            "ticks": ""
           },
           "bgcolor": "#E5ECF6",
           "radialaxis": {
            "gridcolor": "white",
            "linecolor": "white",
            "ticks": ""
           }
          },
          "scene": {
           "xaxis": {
            "backgroundcolor": "#E5ECF6",
            "gridcolor": "white",
            "gridwidth": 2,
            "linecolor": "white",
            "showbackground": true,
            "ticks": "",
            "zerolinecolor": "white"
           },
           "yaxis": {
            "backgroundcolor": "#E5ECF6",
            "gridcolor": "white",
            "gridwidth": 2,
            "linecolor": "white",
            "showbackground": true,
            "ticks": "",
            "zerolinecolor": "white"
           },
           "zaxis": {
            "backgroundcolor": "#E5ECF6",
            "gridcolor": "white",
            "gridwidth": 2,
            "linecolor": "white",
            "showbackground": true,
            "ticks": "",
            "zerolinecolor": "white"
           }
          },
          "shapedefaults": {
           "line": {
            "color": "#2a3f5f"
           }
          },
          "ternary": {
           "aaxis": {
            "gridcolor": "white",
            "linecolor": "white",
            "ticks": ""
           },
           "baxis": {
            "gridcolor": "white",
            "linecolor": "white",
            "ticks": ""
           },
           "bgcolor": "#E5ECF6",
           "caxis": {
            "gridcolor": "white",
            "linecolor": "white",
            "ticks": ""
           }
          },
          "title": {
           "x": 0.05
          },
          "xaxis": {
           "automargin": true,
           "gridcolor": "white",
           "linecolor": "white",
           "ticks": "",
           "title": {
            "standoff": 15
           },
           "zerolinecolor": "white",
           "zerolinewidth": 2
          },
          "yaxis": {
           "automargin": true,
           "gridcolor": "white",
           "linecolor": "white",
           "ticks": "",
           "title": {
            "standoff": 15
           },
           "zerolinecolor": "white",
           "zerolinewidth": 2
          }
         }
        },
        "xaxis": {
         "anchor": "y",
         "domain": [
          0,
          1
         ],
         "title": {
          "text": "x"
         }
        },
        "yaxis": {
         "anchor": "x",
         "domain": [
          0,
          1
         ],
         "title": {
          "text": "sum of Valores"
         }
        }
       }
      },
      "text/html": [
       "<div>                            <div id=\"a6cf36de-d66c-467c-bffb-af532be2bbbe\" class=\"plotly-graph-div\" style=\"height:525px; width:100%;\"></div>            <script type=\"text/javascript\">                require([\"plotly\"], function(Plotly) {                    window.PLOTLYENV=window.PLOTLYENV || {};                                    if (document.getElementById(\"a6cf36de-d66c-467c-bffb-af532be2bbbe\")) {                    Plotly.newPlot(                        \"a6cf36de-d66c-467c-bffb-af532be2bbbe\",                        [{\"alignmentgroup\":\"True\",\"bingroup\":\"x\",\"histfunc\":\"sum\",\"hovertemplate\":\"x=%{x}<br>sum of Valores=%{y}<extra></extra>\",\"legendgroup\":\"\",\"marker\":{\"color\":\"#636efa\",\"pattern\":{\"shape\":\"\"}},\"name\":\"\",\"offsetgroup\":\"\",\"orientation\":\"v\",\"showlegend\":false,\"x\":[\"1990/91\",\"1991/92\",\"1992/93\",\"1993/94\",\"1994/95\",\"1995/96\",\"1996/97\",\"1997/98\",\"1998/99\",\"1999/00\",\"2000/01\",\"2001/02\",\"2002/03\",\"2003/04\",\"2004/05\",\"2005/06\",\"2006/07\",\"2007/08\",\"2008/09\",\"2009/10\",\"2010/11\",\"2011/12\",\"2012/13\",\"2013/14\",\"2014/15\",\"2015/16\",\"2016/17\",\"2017/18\",\"2018/19\",\"2019/20\"],\"xaxis\":\"x\",\"y\":[1637160000.0,1637580000.0,2076180000.0,1690020000.0,1691520000.0,1083600000.0,1751820000.0,1568880000.0,2205660000.0,2854680000.0,1878600000.0,1881900000.0,2901120000.0,1732380000.0,2356860000.0,1975980000.0,2905920000.0,2334660000.0,3089460000.0,2638620000.0,3325680000.0,2915520000.0,3325080000.0,3281340000.0,3198300000.0,3172260000.0,3407280000.0,3164400000.0,3907860000.0,3492660000.0],\"yaxis\":\"y\",\"type\":\"histogram\"}],                        {\"template\":{\"data\":{\"histogram2dcontour\":[{\"type\":\"histogram2dcontour\",\"colorbar\":{\"outlinewidth\":0,\"ticks\":\"\"},\"colorscale\":[[0.0,\"#0d0887\"],[0.1111111111111111,\"#46039f\"],[0.2222222222222222,\"#7201a8\"],[0.3333333333333333,\"#9c179e\"],[0.4444444444444444,\"#bd3786\"],[0.5555555555555556,\"#d8576b\"],[0.6666666666666666,\"#ed7953\"],[0.7777777777777778,\"#fb9f3a\"],[0.8888888888888888,\"#fdca26\"],[1.0,\"#f0f921\"]]}],\"choropleth\":[{\"type\":\"choropleth\",\"colorbar\":{\"outlinewidth\":0,\"ticks\":\"\"}}],\"histogram2d\":[{\"type\":\"histogram2d\",\"colorbar\":{\"outlinewidth\":0,\"ticks\":\"\"},\"colorscale\":[[0.0,\"#0d0887\"],[0.1111111111111111,\"#46039f\"],[0.2222222222222222,\"#7201a8\"],[0.3333333333333333,\"#9c179e\"],[0.4444444444444444,\"#bd3786\"],[0.5555555555555556,\"#d8576b\"],[0.6666666666666666,\"#ed7953\"],[0.7777777777777778,\"#fb9f3a\"],[0.8888888888888888,\"#fdca26\"],[1.0,\"#f0f921\"]]}],\"heatmap\":[{\"type\":\"heatmap\",\"colorbar\":{\"outlinewidth\":0,\"ticks\":\"\"},\"colorscale\":[[0.0,\"#0d0887\"],[0.1111111111111111,\"#46039f\"],[0.2222222222222222,\"#7201a8\"],[0.3333333333333333,\"#9c179e\"],[0.4444444444444444,\"#bd3786\"],[0.5555555555555556,\"#d8576b\"],[0.6666666666666666,\"#ed7953\"],[0.7777777777777778,\"#fb9f3a\"],[0.8888888888888888,\"#fdca26\"],[1.0,\"#f0f921\"]]}],\"heatmapgl\":[{\"type\":\"heatmapgl\",\"colorbar\":{\"outlinewidth\":0,\"ticks\":\"\"},\"colorscale\":[[0.0,\"#0d0887\"],[0.1111111111111111,\"#46039f\"],[0.2222222222222222,\"#7201a8\"],[0.3333333333333333,\"#9c179e\"],[0.4444444444444444,\"#bd3786\"],[0.5555555555555556,\"#d8576b\"],[0.6666666666666666,\"#ed7953\"],[0.7777777777777778,\"#fb9f3a\"],[0.8888888888888888,\"#fdca26\"],[1.0,\"#f0f921\"]]}],\"contourcarpet\":[{\"type\":\"contourcarpet\",\"colorbar\":{\"outlinewidth\":0,\"ticks\":\"\"}}],\"contour\":[{\"type\":\"contour\",\"colorbar\":{\"outlinewidth\":0,\"ticks\":\"\"},\"colorscale\":[[0.0,\"#0d0887\"],[0.1111111111111111,\"#46039f\"],[0.2222222222222222,\"#7201a8\"],[0.3333333333333333,\"#9c179e\"],[0.4444444444444444,\"#bd3786\"],[0.5555555555555556,\"#d8576b\"],[0.6666666666666666,\"#ed7953\"],[0.7777777777777778,\"#fb9f3a\"],[0.8888888888888888,\"#fdca26\"],[1.0,\"#f0f921\"]]}],\"surface\":[{\"type\":\"surface\",\"colorbar\":{\"outlinewidth\":0,\"ticks\":\"\"},\"colorscale\":[[0.0,\"#0d0887\"],[0.1111111111111111,\"#46039f\"],[0.2222222222222222,\"#7201a8\"],[0.3333333333333333,\"#9c179e\"],[0.4444444444444444,\"#bd3786\"],[0.5555555555555556,\"#d8576b\"],[0.6666666666666666,\"#ed7953\"],[0.7777777777777778,\"#fb9f3a\"],[0.8888888888888888,\"#fdca26\"],[1.0,\"#f0f921\"]]}],\"mesh3d\":[{\"type\":\"mesh3d\",\"colorbar\":{\"outlinewidth\":0,\"ticks\":\"\"}}],\"scatter\":[{\"fillpattern\":{\"fillmode\":\"overlay\",\"size\":10,\"solidity\":0.2},\"type\":\"scatter\"}],\"parcoords\":[{\"type\":\"parcoords\",\"line\":{\"colorbar\":{\"outlinewidth\":0,\"ticks\":\"\"}}}],\"scatterpolargl\":[{\"type\":\"scatterpolargl\",\"marker\":{\"colorbar\":{\"outlinewidth\":0,\"ticks\":\"\"}}}],\"bar\":[{\"error_x\":{\"color\":\"#2a3f5f\"},\"error_y\":{\"color\":\"#2a3f5f\"},\"marker\":{\"line\":{\"color\":\"#E5ECF6\",\"width\":0.5},\"pattern\":{\"fillmode\":\"overlay\",\"size\":10,\"solidity\":0.2}},\"type\":\"bar\"}],\"scattergeo\":[{\"type\":\"scattergeo\",\"marker\":{\"colorbar\":{\"outlinewidth\":0,\"ticks\":\"\"}}}],\"scatterpolar\":[{\"type\":\"scatterpolar\",\"marker\":{\"colorbar\":{\"outlinewidth\":0,\"ticks\":\"\"}}}],\"histogram\":[{\"marker\":{\"pattern\":{\"fillmode\":\"overlay\",\"size\":10,\"solidity\":0.2}},\"type\":\"histogram\"}],\"scattergl\":[{\"type\":\"scattergl\",\"marker\":{\"colorbar\":{\"outlinewidth\":0,\"ticks\":\"\"}}}],\"scatter3d\":[{\"type\":\"scatter3d\",\"line\":{\"colorbar\":{\"outlinewidth\":0,\"ticks\":\"\"}},\"marker\":{\"colorbar\":{\"outlinewidth\":0,\"ticks\":\"\"}}}],\"scattermapbox\":[{\"type\":\"scattermapbox\",\"marker\":{\"colorbar\":{\"outlinewidth\":0,\"ticks\":\"\"}}}],\"scatterternary\":[{\"type\":\"scatterternary\",\"marker\":{\"colorbar\":{\"outlinewidth\":0,\"ticks\":\"\"}}}],\"scattercarpet\":[{\"type\":\"scattercarpet\",\"marker\":{\"colorbar\":{\"outlinewidth\":0,\"ticks\":\"\"}}}],\"carpet\":[{\"aaxis\":{\"endlinecolor\":\"#2a3f5f\",\"gridcolor\":\"white\",\"linecolor\":\"white\",\"minorgridcolor\":\"white\",\"startlinecolor\":\"#2a3f5f\"},\"baxis\":{\"endlinecolor\":\"#2a3f5f\",\"gridcolor\":\"white\",\"linecolor\":\"white\",\"minorgridcolor\":\"white\",\"startlinecolor\":\"#2a3f5f\"},\"type\":\"carpet\"}],\"table\":[{\"cells\":{\"fill\":{\"color\":\"#EBF0F8\"},\"line\":{\"color\":\"white\"}},\"header\":{\"fill\":{\"color\":\"#C8D4E3\"},\"line\":{\"color\":\"white\"}},\"type\":\"table\"}],\"barpolar\":[{\"marker\":{\"line\":{\"color\":\"#E5ECF6\",\"width\":0.5},\"pattern\":{\"fillmode\":\"overlay\",\"size\":10,\"solidity\":0.2}},\"type\":\"barpolar\"}],\"pie\":[{\"automargin\":true,\"type\":\"pie\"}]},\"layout\":{\"autotypenumbers\":\"strict\",\"colorway\":[\"#636efa\",\"#EF553B\",\"#00cc96\",\"#ab63fa\",\"#FFA15A\",\"#19d3f3\",\"#FF6692\",\"#B6E880\",\"#FF97FF\",\"#FECB52\"],\"font\":{\"color\":\"#2a3f5f\"},\"hovermode\":\"closest\",\"hoverlabel\":{\"align\":\"left\"},\"paper_bgcolor\":\"white\",\"plot_bgcolor\":\"#E5ECF6\",\"polar\":{\"bgcolor\":\"#E5ECF6\",\"angularaxis\":{\"gridcolor\":\"white\",\"linecolor\":\"white\",\"ticks\":\"\"},\"radialaxis\":{\"gridcolor\":\"white\",\"linecolor\":\"white\",\"ticks\":\"\"}},\"ternary\":{\"bgcolor\":\"#E5ECF6\",\"aaxis\":{\"gridcolor\":\"white\",\"linecolor\":\"white\",\"ticks\":\"\"},\"baxis\":{\"gridcolor\":\"white\",\"linecolor\":\"white\",\"ticks\":\"\"},\"caxis\":{\"gridcolor\":\"white\",\"linecolor\":\"white\",\"ticks\":\"\"}},\"coloraxis\":{\"colorbar\":{\"outlinewidth\":0,\"ticks\":\"\"}},\"colorscale\":{\"sequential\":[[0.0,\"#0d0887\"],[0.1111111111111111,\"#46039f\"],[0.2222222222222222,\"#7201a8\"],[0.3333333333333333,\"#9c179e\"],[0.4444444444444444,\"#bd3786\"],[0.5555555555555556,\"#d8576b\"],[0.6666666666666666,\"#ed7953\"],[0.7777777777777778,\"#fb9f3a\"],[0.8888888888888888,\"#fdca26\"],[1.0,\"#f0f921\"]],\"sequentialminus\":[[0.0,\"#0d0887\"],[0.1111111111111111,\"#46039f\"],[0.2222222222222222,\"#7201a8\"],[0.3333333333333333,\"#9c179e\"],[0.4444444444444444,\"#bd3786\"],[0.5555555555555556,\"#d8576b\"],[0.6666666666666666,\"#ed7953\"],[0.7777777777777778,\"#fb9f3a\"],[0.8888888888888888,\"#fdca26\"],[1.0,\"#f0f921\"]],\"diverging\":[[0,\"#8e0152\"],[0.1,\"#c51b7d\"],[0.2,\"#de77ae\"],[0.3,\"#f1b6da\"],[0.4,\"#fde0ef\"],[0.5,\"#f7f7f7\"],[0.6,\"#e6f5d0\"],[0.7,\"#b8e186\"],[0.8,\"#7fbc41\"],[0.9,\"#4d9221\"],[1,\"#276419\"]]},\"xaxis\":{\"gridcolor\":\"white\",\"linecolor\":\"white\",\"ticks\":\"\",\"title\":{\"standoff\":15},\"zerolinecolor\":\"white\",\"automargin\":true,\"zerolinewidth\":2},\"yaxis\":{\"gridcolor\":\"white\",\"linecolor\":\"white\",\"ticks\":\"\",\"title\":{\"standoff\":15},\"zerolinecolor\":\"white\",\"automargin\":true,\"zerolinewidth\":2},\"scene\":{\"xaxis\":{\"backgroundcolor\":\"#E5ECF6\",\"gridcolor\":\"white\",\"linecolor\":\"white\",\"showbackground\":true,\"ticks\":\"\",\"zerolinecolor\":\"white\",\"gridwidth\":2},\"yaxis\":{\"backgroundcolor\":\"#E5ECF6\",\"gridcolor\":\"white\",\"linecolor\":\"white\",\"showbackground\":true,\"ticks\":\"\",\"zerolinecolor\":\"white\",\"gridwidth\":2},\"zaxis\":{\"backgroundcolor\":\"#E5ECF6\",\"gridcolor\":\"white\",\"linecolor\":\"white\",\"showbackground\":true,\"ticks\":\"\",\"zerolinecolor\":\"white\",\"gridwidth\":2}},\"shapedefaults\":{\"line\":{\"color\":\"#2a3f5f\"}},\"annotationdefaults\":{\"arrowcolor\":\"#2a3f5f\",\"arrowhead\":0,\"arrowwidth\":1},\"geo\":{\"bgcolor\":\"white\",\"landcolor\":\"#E5ECF6\",\"subunitcolor\":\"white\",\"showland\":true,\"showlakes\":true,\"lakecolor\":\"white\"},\"title\":{\"x\":0.05},\"mapbox\":{\"style\":\"light\"}}},\"xaxis\":{\"anchor\":\"y\",\"domain\":[0.0,1.0],\"title\":{\"text\":\"x\"}},\"yaxis\":{\"anchor\":\"x\",\"domain\":[0.0,1.0],\"title\":{\"text\":\"sum of Valores\"}},\"legend\":{\"tracegroupgap\":0},\"margin\":{\"t\":60},\"barmode\":\"relative\"},                        {\"responsive\": true}                    ).then(function(){\n",
       "                            \n",
       "var gd = document.getElementById('a6cf36de-d66c-467c-bffb-af532be2bbbe');\n",
       "var x = new MutationObserver(function (mutations, observer) {{\n",
       "        var display = window.getComputedStyle(gd).display;\n",
       "        if (!display || display === 'none') {{\n",
       "            console.log([gd, 'removed!']);\n",
       "            Plotly.purge(gd);\n",
       "            observer.disconnect();\n",
       "        }}\n",
       "}});\n",
       "\n",
       "// Listen for the removal of the full notebook cells\n",
       "var notebookContainer = gd.closest('#notebook-container');\n",
       "if (notebookContainer) {{\n",
       "    x.observe(notebookContainer, {childList: true});\n",
       "}}\n",
       "\n",
       "// Listen for the clearing of the current output cell\n",
       "var outputEl = gd.closest('.output');\n",
       "if (outputEl) {{\n",
       "    x.observe(outputEl, {childList: true});\n",
       "}}\n",
       "\n",
       "                        })                };                });            </script>        </div>"
      ]
     },
     "metadata": {},
     "output_type": "display_data"
    }
   ],
   "source": [
    "fig2 = px.histogram(df2, x =df.index , y=\"Valores\")\n",
    "fig2"
   ]
  },
  {
   "cell_type": "code",
   "execution_count": 131,
   "id": "4e954e7d",
   "metadata": {},
   "outputs": [],
   "source": [
    "# Ok! The two variables are increasing together!\n",
    "# Let's see about coffee exports"
   ]
  },
  {
   "cell_type": "code",
   "execution_count": 132,
   "id": "048589dd",
   "metadata": {},
   "outputs": [],
   "source": [
    "################################################################################################################################"
   ]
  },
  {
   "cell_type": "code",
   "execution_count": 133,
   "id": "33075f58",
   "metadata": {},
   "outputs": [],
   "source": [
    "ce = coffee_export\n",
    "brazil3 = ce[ce[\"Country\"] == \"Brazil\"]"
   ]
  },
  {
   "cell_type": "code",
   "execution_count": 134,
   "id": "77f93578",
   "metadata": {},
   "outputs": [],
   "source": [
    "brazil3 = brazil3.select_dtypes(include = \"number\")"
   ]
  },
  {
   "cell_type": "code",
   "execution_count": 135,
   "id": "9369999a",
   "metadata": {},
   "outputs": [],
   "source": [
    "bnv3 = brazil3.values"
   ]
  },
  {
   "cell_type": "code",
   "execution_count": 136,
   "id": "2247ec0f",
   "metadata": {},
   "outputs": [],
   "source": [
    "bnc3 = brazil3.columns"
   ]
  },
  {
   "cell_type": "code",
   "execution_count": 137,
   "id": "d277a5d2",
   "metadata": {},
   "outputs": [
    {
     "data": {
      "text/html": [
       "<div>\n",
       "<style scoped>\n",
       "    .dataframe tbody tr th:only-of-type {\n",
       "        vertical-align: middle;\n",
       "    }\n",
       "\n",
       "    .dataframe tbody tr th {\n",
       "        vertical-align: top;\n",
       "    }\n",
       "\n",
       "    .dataframe thead th {\n",
       "        text-align: right;\n",
       "    }\n",
       "</style>\n",
       "<table border=\"1\" class=\"dataframe\">\n",
       "  <thead>\n",
       "    <tr style=\"text-align: right;\">\n",
       "      <th></th>\n",
       "      <th>Valores</th>\n",
       "    </tr>\n",
       "  </thead>\n",
       "  <tbody>\n",
       "    <tr>\n",
       "      <th>1990/91</th>\n",
       "      <td>1016160000</td>\n",
       "    </tr>\n",
       "    <tr>\n",
       "      <th>1991/92</th>\n",
       "      <td>1270980000</td>\n",
       "    </tr>\n",
       "    <tr>\n",
       "      <th>1992/93</th>\n",
       "      <td>1127460000</td>\n",
       "    </tr>\n",
       "    <tr>\n",
       "      <th>1993/94</th>\n",
       "      <td>1070280000</td>\n",
       "    </tr>\n",
       "    <tr>\n",
       "      <th>1994/95</th>\n",
       "      <td>1036380000</td>\n",
       "    </tr>\n",
       "    <tr>\n",
       "      <th>1995/96</th>\n",
       "      <td>868080000</td>\n",
       "    </tr>\n",
       "    <tr>\n",
       "      <th>1996/97</th>\n",
       "      <td>915060000</td>\n",
       "    </tr>\n",
       "    <tr>\n",
       "      <th>1997/98</th>\n",
       "      <td>1008060000</td>\n",
       "    </tr>\n",
       "    <tr>\n",
       "      <th>1998/99</th>\n",
       "      <td>1088640000</td>\n",
       "    </tr>\n",
       "    <tr>\n",
       "      <th>1999/00</th>\n",
       "      <td>1388940000</td>\n",
       "    </tr>\n",
       "    <tr>\n",
       "      <th>2000/01</th>\n",
       "      <td>1080960000</td>\n",
       "    </tr>\n",
       "    <tr>\n",
       "      <th>2001/02</th>\n",
       "      <td>1390320000</td>\n",
       "    </tr>\n",
       "    <tr>\n",
       "      <th>2002/03</th>\n",
       "      <td>1678920000</td>\n",
       "    </tr>\n",
       "    <tr>\n",
       "      <th>2003/04</th>\n",
       "      <td>1542660000</td>\n",
       "    </tr>\n",
       "    <tr>\n",
       "      <th>2004/05</th>\n",
       "      <td>1588680000</td>\n",
       "    </tr>\n",
       "    <tr>\n",
       "      <th>2005/06</th>\n",
       "      <td>1571880000</td>\n",
       "    </tr>\n",
       "    <tr>\n",
       "      <th>2006/07</th>\n",
       "      <td>1642140000</td>\n",
       "    </tr>\n",
       "    <tr>\n",
       "      <th>2007/08</th>\n",
       "      <td>1691040000</td>\n",
       "    </tr>\n",
       "    <tr>\n",
       "      <th>2008/09</th>\n",
       "      <td>1770600000</td>\n",
       "    </tr>\n",
       "    <tr>\n",
       "      <th>2009/10</th>\n",
       "      <td>1822680000</td>\n",
       "    </tr>\n",
       "    <tr>\n",
       "      <th>2010/11</th>\n",
       "      <td>1990020000</td>\n",
       "    </tr>\n",
       "    <tr>\n",
       "      <th>2011/12</th>\n",
       "      <td>2028360000</td>\n",
       "    </tr>\n",
       "    <tr>\n",
       "      <th>2012/13</th>\n",
       "      <td>1712940000</td>\n",
       "    </tr>\n",
       "    <tr>\n",
       "      <th>2013/14</th>\n",
       "      <td>1899060000</td>\n",
       "    </tr>\n",
       "    <tr>\n",
       "      <th>2014/15</th>\n",
       "      <td>-2147483648</td>\n",
       "    </tr>\n",
       "    <tr>\n",
       "      <th>2015/16</th>\n",
       "      <td>-2147483648</td>\n",
       "    </tr>\n",
       "    <tr>\n",
       "      <th>2016/17</th>\n",
       "      <td>2056140000</td>\n",
       "    </tr>\n",
       "    <tr>\n",
       "      <th>2017/18</th>\n",
       "      <td>1855500000</td>\n",
       "    </tr>\n",
       "    <tr>\n",
       "      <th>2018/19</th>\n",
       "      <td>2138220000</td>\n",
       "    </tr>\n",
       "    <tr>\n",
       "      <th>2019/20</th>\n",
       "      <td>-2147483648</td>\n",
       "    </tr>\n",
       "  </tbody>\n",
       "</table>\n",
       "</div>"
      ],
      "text/plain": [
       "            Valores\n",
       "1990/91  1016160000\n",
       "1991/92  1270980000\n",
       "1992/93  1127460000\n",
       "1993/94  1070280000\n",
       "1994/95  1036380000\n",
       "1995/96   868080000\n",
       "1996/97   915060000\n",
       "1997/98  1008060000\n",
       "1998/99  1088640000\n",
       "1999/00  1388940000\n",
       "2000/01  1080960000\n",
       "2001/02  1390320000\n",
       "2002/03  1678920000\n",
       "2003/04  1542660000\n",
       "2004/05  1588680000\n",
       "2005/06  1571880000\n",
       "2006/07  1642140000\n",
       "2007/08  1691040000\n",
       "2008/09  1770600000\n",
       "2009/10  1822680000\n",
       "2010/11  1990020000\n",
       "2011/12  2028360000\n",
       "2012/13  1712940000\n",
       "2013/14  1899060000\n",
       "2014/15 -2147483648\n",
       "2015/16 -2147483648\n",
       "2016/17  2056140000\n",
       "2017/18  1855500000\n",
       "2018/19  2138220000\n",
       "2019/20 -2147483648"
      ]
     },
     "execution_count": 137,
     "metadata": {},
     "output_type": "execute_result"
    }
   ],
   "source": [
    "df3 = pd.DataFrame(bnv3.T , index = bnc2 , columns = [\"Valores\"])\n",
    "df3.drop(\"Total_production\", axis=0,inplace=True)\n",
    "df3\n",
    "\n"
   ]
  },
  {
   "cell_type": "code",
   "execution_count": 138,
   "id": "ee930175",
   "metadata": {},
   "outputs": [],
   "source": [
    "#Wait,, there are some negative values on the dataframe, let's fix this.\n"
   ]
  },
  {
   "cell_type": "code",
   "execution_count": 139,
   "id": "82f1c757",
   "metadata": {},
   "outputs": [
    {
     "data": {
      "text/html": [
       "<div>\n",
       "<style scoped>\n",
       "    .dataframe tbody tr th:only-of-type {\n",
       "        vertical-align: middle;\n",
       "    }\n",
       "\n",
       "    .dataframe tbody tr th {\n",
       "        vertical-align: top;\n",
       "    }\n",
       "\n",
       "    .dataframe thead th {\n",
       "        text-align: right;\n",
       "    }\n",
       "</style>\n",
       "<table border=\"1\" class=\"dataframe\">\n",
       "  <thead>\n",
       "    <tr style=\"text-align: right;\">\n",
       "      <th></th>\n",
       "      <th>Valores</th>\n",
       "    </tr>\n",
       "  </thead>\n",
       "  <tbody>\n",
       "    <tr>\n",
       "      <th>1990/91</th>\n",
       "      <td>1016160000</td>\n",
       "    </tr>\n",
       "    <tr>\n",
       "      <th>1991/92</th>\n",
       "      <td>1270980000</td>\n",
       "    </tr>\n",
       "    <tr>\n",
       "      <th>1992/93</th>\n",
       "      <td>1127460000</td>\n",
       "    </tr>\n",
       "    <tr>\n",
       "      <th>1993/94</th>\n",
       "      <td>1070280000</td>\n",
       "    </tr>\n",
       "    <tr>\n",
       "      <th>1994/95</th>\n",
       "      <td>1036380000</td>\n",
       "    </tr>\n",
       "    <tr>\n",
       "      <th>1995/96</th>\n",
       "      <td>868080000</td>\n",
       "    </tr>\n",
       "    <tr>\n",
       "      <th>1996/97</th>\n",
       "      <td>915060000</td>\n",
       "    </tr>\n",
       "    <tr>\n",
       "      <th>1997/98</th>\n",
       "      <td>1008060000</td>\n",
       "    </tr>\n",
       "    <tr>\n",
       "      <th>1998/99</th>\n",
       "      <td>1088640000</td>\n",
       "    </tr>\n",
       "    <tr>\n",
       "      <th>1999/00</th>\n",
       "      <td>1388940000</td>\n",
       "    </tr>\n",
       "    <tr>\n",
       "      <th>2000/01</th>\n",
       "      <td>1080960000</td>\n",
       "    </tr>\n",
       "    <tr>\n",
       "      <th>2001/02</th>\n",
       "      <td>1390320000</td>\n",
       "    </tr>\n",
       "    <tr>\n",
       "      <th>2002/03</th>\n",
       "      <td>1678920000</td>\n",
       "    </tr>\n",
       "    <tr>\n",
       "      <th>2003/04</th>\n",
       "      <td>1542660000</td>\n",
       "    </tr>\n",
       "    <tr>\n",
       "      <th>2004/05</th>\n",
       "      <td>1588680000</td>\n",
       "    </tr>\n",
       "    <tr>\n",
       "      <th>2005/06</th>\n",
       "      <td>1571880000</td>\n",
       "    </tr>\n",
       "    <tr>\n",
       "      <th>2006/07</th>\n",
       "      <td>1642140000</td>\n",
       "    </tr>\n",
       "    <tr>\n",
       "      <th>2007/08</th>\n",
       "      <td>1691040000</td>\n",
       "    </tr>\n",
       "    <tr>\n",
       "      <th>2008/09</th>\n",
       "      <td>1770600000</td>\n",
       "    </tr>\n",
       "    <tr>\n",
       "      <th>2009/10</th>\n",
       "      <td>1822680000</td>\n",
       "    </tr>\n",
       "    <tr>\n",
       "      <th>2010/11</th>\n",
       "      <td>1990020000</td>\n",
       "    </tr>\n",
       "    <tr>\n",
       "      <th>2011/12</th>\n",
       "      <td>2028360000</td>\n",
       "    </tr>\n",
       "    <tr>\n",
       "      <th>2012/13</th>\n",
       "      <td>1712940000</td>\n",
       "    </tr>\n",
       "    <tr>\n",
       "      <th>2013/14</th>\n",
       "      <td>1899060000</td>\n",
       "    </tr>\n",
       "    <tr>\n",
       "      <th>2014/15</th>\n",
       "      <td>2147483648</td>\n",
       "    </tr>\n",
       "    <tr>\n",
       "      <th>2015/16</th>\n",
       "      <td>2147483648</td>\n",
       "    </tr>\n",
       "    <tr>\n",
       "      <th>2016/17</th>\n",
       "      <td>2056140000</td>\n",
       "    </tr>\n",
       "    <tr>\n",
       "      <th>2017/18</th>\n",
       "      <td>1855500000</td>\n",
       "    </tr>\n",
       "    <tr>\n",
       "      <th>2018/19</th>\n",
       "      <td>2138220000</td>\n",
       "    </tr>\n",
       "    <tr>\n",
       "      <th>2019/20</th>\n",
       "      <td>2147483648</td>\n",
       "    </tr>\n",
       "  </tbody>\n",
       "</table>\n",
       "</div>"
      ],
      "text/plain": [
       "            Valores\n",
       "1990/91  1016160000\n",
       "1991/92  1270980000\n",
       "1992/93  1127460000\n",
       "1993/94  1070280000\n",
       "1994/95  1036380000\n",
       "1995/96   868080000\n",
       "1996/97   915060000\n",
       "1997/98  1008060000\n",
       "1998/99  1088640000\n",
       "1999/00  1388940000\n",
       "2000/01  1080960000\n",
       "2001/02  1390320000\n",
       "2002/03  1678920000\n",
       "2003/04  1542660000\n",
       "2004/05  1588680000\n",
       "2005/06  1571880000\n",
       "2006/07  1642140000\n",
       "2007/08  1691040000\n",
       "2008/09  1770600000\n",
       "2009/10  1822680000\n",
       "2010/11  1990020000\n",
       "2011/12  2028360000\n",
       "2012/13  1712940000\n",
       "2013/14  1899060000\n",
       "2014/15  2147483648\n",
       "2015/16  2147483648\n",
       "2016/17  2056140000\n",
       "2017/18  1855500000\n",
       "2018/19  2138220000\n",
       "2019/20  2147483648"
      ]
     },
     "execution_count": 139,
     "metadata": {},
     "output_type": "execute_result"
    }
   ],
   "source": [
    "df3 = df3.abs() #the absolute values :)\n",
    "df3"
   ]
  },
  {
   "cell_type": "code",
   "execution_count": 140,
   "id": "926755a6",
   "metadata": {},
   "outputs": [],
   "source": [
    "one = pd.concat([df[\"Valores\"],df2[\"Valores\"],df3[\"Valores\"]],axis=1)\n",
    "one.columns = [\"Consumption\",\"Production\",\"Export\"]"
   ]
  },
  {
   "cell_type": "code",
   "execution_count": 141,
   "id": "846bf24c",
   "metadata": {},
   "outputs": [],
   "source": [
    "#Creating a new DataFrame,setting  our different values at the same index!"
   ]
  },
  {
   "cell_type": "code",
   "execution_count": 142,
   "id": "48fb1284",
   "metadata": {},
   "outputs": [
    {
     "data": {
      "text/html": [
       "<div>\n",
       "<style scoped>\n",
       "    .dataframe tbody tr th:only-of-type {\n",
       "        vertical-align: middle;\n",
       "    }\n",
       "\n",
       "    .dataframe tbody tr th {\n",
       "        vertical-align: top;\n",
       "    }\n",
       "\n",
       "    .dataframe thead th {\n",
       "        text-align: right;\n",
       "    }\n",
       "</style>\n",
       "<table border=\"1\" class=\"dataframe\">\n",
       "  <thead>\n",
       "    <tr style=\"text-align: right;\">\n",
       "      <th></th>\n",
       "      <th>Consumption</th>\n",
       "      <th>Production</th>\n",
       "      <th>Export</th>\n",
       "    </tr>\n",
       "  </thead>\n",
       "  <tbody>\n",
       "    <tr>\n",
       "      <th>1990/91</th>\n",
       "      <td>492000000</td>\n",
       "      <td>1.637160e+09</td>\n",
       "      <td>1016160000</td>\n",
       "    </tr>\n",
       "    <tr>\n",
       "      <th>1991/92</th>\n",
       "      <td>510000000</td>\n",
       "      <td>1.637580e+09</td>\n",
       "      <td>1270980000</td>\n",
       "    </tr>\n",
       "    <tr>\n",
       "      <th>1992/93</th>\n",
       "      <td>534000000</td>\n",
       "      <td>2.076180e+09</td>\n",
       "      <td>1127460000</td>\n",
       "    </tr>\n",
       "    <tr>\n",
       "      <th>1993/94</th>\n",
       "      <td>546000000</td>\n",
       "      <td>1.690020e+09</td>\n",
       "      <td>1070280000</td>\n",
       "    </tr>\n",
       "    <tr>\n",
       "      <th>1994/95</th>\n",
       "      <td>558000000</td>\n",
       "      <td>1.691520e+09</td>\n",
       "      <td>1036380000</td>\n",
       "    </tr>\n",
       "    <tr>\n",
       "      <th>1995/96</th>\n",
       "      <td>606000000</td>\n",
       "      <td>1.083600e+09</td>\n",
       "      <td>868080000</td>\n",
       "    </tr>\n",
       "    <tr>\n",
       "      <th>1996/97</th>\n",
       "      <td>660000000</td>\n",
       "      <td>1.751820e+09</td>\n",
       "      <td>915060000</td>\n",
       "    </tr>\n",
       "    <tr>\n",
       "      <th>1997/98</th>\n",
       "      <td>690000000</td>\n",
       "      <td>1.568880e+09</td>\n",
       "      <td>1008060000</td>\n",
       "    </tr>\n",
       "    <tr>\n",
       "      <th>1998/99</th>\n",
       "      <td>732000000</td>\n",
       "      <td>2.205660e+09</td>\n",
       "      <td>1088640000</td>\n",
       "    </tr>\n",
       "    <tr>\n",
       "      <th>1999/00</th>\n",
       "      <td>762000000</td>\n",
       "      <td>2.854680e+09</td>\n",
       "      <td>1388940000</td>\n",
       "    </tr>\n",
       "    <tr>\n",
       "      <th>2000/01</th>\n",
       "      <td>792000000</td>\n",
       "      <td>1.878600e+09</td>\n",
       "      <td>1080960000</td>\n",
       "    </tr>\n",
       "    <tr>\n",
       "      <th>2001/02</th>\n",
       "      <td>815400000</td>\n",
       "      <td>1.881900e+09</td>\n",
       "      <td>1390320000</td>\n",
       "    </tr>\n",
       "    <tr>\n",
       "      <th>2002/03</th>\n",
       "      <td>825000000</td>\n",
       "      <td>2.901120e+09</td>\n",
       "      <td>1678920000</td>\n",
       "    </tr>\n",
       "    <tr>\n",
       "      <th>2003/04</th>\n",
       "      <td>852000000</td>\n",
       "      <td>1.732380e+09</td>\n",
       "      <td>1542660000</td>\n",
       "    </tr>\n",
       "    <tr>\n",
       "      <th>2004/05</th>\n",
       "      <td>896760000</td>\n",
       "      <td>2.356860e+09</td>\n",
       "      <td>1588680000</td>\n",
       "    </tr>\n",
       "    <tr>\n",
       "      <th>2005/06</th>\n",
       "      <td>932280000</td>\n",
       "      <td>1.975980e+09</td>\n",
       "      <td>1571880000</td>\n",
       "    </tr>\n",
       "    <tr>\n",
       "      <th>2006/07</th>\n",
       "      <td>979860000</td>\n",
       "      <td>2.905920e+09</td>\n",
       "      <td>1642140000</td>\n",
       "    </tr>\n",
       "    <tr>\n",
       "      <th>2007/08</th>\n",
       "      <td>1026600000</td>\n",
       "      <td>2.334660e+09</td>\n",
       "      <td>1691040000</td>\n",
       "    </tr>\n",
       "    <tr>\n",
       "      <th>2008/09</th>\n",
       "      <td>1059600000</td>\n",
       "      <td>3.089460e+09</td>\n",
       "      <td>1770600000</td>\n",
       "    </tr>\n",
       "    <tr>\n",
       "      <th>2009/10</th>\n",
       "      <td>1103400000</td>\n",
       "      <td>2.638620e+09</td>\n",
       "      <td>1822680000</td>\n",
       "    </tr>\n",
       "    <tr>\n",
       "      <th>2010/11</th>\n",
       "      <td>1147920000</td>\n",
       "      <td>3.325680e+09</td>\n",
       "      <td>1990020000</td>\n",
       "    </tr>\n",
       "    <tr>\n",
       "      <th>2011/12</th>\n",
       "      <td>1183200000</td>\n",
       "      <td>2.915520e+09</td>\n",
       "      <td>2028360000</td>\n",
       "    </tr>\n",
       "    <tr>\n",
       "      <th>2012/13</th>\n",
       "      <td>1219800000</td>\n",
       "      <td>3.325080e+09</td>\n",
       "      <td>1712940000</td>\n",
       "    </tr>\n",
       "    <tr>\n",
       "      <th>2013/14</th>\n",
       "      <td>1205100000</td>\n",
       "      <td>3.281340e+09</td>\n",
       "      <td>1899060000</td>\n",
       "    </tr>\n",
       "    <tr>\n",
       "      <th>2014/15</th>\n",
       "      <td>1219980000</td>\n",
       "      <td>3.198300e+09</td>\n",
       "      <td>2147483648</td>\n",
       "    </tr>\n",
       "    <tr>\n",
       "      <th>2015/16</th>\n",
       "      <td>1230480000</td>\n",
       "      <td>3.172260e+09</td>\n",
       "      <td>2147483648</td>\n",
       "    </tr>\n",
       "    <tr>\n",
       "      <th>2016/17</th>\n",
       "      <td>1273500000</td>\n",
       "      <td>3.407280e+09</td>\n",
       "      <td>2056140000</td>\n",
       "    </tr>\n",
       "    <tr>\n",
       "      <th>2017/18</th>\n",
       "      <td>1319820000</td>\n",
       "      <td>3.164400e+09</td>\n",
       "      <td>1855500000</td>\n",
       "    </tr>\n",
       "    <tr>\n",
       "      <th>2018/19</th>\n",
       "      <td>1332000000</td>\n",
       "      <td>3.907860e+09</td>\n",
       "      <td>2138220000</td>\n",
       "    </tr>\n",
       "    <tr>\n",
       "      <th>2019/20</th>\n",
       "      <td>1320000000</td>\n",
       "      <td>3.492660e+09</td>\n",
       "      <td>2147483648</td>\n",
       "    </tr>\n",
       "  </tbody>\n",
       "</table>\n",
       "</div>"
      ],
      "text/plain": [
       "         Consumption    Production      Export\n",
       "1990/91    492000000  1.637160e+09  1016160000\n",
       "1991/92    510000000  1.637580e+09  1270980000\n",
       "1992/93    534000000  2.076180e+09  1127460000\n",
       "1993/94    546000000  1.690020e+09  1070280000\n",
       "1994/95    558000000  1.691520e+09  1036380000\n",
       "1995/96    606000000  1.083600e+09   868080000\n",
       "1996/97    660000000  1.751820e+09   915060000\n",
       "1997/98    690000000  1.568880e+09  1008060000\n",
       "1998/99    732000000  2.205660e+09  1088640000\n",
       "1999/00    762000000  2.854680e+09  1388940000\n",
       "2000/01    792000000  1.878600e+09  1080960000\n",
       "2001/02    815400000  1.881900e+09  1390320000\n",
       "2002/03    825000000  2.901120e+09  1678920000\n",
       "2003/04    852000000  1.732380e+09  1542660000\n",
       "2004/05    896760000  2.356860e+09  1588680000\n",
       "2005/06    932280000  1.975980e+09  1571880000\n",
       "2006/07    979860000  2.905920e+09  1642140000\n",
       "2007/08   1026600000  2.334660e+09  1691040000\n",
       "2008/09   1059600000  3.089460e+09  1770600000\n",
       "2009/10   1103400000  2.638620e+09  1822680000\n",
       "2010/11   1147920000  3.325680e+09  1990020000\n",
       "2011/12   1183200000  2.915520e+09  2028360000\n",
       "2012/13   1219800000  3.325080e+09  1712940000\n",
       "2013/14   1205100000  3.281340e+09  1899060000\n",
       "2014/15   1219980000  3.198300e+09  2147483648\n",
       "2015/16   1230480000  3.172260e+09  2147483648\n",
       "2016/17   1273500000  3.407280e+09  2056140000\n",
       "2017/18   1319820000  3.164400e+09  1855500000\n",
       "2018/19   1332000000  3.907860e+09  2138220000\n",
       "2019/20   1320000000  3.492660e+09  2147483648"
      ]
     },
     "execution_count": 142,
     "metadata": {},
     "output_type": "execute_result"
    }
   ],
   "source": [
    "one"
   ]
  },
  {
   "cell_type": "code",
   "execution_count": 143,
   "id": "25a78c19",
   "metadata": {},
   "outputs": [],
   "source": [
    "################################################################################################################################"
   ]
  },
  {
   "cell_type": "code",
   "execution_count": 144,
   "id": "f364a52f",
   "metadata": {},
   "outputs": [],
   "source": [
    "#So far, we have noticed that there are significant values related to the coffee industry in Brazil, but who buys the most? \n",
    "#Let's see"
   ]
  },
  {
   "cell_type": "code",
   "execution_count": 145,
   "id": "9168682e",
   "metadata": {},
   "outputs": [
    {
     "data": {
      "text/html": [
       "<div>\n",
       "<style scoped>\n",
       "    .dataframe tbody tr th:only-of-type {\n",
       "        vertical-align: middle;\n",
       "    }\n",
       "\n",
       "    .dataframe tbody tr th {\n",
       "        vertical-align: top;\n",
       "    }\n",
       "\n",
       "    .dataframe thead th {\n",
       "        text-align: right;\n",
       "    }\n",
       "</style>\n",
       "<table border=\"1\" class=\"dataframe\">\n",
       "  <thead>\n",
       "    <tr style=\"text-align: right;\">\n",
       "      <th></th>\n",
       "      <th>Country</th>\n",
       "      <th>1990</th>\n",
       "      <th>1991</th>\n",
       "      <th>1992</th>\n",
       "      <th>1993</th>\n",
       "      <th>1994</th>\n",
       "      <th>1995</th>\n",
       "      <th>1996</th>\n",
       "      <th>1997</th>\n",
       "      <th>1998</th>\n",
       "      <th>...</th>\n",
       "      <th>2011</th>\n",
       "      <th>2012</th>\n",
       "      <th>2013</th>\n",
       "      <th>2014</th>\n",
       "      <th>2015</th>\n",
       "      <th>2016</th>\n",
       "      <th>2017</th>\n",
       "      <th>2018</th>\n",
       "      <th>2019</th>\n",
       "      <th>Total_import</th>\n",
       "    </tr>\n",
       "  </thead>\n",
       "  <tbody>\n",
       "    <tr>\n",
       "      <th>0</th>\n",
       "      <td>Austria</td>\n",
       "      <td>112800000</td>\n",
       "      <td>123480000</td>\n",
       "      <td>132360000</td>\n",
       "      <td>110160000</td>\n",
       "      <td>85020000</td>\n",
       "      <td>73860000</td>\n",
       "      <td>72600000</td>\n",
       "      <td>77640000</td>\n",
       "      <td>77580000</td>\n",
       "      <td>...</td>\n",
       "      <td>87120000</td>\n",
       "      <td>93540000</td>\n",
       "      <td>93300000</td>\n",
       "      <td>91500000</td>\n",
       "      <td>90780000</td>\n",
       "      <td>89700000</td>\n",
       "      <td>87600000</td>\n",
       "      <td>85740000</td>\n",
       "      <td>86880000</td>\n",
       "      <td>2765760000</td>\n",
       "    </tr>\n",
       "    <tr>\n",
       "      <th>1</th>\n",
       "      <td>Belgium</td>\n",
       "      <td>0</td>\n",
       "      <td>0</td>\n",
       "      <td>0</td>\n",
       "      <td>0</td>\n",
       "      <td>0</td>\n",
       "      <td>0</td>\n",
       "      <td>0</td>\n",
       "      <td>0</td>\n",
       "      <td>0</td>\n",
       "      <td>...</td>\n",
       "      <td>349680000</td>\n",
       "      <td>340080000</td>\n",
       "      <td>330120000</td>\n",
       "      <td>312720000</td>\n",
       "      <td>332040000</td>\n",
       "      <td>363120000</td>\n",
       "      <td>340620000</td>\n",
       "      <td>344520000</td>\n",
       "      <td>371940000</td>\n",
       "      <td>6240540000</td>\n",
       "    </tr>\n",
       "    <tr>\n",
       "      <th>2</th>\n",
       "      <td>Belgium/Luxembourg</td>\n",
       "      <td>120900000</td>\n",
       "      <td>104760000</td>\n",
       "      <td>109680000</td>\n",
       "      <td>123780000</td>\n",
       "      <td>135720000</td>\n",
       "      <td>144060000</td>\n",
       "      <td>151560000</td>\n",
       "      <td>152640000</td>\n",
       "      <td>214800000</td>\n",
       "      <td>...</td>\n",
       "      <td>0</td>\n",
       "      <td>0</td>\n",
       "      <td>0</td>\n",
       "      <td>0</td>\n",
       "      <td>0</td>\n",
       "      <td>0</td>\n",
       "      <td>0</td>\n",
       "      <td>0</td>\n",
       "      <td>0</td>\n",
       "      <td>1257900000</td>\n",
       "    </tr>\n",
       "    <tr>\n",
       "      <th>3</th>\n",
       "      <td>Bulgaria</td>\n",
       "      <td>16080000</td>\n",
       "      <td>12000000</td>\n",
       "      <td>10920000</td>\n",
       "      <td>23820000</td>\n",
       "      <td>27780000</td>\n",
       "      <td>30900000</td>\n",
       "      <td>16320000</td>\n",
       "      <td>17640000</td>\n",
       "      <td>20520000</td>\n",
       "      <td>...</td>\n",
       "      <td>28920000</td>\n",
       "      <td>33600000</td>\n",
       "      <td>36540000</td>\n",
       "      <td>37260000</td>\n",
       "      <td>40920000</td>\n",
       "      <td>46740000</td>\n",
       "      <td>42420000</td>\n",
       "      <td>44220000</td>\n",
       "      <td>47100000</td>\n",
       "      <td>830700000</td>\n",
       "    </tr>\n",
       "    <tr>\n",
       "      <th>4</th>\n",
       "      <td>Croatia</td>\n",
       "      <td>0</td>\n",
       "      <td>0</td>\n",
       "      <td>10080000</td>\n",
       "      <td>9780000</td>\n",
       "      <td>11580000</td>\n",
       "      <td>19200000</td>\n",
       "      <td>19320000</td>\n",
       "      <td>23100000</td>\n",
       "      <td>20340000</td>\n",
       "      <td>...</td>\n",
       "      <td>23460000</td>\n",
       "      <td>23040000</td>\n",
       "      <td>24780000</td>\n",
       "      <td>25200000</td>\n",
       "      <td>26220000</td>\n",
       "      <td>28740000</td>\n",
       "      <td>26340000</td>\n",
       "      <td>26760000</td>\n",
       "      <td>27960000</td>\n",
       "      <td>622080000</td>\n",
       "    </tr>\n",
       "  </tbody>\n",
       "</table>\n",
       "<p>5 rows × 32 columns</p>\n",
       "</div>"
      ],
      "text/plain": [
       "                 Country       1990       1991       1992       1993  \\\n",
       "0                Austria  112800000  123480000  132360000  110160000   \n",
       "1                Belgium          0          0          0          0   \n",
       "2     Belgium/Luxembourg  120900000  104760000  109680000  123780000   \n",
       "3               Bulgaria   16080000   12000000   10920000   23820000   \n",
       "4                Croatia          0          0   10080000    9780000   \n",
       "\n",
       "        1994       1995       1996       1997       1998  ...       2011  \\\n",
       "0   85020000   73860000   72600000   77640000   77580000  ...   87120000   \n",
       "1          0          0          0          0          0  ...  349680000   \n",
       "2  135720000  144060000  151560000  152640000  214800000  ...          0   \n",
       "3   27780000   30900000   16320000   17640000   20520000  ...   28920000   \n",
       "4   11580000   19200000   19320000   23100000   20340000  ...   23460000   \n",
       "\n",
       "        2012       2013       2014       2015       2016       2017  \\\n",
       "0   93540000   93300000   91500000   90780000   89700000   87600000   \n",
       "1  340080000  330120000  312720000  332040000  363120000  340620000   \n",
       "2          0          0          0          0          0          0   \n",
       "3   33600000   36540000   37260000   40920000   46740000   42420000   \n",
       "4   23040000   24780000   25200000   26220000   28740000   26340000   \n",
       "\n",
       "        2018       2019  Total_import  \n",
       "0   85740000   86880000    2765760000  \n",
       "1  344520000  371940000    6240540000  \n",
       "2          0          0    1257900000  \n",
       "3   44220000   47100000     830700000  \n",
       "4   26760000   27960000     622080000  \n",
       "\n",
       "[5 rows x 32 columns]"
      ]
     },
     "execution_count": 145,
     "metadata": {},
     "output_type": "execute_result"
    }
   ],
   "source": [
    "coffee_import.head()"
   ]
  },
  {
   "cell_type": "code",
   "execution_count": 146,
   "id": "c7bae742",
   "metadata": {},
   "outputs": [],
   "source": [
    "ci = coffee_import"
   ]
  },
  {
   "cell_type": "code",
   "execution_count": 147,
   "id": "081af3fa",
   "metadata": {},
   "outputs": [],
   "source": [
    "ci = ci.sort_values(by=\"Total_import\",ascending = False)\n",
    "\n",
    "ci.index = range(ci.shape[0])\n",
    "ci.index += 1"
   ]
  },
  {
   "cell_type": "code",
   "execution_count": 148,
   "id": "c3366308",
   "metadata": {},
   "outputs": [
    {
     "data": {
      "text/html": [
       "<div>\n",
       "<style scoped>\n",
       "    .dataframe tbody tr th:only-of-type {\n",
       "        vertical-align: middle;\n",
       "    }\n",
       "\n",
       "    .dataframe tbody tr th {\n",
       "        vertical-align: top;\n",
       "    }\n",
       "\n",
       "    .dataframe thead th {\n",
       "        text-align: right;\n",
       "    }\n",
       "</style>\n",
       "<table border=\"1\" class=\"dataframe\">\n",
       "  <thead>\n",
       "    <tr style=\"text-align: right;\">\n",
       "      <th></th>\n",
       "      <th>Country</th>\n",
       "      <th>1990</th>\n",
       "      <th>1991</th>\n",
       "      <th>1992</th>\n",
       "      <th>1993</th>\n",
       "      <th>1994</th>\n",
       "      <th>1995</th>\n",
       "      <th>1996</th>\n",
       "      <th>1997</th>\n",
       "      <th>1998</th>\n",
       "      <th>...</th>\n",
       "      <th>2011</th>\n",
       "      <th>2012</th>\n",
       "      <th>2013</th>\n",
       "      <th>2014</th>\n",
       "      <th>2015</th>\n",
       "      <th>2016</th>\n",
       "      <th>2017</th>\n",
       "      <th>2018</th>\n",
       "      <th>2019</th>\n",
       "      <th>Total_import</th>\n",
       "    </tr>\n",
       "  </thead>\n",
       "  <tbody>\n",
       "    <tr>\n",
       "      <th>1</th>\n",
       "      <td>United States of America</td>\n",
       "      <td>1260420000</td>\n",
       "      <td>1190400000</td>\n",
       "      <td>1376340000</td>\n",
       "      <td>1159740000</td>\n",
       "      <td>970260000</td>\n",
       "      <td>1026420000</td>\n",
       "      <td>1166700000</td>\n",
       "      <td>1220580000</td>\n",
       "      <td>1261800000</td>\n",
       "      <td>...</td>\n",
       "      <td>1565580000</td>\n",
       "      <td>1563360000</td>\n",
       "      <td>1620960000</td>\n",
       "      <td>1653900000</td>\n",
       "      <td>1662480000</td>\n",
       "      <td>1730280000</td>\n",
       "      <td>1769280000</td>\n",
       "      <td>1735080000</td>\n",
       "      <td>1851240000</td>\n",
       "      <td>42507660000</td>\n",
       "    </tr>\n",
       "    <tr>\n",
       "      <th>2</th>\n",
       "      <td>Germany</td>\n",
       "      <td>820260000</td>\n",
       "      <td>793740000</td>\n",
       "      <td>827340000</td>\n",
       "      <td>846420000</td>\n",
       "      <td>814980000</td>\n",
       "      <td>771120000</td>\n",
       "      <td>810420000</td>\n",
       "      <td>834300000</td>\n",
       "      <td>824400000</td>\n",
       "      <td>...</td>\n",
       "      <td>1255560000</td>\n",
       "      <td>1308960000</td>\n",
       "      <td>1270440000</td>\n",
       "      <td>1324680000</td>\n",
       "      <td>1278960000</td>\n",
       "      <td>1342080000</td>\n",
       "      <td>1305900000</td>\n",
       "      <td>1328820000</td>\n",
       "      <td>1345920000</td>\n",
       "      <td>31481400000</td>\n",
       "    </tr>\n",
       "    <tr>\n",
       "      <th>3</th>\n",
       "      <td>Italy</td>\n",
       "      <td>314520000</td>\n",
       "      <td>277800000</td>\n",
       "      <td>275700000</td>\n",
       "      <td>335640000</td>\n",
       "      <td>333240000</td>\n",
       "      <td>323280000</td>\n",
       "      <td>336480000</td>\n",
       "      <td>344580000</td>\n",
       "      <td>353340000</td>\n",
       "      <td>...</td>\n",
       "      <td>501300000</td>\n",
       "      <td>521460000</td>\n",
       "      <td>529380000</td>\n",
       "      <td>561000000</td>\n",
       "      <td>559680000</td>\n",
       "      <td>613440000</td>\n",
       "      <td>601200000</td>\n",
       "      <td>638340000</td>\n",
       "      <td>654840000</td>\n",
       "      <td>13272120000</td>\n",
       "    </tr>\n",
       "    <tr>\n",
       "      <th>4</th>\n",
       "      <td>Japan</td>\n",
       "      <td>319800000</td>\n",
       "      <td>330600000</td>\n",
       "      <td>319560000</td>\n",
       "      <td>341460000</td>\n",
       "      <td>373020000</td>\n",
       "      <td>329340000</td>\n",
       "      <td>359640000</td>\n",
       "      <td>355260000</td>\n",
       "      <td>361620000</td>\n",
       "      <td>...</td>\n",
       "      <td>452640000</td>\n",
       "      <td>421500000</td>\n",
       "      <td>502860000</td>\n",
       "      <td>459420000</td>\n",
       "      <td>483780000</td>\n",
       "      <td>481560000</td>\n",
       "      <td>458820000</td>\n",
       "      <td>452400000</td>\n",
       "      <td>482400000</td>\n",
       "      <td>12422760000</td>\n",
       "    </tr>\n",
       "    <tr>\n",
       "      <th>5</th>\n",
       "      <td>France</td>\n",
       "      <td>378060000</td>\n",
       "      <td>393180000</td>\n",
       "      <td>396720000</td>\n",
       "      <td>380040000</td>\n",
       "      <td>382140000</td>\n",
       "      <td>372840000</td>\n",
       "      <td>399600000</td>\n",
       "      <td>402240000</td>\n",
       "      <td>394560000</td>\n",
       "      <td>...</td>\n",
       "      <td>419520000</td>\n",
       "      <td>410460000</td>\n",
       "      <td>402780000</td>\n",
       "      <td>426720000</td>\n",
       "      <td>408540000</td>\n",
       "      <td>404280000</td>\n",
       "      <td>418020000</td>\n",
       "      <td>457440000</td>\n",
       "      <td>479580000</td>\n",
       "      <td>11972520000</td>\n",
       "    </tr>\n",
       "    <tr>\n",
       "      <th>6</th>\n",
       "      <td>Spain</td>\n",
       "      <td>183180000</td>\n",
       "      <td>178200000</td>\n",
       "      <td>204840000</td>\n",
       "      <td>168780000</td>\n",
       "      <td>181680000</td>\n",
       "      <td>188760000</td>\n",
       "      <td>210900000</td>\n",
       "      <td>226620000</td>\n",
       "      <td>223080000</td>\n",
       "      <td>...</td>\n",
       "      <td>289260000</td>\n",
       "      <td>305640000</td>\n",
       "      <td>308220000</td>\n",
       "      <td>324360000</td>\n",
       "      <td>325740000</td>\n",
       "      <td>339600000</td>\n",
       "      <td>324840000</td>\n",
       "      <td>340380000</td>\n",
       "      <td>359040000</td>\n",
       "      <td>7840620000</td>\n",
       "    </tr>\n",
       "    <tr>\n",
       "      <th>7</th>\n",
       "      <td>United Kingdom</td>\n",
       "      <td>173880000</td>\n",
       "      <td>168360000</td>\n",
       "      <td>185280000</td>\n",
       "      <td>191820000</td>\n",
       "      <td>207960000</td>\n",
       "      <td>168420000</td>\n",
       "      <td>174180000</td>\n",
       "      <td>175740000</td>\n",
       "      <td>188520000</td>\n",
       "      <td>...</td>\n",
       "      <td>250980000</td>\n",
       "      <td>247560000</td>\n",
       "      <td>252360000</td>\n",
       "      <td>259140000</td>\n",
       "      <td>293700000</td>\n",
       "      <td>303120000</td>\n",
       "      <td>299340000</td>\n",
       "      <td>341280000</td>\n",
       "      <td>333240000</td>\n",
       "      <td>6731460000</td>\n",
       "    </tr>\n",
       "    <tr>\n",
       "      <th>8</th>\n",
       "      <td>Belgium</td>\n",
       "      <td>0</td>\n",
       "      <td>0</td>\n",
       "      <td>0</td>\n",
       "      <td>0</td>\n",
       "      <td>0</td>\n",
       "      <td>0</td>\n",
       "      <td>0</td>\n",
       "      <td>0</td>\n",
       "      <td>0</td>\n",
       "      <td>...</td>\n",
       "      <td>349680000</td>\n",
       "      <td>340080000</td>\n",
       "      <td>330120000</td>\n",
       "      <td>312720000</td>\n",
       "      <td>332040000</td>\n",
       "      <td>363120000</td>\n",
       "      <td>340620000</td>\n",
       "      <td>344520000</td>\n",
       "      <td>371940000</td>\n",
       "      <td>6240540000</td>\n",
       "    </tr>\n",
       "    <tr>\n",
       "      <th>9</th>\n",
       "      <td>Netherlands</td>\n",
       "      <td>187680000</td>\n",
       "      <td>187260000</td>\n",
       "      <td>192300000</td>\n",
       "      <td>168240000</td>\n",
       "      <td>168000000</td>\n",
       "      <td>174600000</td>\n",
       "      <td>185040000</td>\n",
       "      <td>175440000</td>\n",
       "      <td>171720000</td>\n",
       "      <td>...</td>\n",
       "      <td>160680000</td>\n",
       "      <td>163800000</td>\n",
       "      <td>204420000</td>\n",
       "      <td>240960000</td>\n",
       "      <td>250560000</td>\n",
       "      <td>286860000</td>\n",
       "      <td>304080000</td>\n",
       "      <td>331200000</td>\n",
       "      <td>321240000</td>\n",
       "      <td>5951400000</td>\n",
       "    </tr>\n",
       "    <tr>\n",
       "      <th>10</th>\n",
       "      <td>Russian Federation</td>\n",
       "      <td>0</td>\n",
       "      <td>0</td>\n",
       "      <td>82920000</td>\n",
       "      <td>107700000</td>\n",
       "      <td>103560000</td>\n",
       "      <td>103680000</td>\n",
       "      <td>67680000</td>\n",
       "      <td>131100000</td>\n",
       "      <td>103920000</td>\n",
       "      <td>...</td>\n",
       "      <td>253080000</td>\n",
       "      <td>250500000</td>\n",
       "      <td>264600000</td>\n",
       "      <td>284820000</td>\n",
       "      <td>282600000</td>\n",
       "      <td>313980000</td>\n",
       "      <td>328080000</td>\n",
       "      <td>317280000</td>\n",
       "      <td>355020000</td>\n",
       "      <td>5731080000</td>\n",
       "    </tr>\n",
       "    <tr>\n",
       "      <th>11</th>\n",
       "      <td>Poland</td>\n",
       "      <td>26100000</td>\n",
       "      <td>15000000</td>\n",
       "      <td>107220000</td>\n",
       "      <td>100200000</td>\n",
       "      <td>110580000</td>\n",
       "      <td>106260000</td>\n",
       "      <td>115440000</td>\n",
       "      <td>135180000</td>\n",
       "      <td>137580000</td>\n",
       "      <td>...</td>\n",
       "      <td>204240000</td>\n",
       "      <td>212580000</td>\n",
       "      <td>197040000</td>\n",
       "      <td>193740000</td>\n",
       "      <td>219960000</td>\n",
       "      <td>229620000</td>\n",
       "      <td>239940000</td>\n",
       "      <td>259500000</td>\n",
       "      <td>267120000</td>\n",
       "      <td>4815540000</td>\n",
       "    </tr>\n",
       "    <tr>\n",
       "      <th>12</th>\n",
       "      <td>Switzerland</td>\n",
       "      <td>70260000</td>\n",
       "      <td>67800000</td>\n",
       "      <td>66060000</td>\n",
       "      <td>63600000</td>\n",
       "      <td>65940000</td>\n",
       "      <td>61020000</td>\n",
       "      <td>66720000</td>\n",
       "      <td>58260000</td>\n",
       "      <td>66720000</td>\n",
       "      <td>...</td>\n",
       "      <td>149880000</td>\n",
       "      <td>148680000</td>\n",
       "      <td>160020000</td>\n",
       "      <td>158580000</td>\n",
       "      <td>164880000</td>\n",
       "      <td>168960000</td>\n",
       "      <td>174240000</td>\n",
       "      <td>185160000</td>\n",
       "      <td>193680000</td>\n",
       "      <td>3212700000</td>\n",
       "    </tr>\n",
       "    <tr>\n",
       "      <th>13</th>\n",
       "      <td>Sweden</td>\n",
       "      <td>106020000</td>\n",
       "      <td>103020000</td>\n",
       "      <td>106320000</td>\n",
       "      <td>105420000</td>\n",
       "      <td>113580000</td>\n",
       "      <td>85200000</td>\n",
       "      <td>91320000</td>\n",
       "      <td>88380000</td>\n",
       "      <td>86400000</td>\n",
       "      <td>...</td>\n",
       "      <td>98820000</td>\n",
       "      <td>100800000</td>\n",
       "      <td>102540000</td>\n",
       "      <td>131880000</td>\n",
       "      <td>127260000</td>\n",
       "      <td>141000000</td>\n",
       "      <td>138360000</td>\n",
       "      <td>135720000</td>\n",
       "      <td>140880000</td>\n",
       "      <td>3148800000</td>\n",
       "    </tr>\n",
       "    <tr>\n",
       "      <th>14</th>\n",
       "      <td>Austria</td>\n",
       "      <td>112800000</td>\n",
       "      <td>123480000</td>\n",
       "      <td>132360000</td>\n",
       "      <td>110160000</td>\n",
       "      <td>85020000</td>\n",
       "      <td>73860000</td>\n",
       "      <td>72600000</td>\n",
       "      <td>77640000</td>\n",
       "      <td>77580000</td>\n",
       "      <td>...</td>\n",
       "      <td>87120000</td>\n",
       "      <td>93540000</td>\n",
       "      <td>93300000</td>\n",
       "      <td>91500000</td>\n",
       "      <td>90780000</td>\n",
       "      <td>89700000</td>\n",
       "      <td>87600000</td>\n",
       "      <td>85740000</td>\n",
       "      <td>86880000</td>\n",
       "      <td>2765760000</td>\n",
       "    </tr>\n",
       "    <tr>\n",
       "      <th>15</th>\n",
       "      <td>Finland</td>\n",
       "      <td>65700000</td>\n",
       "      <td>61980000</td>\n",
       "      <td>63300000</td>\n",
       "      <td>78060000</td>\n",
       "      <td>81660000</td>\n",
       "      <td>46140000</td>\n",
       "      <td>59520000</td>\n",
       "      <td>71160000</td>\n",
       "      <td>70080000</td>\n",
       "      <td>...</td>\n",
       "      <td>77220000</td>\n",
       "      <td>74280000</td>\n",
       "      <td>76500000</td>\n",
       "      <td>72780000</td>\n",
       "      <td>79260000</td>\n",
       "      <td>83340000</td>\n",
       "      <td>81600000</td>\n",
       "      <td>77100000</td>\n",
       "      <td>90900000</td>\n",
       "      <td>2151840000</td>\n",
       "    </tr>\n",
       "    <tr>\n",
       "      <th>16</th>\n",
       "      <td>Czechia</td>\n",
       "      <td>39540000</td>\n",
       "      <td>31500000</td>\n",
       "      <td>28500000</td>\n",
       "      <td>30840000</td>\n",
       "      <td>33240000</td>\n",
       "      <td>33180000</td>\n",
       "      <td>31500000</td>\n",
       "      <td>33600000</td>\n",
       "      <td>45900000</td>\n",
       "      <td>...</td>\n",
       "      <td>57120000</td>\n",
       "      <td>67620000</td>\n",
       "      <td>71040000</td>\n",
       "      <td>109380000</td>\n",
       "      <td>124080000</td>\n",
       "      <td>106740000</td>\n",
       "      <td>90420000</td>\n",
       "      <td>114180000</td>\n",
       "      <td>96540000</td>\n",
       "      <td>1816020000</td>\n",
       "    </tr>\n",
       "    <tr>\n",
       "      <th>17</th>\n",
       "      <td>Denmark</td>\n",
       "      <td>57540000</td>\n",
       "      <td>58980000</td>\n",
       "      <td>63720000</td>\n",
       "      <td>59640000</td>\n",
       "      <td>61980000</td>\n",
       "      <td>52620000</td>\n",
       "      <td>60360000</td>\n",
       "      <td>56940000</td>\n",
       "      <td>60840000</td>\n",
       "      <td>...</td>\n",
       "      <td>54540000</td>\n",
       "      <td>54780000</td>\n",
       "      <td>55260000</td>\n",
       "      <td>51180000</td>\n",
       "      <td>50460000</td>\n",
       "      <td>54360000</td>\n",
       "      <td>51120000</td>\n",
       "      <td>52080000</td>\n",
       "      <td>54480000</td>\n",
       "      <td>1741860000</td>\n",
       "    </tr>\n",
       "    <tr>\n",
       "      <th>18</th>\n",
       "      <td>Greece</td>\n",
       "      <td>38520000</td>\n",
       "      <td>24420000</td>\n",
       "      <td>20940000</td>\n",
       "      <td>22500000</td>\n",
       "      <td>30120000</td>\n",
       "      <td>31380000</td>\n",
       "      <td>45960000</td>\n",
       "      <td>47340000</td>\n",
       "      <td>42240000</td>\n",
       "      <td>...</td>\n",
       "      <td>69300000</td>\n",
       "      <td>74640000</td>\n",
       "      <td>76140000</td>\n",
       "      <td>74040000</td>\n",
       "      <td>72600000</td>\n",
       "      <td>95040000</td>\n",
       "      <td>52020000</td>\n",
       "      <td>69600000</td>\n",
       "      <td>74760000</td>\n",
       "      <td>1640040000</td>\n",
       "    </tr>\n",
       "    <tr>\n",
       "      <th>19</th>\n",
       "      <td>Portugal</td>\n",
       "      <td>33120000</td>\n",
       "      <td>33420000</td>\n",
       "      <td>35460000</td>\n",
       "      <td>39960000</td>\n",
       "      <td>39840000</td>\n",
       "      <td>37980000</td>\n",
       "      <td>44580000</td>\n",
       "      <td>43620000</td>\n",
       "      <td>45720000</td>\n",
       "      <td>...</td>\n",
       "      <td>63480000</td>\n",
       "      <td>64560000</td>\n",
       "      <td>63780000</td>\n",
       "      <td>63600000</td>\n",
       "      <td>62640000</td>\n",
       "      <td>67680000</td>\n",
       "      <td>65640000</td>\n",
       "      <td>68400000</td>\n",
       "      <td>73200000</td>\n",
       "      <td>1568700000</td>\n",
       "    </tr>\n",
       "    <tr>\n",
       "      <th>20</th>\n",
       "      <td>Romania</td>\n",
       "      <td>26520000</td>\n",
       "      <td>20100000</td>\n",
       "      <td>36180000</td>\n",
       "      <td>25500000</td>\n",
       "      <td>20820000</td>\n",
       "      <td>33060000</td>\n",
       "      <td>41820000</td>\n",
       "      <td>37860000</td>\n",
       "      <td>35700000</td>\n",
       "      <td>...</td>\n",
       "      <td>50640000</td>\n",
       "      <td>54180000</td>\n",
       "      <td>58260000</td>\n",
       "      <td>57480000</td>\n",
       "      <td>60720000</td>\n",
       "      <td>68040000</td>\n",
       "      <td>69300000</td>\n",
       "      <td>70440000</td>\n",
       "      <td>69900000</td>\n",
       "      <td>1380180000</td>\n",
       "    </tr>\n",
       "    <tr>\n",
       "      <th>21</th>\n",
       "      <td>Norway</td>\n",
       "      <td>44520000</td>\n",
       "      <td>45660000</td>\n",
       "      <td>44340000</td>\n",
       "      <td>41580000</td>\n",
       "      <td>48360000</td>\n",
       "      <td>39720000</td>\n",
       "      <td>43200000</td>\n",
       "      <td>41040000</td>\n",
       "      <td>42420000</td>\n",
       "      <td>...</td>\n",
       "      <td>47700000</td>\n",
       "      <td>44100000</td>\n",
       "      <td>46860000</td>\n",
       "      <td>44580000</td>\n",
       "      <td>48000000</td>\n",
       "      <td>47940000</td>\n",
       "      <td>48060000</td>\n",
       "      <td>44580000</td>\n",
       "      <td>47160000</td>\n",
       "      <td>1334340000</td>\n",
       "    </tr>\n",
       "    <tr>\n",
       "      <th>22</th>\n",
       "      <td>Hungary</td>\n",
       "      <td>34440000</td>\n",
       "      <td>38460000</td>\n",
       "      <td>31320000</td>\n",
       "      <td>40080000</td>\n",
       "      <td>46260000</td>\n",
       "      <td>31200000</td>\n",
       "      <td>36180000</td>\n",
       "      <td>40500000</td>\n",
       "      <td>42960000</td>\n",
       "      <td>...</td>\n",
       "      <td>38400000</td>\n",
       "      <td>44880000</td>\n",
       "      <td>33420000</td>\n",
       "      <td>49980000</td>\n",
       "      <td>42840000</td>\n",
       "      <td>43500000</td>\n",
       "      <td>43320000</td>\n",
       "      <td>46740000</td>\n",
       "      <td>46380000</td>\n",
       "      <td>1327440000</td>\n",
       "    </tr>\n",
       "    <tr>\n",
       "      <th>23</th>\n",
       "      <td>Belgium/Luxembourg</td>\n",
       "      <td>120900000</td>\n",
       "      <td>104760000</td>\n",
       "      <td>109680000</td>\n",
       "      <td>123780000</td>\n",
       "      <td>135720000</td>\n",
       "      <td>144060000</td>\n",
       "      <td>151560000</td>\n",
       "      <td>152640000</td>\n",
       "      <td>214800000</td>\n",
       "      <td>...</td>\n",
       "      <td>0</td>\n",
       "      <td>0</td>\n",
       "      <td>0</td>\n",
       "      <td>0</td>\n",
       "      <td>0</td>\n",
       "      <td>0</td>\n",
       "      <td>0</td>\n",
       "      <td>0</td>\n",
       "      <td>0</td>\n",
       "      <td>1257900000</td>\n",
       "    </tr>\n",
       "    <tr>\n",
       "      <th>24</th>\n",
       "      <td>Bulgaria</td>\n",
       "      <td>16080000</td>\n",
       "      <td>12000000</td>\n",
       "      <td>10920000</td>\n",
       "      <td>23820000</td>\n",
       "      <td>27780000</td>\n",
       "      <td>30900000</td>\n",
       "      <td>16320000</td>\n",
       "      <td>17640000</td>\n",
       "      <td>20520000</td>\n",
       "      <td>...</td>\n",
       "      <td>28920000</td>\n",
       "      <td>33600000</td>\n",
       "      <td>36540000</td>\n",
       "      <td>37260000</td>\n",
       "      <td>40920000</td>\n",
       "      <td>46740000</td>\n",
       "      <td>42420000</td>\n",
       "      <td>44220000</td>\n",
       "      <td>47100000</td>\n",
       "      <td>830700000</td>\n",
       "    </tr>\n",
       "    <tr>\n",
       "      <th>25</th>\n",
       "      <td>Slovakia</td>\n",
       "      <td>0</td>\n",
       "      <td>0</td>\n",
       "      <td>0</td>\n",
       "      <td>17280000</td>\n",
       "      <td>15420000</td>\n",
       "      <td>15000000</td>\n",
       "      <td>15660000</td>\n",
       "      <td>15180000</td>\n",
       "      <td>15540000</td>\n",
       "      <td>...</td>\n",
       "      <td>46620000</td>\n",
       "      <td>46320000</td>\n",
       "      <td>47880000</td>\n",
       "      <td>55140000</td>\n",
       "      <td>54600000</td>\n",
       "      <td>54360000</td>\n",
       "      <td>43380000</td>\n",
       "      <td>53400000</td>\n",
       "      <td>46380000</td>\n",
       "      <td>821760000</td>\n",
       "    </tr>\n",
       "    <tr>\n",
       "      <th>26</th>\n",
       "      <td>Croatia</td>\n",
       "      <td>0</td>\n",
       "      <td>0</td>\n",
       "      <td>10080000</td>\n",
       "      <td>9780000</td>\n",
       "      <td>11580000</td>\n",
       "      <td>19200000</td>\n",
       "      <td>19320000</td>\n",
       "      <td>23100000</td>\n",
       "      <td>20340000</td>\n",
       "      <td>...</td>\n",
       "      <td>23460000</td>\n",
       "      <td>23040000</td>\n",
       "      <td>24780000</td>\n",
       "      <td>25200000</td>\n",
       "      <td>26220000</td>\n",
       "      <td>28740000</td>\n",
       "      <td>26340000</td>\n",
       "      <td>26760000</td>\n",
       "      <td>27960000</td>\n",
       "      <td>622080000</td>\n",
       "    </tr>\n",
       "    <tr>\n",
       "      <th>27</th>\n",
       "      <td>Tunisia</td>\n",
       "      <td>6060000</td>\n",
       "      <td>5400000</td>\n",
       "      <td>6660000</td>\n",
       "      <td>6060000</td>\n",
       "      <td>8220000</td>\n",
       "      <td>8220000</td>\n",
       "      <td>8640000</td>\n",
       "      <td>9900000</td>\n",
       "      <td>8820000</td>\n",
       "      <td>...</td>\n",
       "      <td>25740000</td>\n",
       "      <td>26340000</td>\n",
       "      <td>26340000</td>\n",
       "      <td>27600000</td>\n",
       "      <td>27540000</td>\n",
       "      <td>27960000</td>\n",
       "      <td>32760000</td>\n",
       "      <td>31980000</td>\n",
       "      <td>30480000</td>\n",
       "      <td>492540000</td>\n",
       "    </tr>\n",
       "    <tr>\n",
       "      <th>28</th>\n",
       "      <td>Lithuania</td>\n",
       "      <td>0</td>\n",
       "      <td>0</td>\n",
       "      <td>120000</td>\n",
       "      <td>540000</td>\n",
       "      <td>2820000</td>\n",
       "      <td>6780000</td>\n",
       "      <td>9000000</td>\n",
       "      <td>11220000</td>\n",
       "      <td>11100000</td>\n",
       "      <td>...</td>\n",
       "      <td>17340000</td>\n",
       "      <td>20220000</td>\n",
       "      <td>21720000</td>\n",
       "      <td>23760000</td>\n",
       "      <td>25680000</td>\n",
       "      <td>29940000</td>\n",
       "      <td>25920000</td>\n",
       "      <td>26460000</td>\n",
       "      <td>28440000</td>\n",
       "      <td>473460000</td>\n",
       "    </tr>\n",
       "    <tr>\n",
       "      <th>29</th>\n",
       "      <td>Luxembourg</td>\n",
       "      <td>0</td>\n",
       "      <td>0</td>\n",
       "      <td>0</td>\n",
       "      <td>0</td>\n",
       "      <td>0</td>\n",
       "      <td>0</td>\n",
       "      <td>0</td>\n",
       "      <td>0</td>\n",
       "      <td>0</td>\n",
       "      <td>...</td>\n",
       "      <td>19560000</td>\n",
       "      <td>19380000</td>\n",
       "      <td>22680000</td>\n",
       "      <td>24780000</td>\n",
       "      <td>22560000</td>\n",
       "      <td>23640000</td>\n",
       "      <td>22800000</td>\n",
       "      <td>25980000</td>\n",
       "      <td>24120000</td>\n",
       "      <td>415620000</td>\n",
       "    </tr>\n",
       "    <tr>\n",
       "      <th>30</th>\n",
       "      <td>Slovenia</td>\n",
       "      <td>0</td>\n",
       "      <td>0</td>\n",
       "      <td>7380000</td>\n",
       "      <td>9120000</td>\n",
       "      <td>9540000</td>\n",
       "      <td>8880000</td>\n",
       "      <td>10500000</td>\n",
       "      <td>10260000</td>\n",
       "      <td>10440000</td>\n",
       "      <td>...</td>\n",
       "      <td>13380000</td>\n",
       "      <td>13260000</td>\n",
       "      <td>15480000</td>\n",
       "      <td>16140000</td>\n",
       "      <td>16320000</td>\n",
       "      <td>19380000</td>\n",
       "      <td>24060000</td>\n",
       "      <td>33000000</td>\n",
       "      <td>37200000</td>\n",
       "      <td>395520000</td>\n",
       "    </tr>\n",
       "    <tr>\n",
       "      <th>31</th>\n",
       "      <td>Ireland</td>\n",
       "      <td>7740000</td>\n",
       "      <td>7080000</td>\n",
       "      <td>5700000</td>\n",
       "      <td>6660000</td>\n",
       "      <td>7860000</td>\n",
       "      <td>6900000</td>\n",
       "      <td>5880000</td>\n",
       "      <td>6360000</td>\n",
       "      <td>6120000</td>\n",
       "      <td>...</td>\n",
       "      <td>12600000</td>\n",
       "      <td>15120000</td>\n",
       "      <td>13980000</td>\n",
       "      <td>17520000</td>\n",
       "      <td>21420000</td>\n",
       "      <td>24180000</td>\n",
       "      <td>25620000</td>\n",
       "      <td>26400000</td>\n",
       "      <td>26280000</td>\n",
       "      <td>384300000</td>\n",
       "    </tr>\n",
       "    <tr>\n",
       "      <th>32</th>\n",
       "      <td>Estonia</td>\n",
       "      <td>0</td>\n",
       "      <td>0</td>\n",
       "      <td>960000</td>\n",
       "      <td>3060000</td>\n",
       "      <td>4980000</td>\n",
       "      <td>6420000</td>\n",
       "      <td>7020000</td>\n",
       "      <td>8460000</td>\n",
       "      <td>8100000</td>\n",
       "      <td>...</td>\n",
       "      <td>10020000</td>\n",
       "      <td>9420000</td>\n",
       "      <td>9360000</td>\n",
       "      <td>7860000</td>\n",
       "      <td>7560000</td>\n",
       "      <td>8100000</td>\n",
       "      <td>7980000</td>\n",
       "      <td>8820000</td>\n",
       "      <td>8880000</td>\n",
       "      <td>268980000</td>\n",
       "    </tr>\n",
       "    <tr>\n",
       "      <th>33</th>\n",
       "      <td>Latvia</td>\n",
       "      <td>0</td>\n",
       "      <td>0</td>\n",
       "      <td>1200000</td>\n",
       "      <td>3600000</td>\n",
       "      <td>1380000</td>\n",
       "      <td>1800000</td>\n",
       "      <td>3960000</td>\n",
       "      <td>8640000</td>\n",
       "      <td>9540000</td>\n",
       "      <td>...</td>\n",
       "      <td>8460000</td>\n",
       "      <td>9420000</td>\n",
       "      <td>9660000</td>\n",
       "      <td>12780000</td>\n",
       "      <td>12120000</td>\n",
       "      <td>13860000</td>\n",
       "      <td>13740000</td>\n",
       "      <td>14580000</td>\n",
       "      <td>14100000</td>\n",
       "      <td>261540000</td>\n",
       "    </tr>\n",
       "    <tr>\n",
       "      <th>34</th>\n",
       "      <td>Cyprus</td>\n",
       "      <td>3000000</td>\n",
       "      <td>3240000</td>\n",
       "      <td>2460000</td>\n",
       "      <td>4620000</td>\n",
       "      <td>3120000</td>\n",
       "      <td>2640000</td>\n",
       "      <td>3120000</td>\n",
       "      <td>2460000</td>\n",
       "      <td>3000000</td>\n",
       "      <td>...</td>\n",
       "      <td>4920000</td>\n",
       "      <td>5040000</td>\n",
       "      <td>5640000</td>\n",
       "      <td>5640000</td>\n",
       "      <td>5340000</td>\n",
       "      <td>5580000</td>\n",
       "      <td>6000000</td>\n",
       "      <td>7980000</td>\n",
       "      <td>7980000</td>\n",
       "      <td>130380000</td>\n",
       "    </tr>\n",
       "    <tr>\n",
       "      <th>35</th>\n",
       "      <td>Malta</td>\n",
       "      <td>1260000</td>\n",
       "      <td>960000</td>\n",
       "      <td>1080000</td>\n",
       "      <td>1380000</td>\n",
       "      <td>780000</td>\n",
       "      <td>1380000</td>\n",
       "      <td>540000</td>\n",
       "      <td>540000</td>\n",
       "      <td>600000</td>\n",
       "      <td>...</td>\n",
       "      <td>1020000</td>\n",
       "      <td>1260000</td>\n",
       "      <td>1320000</td>\n",
       "      <td>1500000</td>\n",
       "      <td>960000</td>\n",
       "      <td>1140000</td>\n",
       "      <td>1020000</td>\n",
       "      <td>1140000</td>\n",
       "      <td>1380000</td>\n",
       "      <td>29700000</td>\n",
       "    </tr>\n",
       "  </tbody>\n",
       "</table>\n",
       "<p>35 rows × 32 columns</p>\n",
       "</div>"
      ],
      "text/plain": [
       "                     Country        1990        1991        1992        1993  \\\n",
       "1   United States of America  1260420000  1190400000  1376340000  1159740000   \n",
       "2                    Germany   820260000   793740000   827340000   846420000   \n",
       "3                      Italy   314520000   277800000   275700000   335640000   \n",
       "4                      Japan   319800000   330600000   319560000   341460000   \n",
       "5                     France   378060000   393180000   396720000   380040000   \n",
       "6                      Spain   183180000   178200000   204840000   168780000   \n",
       "7             United Kingdom   173880000   168360000   185280000   191820000   \n",
       "8                    Belgium           0           0           0           0   \n",
       "9                Netherlands   187680000   187260000   192300000   168240000   \n",
       "10        Russian Federation           0           0    82920000   107700000   \n",
       "11                    Poland    26100000    15000000   107220000   100200000   \n",
       "12               Switzerland    70260000    67800000    66060000    63600000   \n",
       "13                    Sweden   106020000   103020000   106320000   105420000   \n",
       "14                   Austria   112800000   123480000   132360000   110160000   \n",
       "15                   Finland    65700000    61980000    63300000    78060000   \n",
       "16                   Czechia    39540000    31500000    28500000    30840000   \n",
       "17                   Denmark    57540000    58980000    63720000    59640000   \n",
       "18                    Greece    38520000    24420000    20940000    22500000   \n",
       "19                  Portugal    33120000    33420000    35460000    39960000   \n",
       "20                   Romania    26520000    20100000    36180000    25500000   \n",
       "21                    Norway    44520000    45660000    44340000    41580000   \n",
       "22                   Hungary    34440000    38460000    31320000    40080000   \n",
       "23        Belgium/Luxembourg   120900000   104760000   109680000   123780000   \n",
       "24                  Bulgaria    16080000    12000000    10920000    23820000   \n",
       "25                  Slovakia           0           0           0    17280000   \n",
       "26                   Croatia           0           0    10080000     9780000   \n",
       "27                   Tunisia     6060000     5400000     6660000     6060000   \n",
       "28                 Lithuania           0           0      120000      540000   \n",
       "29                Luxembourg           0           0           0           0   \n",
       "30                  Slovenia           0           0     7380000     9120000   \n",
       "31                   Ireland     7740000     7080000     5700000     6660000   \n",
       "32                   Estonia           0           0      960000     3060000   \n",
       "33                    Latvia           0           0     1200000     3600000   \n",
       "34                    Cyprus     3000000     3240000     2460000     4620000   \n",
       "35                     Malta     1260000      960000     1080000     1380000   \n",
       "\n",
       "         1994        1995        1996        1997        1998  ...  \\\n",
       "1   970260000  1026420000  1166700000  1220580000  1261800000  ...   \n",
       "2   814980000   771120000   810420000   834300000   824400000  ...   \n",
       "3   333240000   323280000   336480000   344580000   353340000  ...   \n",
       "4   373020000   329340000   359640000   355260000   361620000  ...   \n",
       "5   382140000   372840000   399600000   402240000   394560000  ...   \n",
       "6   181680000   188760000   210900000   226620000   223080000  ...   \n",
       "7   207960000   168420000   174180000   175740000   188520000  ...   \n",
       "8           0           0           0           0           0  ...   \n",
       "9   168000000   174600000   185040000   175440000   171720000  ...   \n",
       "10  103560000   103680000    67680000   131100000   103920000  ...   \n",
       "11  110580000   106260000   115440000   135180000   137580000  ...   \n",
       "12   65940000    61020000    66720000    58260000    66720000  ...   \n",
       "13  113580000    85200000    91320000    88380000    86400000  ...   \n",
       "14   85020000    73860000    72600000    77640000    77580000  ...   \n",
       "15   81660000    46140000    59520000    71160000    70080000  ...   \n",
       "16   33240000    33180000    31500000    33600000    45900000  ...   \n",
       "17   61980000    52620000    60360000    56940000    60840000  ...   \n",
       "18   30120000    31380000    45960000    47340000    42240000  ...   \n",
       "19   39840000    37980000    44580000    43620000    45720000  ...   \n",
       "20   20820000    33060000    41820000    37860000    35700000  ...   \n",
       "21   48360000    39720000    43200000    41040000    42420000  ...   \n",
       "22   46260000    31200000    36180000    40500000    42960000  ...   \n",
       "23  135720000   144060000   151560000   152640000   214800000  ...   \n",
       "24   27780000    30900000    16320000    17640000    20520000  ...   \n",
       "25   15420000    15000000    15660000    15180000    15540000  ...   \n",
       "26   11580000    19200000    19320000    23100000    20340000  ...   \n",
       "27    8220000     8220000     8640000     9900000     8820000  ...   \n",
       "28    2820000     6780000     9000000    11220000    11100000  ...   \n",
       "29          0           0           0           0           0  ...   \n",
       "30    9540000     8880000    10500000    10260000    10440000  ...   \n",
       "31    7860000     6900000     5880000     6360000     6120000  ...   \n",
       "32    4980000     6420000     7020000     8460000     8100000  ...   \n",
       "33    1380000     1800000     3960000     8640000     9540000  ...   \n",
       "34    3120000     2640000     3120000     2460000     3000000  ...   \n",
       "35     780000     1380000      540000      540000      600000  ...   \n",
       "\n",
       "          2011        2012        2013        2014        2015        2016  \\\n",
       "1   1565580000  1563360000  1620960000  1653900000  1662480000  1730280000   \n",
       "2   1255560000  1308960000  1270440000  1324680000  1278960000  1342080000   \n",
       "3    501300000   521460000   529380000   561000000   559680000   613440000   \n",
       "4    452640000   421500000   502860000   459420000   483780000   481560000   \n",
       "5    419520000   410460000   402780000   426720000   408540000   404280000   \n",
       "6    289260000   305640000   308220000   324360000   325740000   339600000   \n",
       "7    250980000   247560000   252360000   259140000   293700000   303120000   \n",
       "8    349680000   340080000   330120000   312720000   332040000   363120000   \n",
       "9    160680000   163800000   204420000   240960000   250560000   286860000   \n",
       "10   253080000   250500000   264600000   284820000   282600000   313980000   \n",
       "11   204240000   212580000   197040000   193740000   219960000   229620000   \n",
       "12   149880000   148680000   160020000   158580000   164880000   168960000   \n",
       "13    98820000   100800000   102540000   131880000   127260000   141000000   \n",
       "14    87120000    93540000    93300000    91500000    90780000    89700000   \n",
       "15    77220000    74280000    76500000    72780000    79260000    83340000   \n",
       "16    57120000    67620000    71040000   109380000   124080000   106740000   \n",
       "17    54540000    54780000    55260000    51180000    50460000    54360000   \n",
       "18    69300000    74640000    76140000    74040000    72600000    95040000   \n",
       "19    63480000    64560000    63780000    63600000    62640000    67680000   \n",
       "20    50640000    54180000    58260000    57480000    60720000    68040000   \n",
       "21    47700000    44100000    46860000    44580000    48000000    47940000   \n",
       "22    38400000    44880000    33420000    49980000    42840000    43500000   \n",
       "23           0           0           0           0           0           0   \n",
       "24    28920000    33600000    36540000    37260000    40920000    46740000   \n",
       "25    46620000    46320000    47880000    55140000    54600000    54360000   \n",
       "26    23460000    23040000    24780000    25200000    26220000    28740000   \n",
       "27    25740000    26340000    26340000    27600000    27540000    27960000   \n",
       "28    17340000    20220000    21720000    23760000    25680000    29940000   \n",
       "29    19560000    19380000    22680000    24780000    22560000    23640000   \n",
       "30    13380000    13260000    15480000    16140000    16320000    19380000   \n",
       "31    12600000    15120000    13980000    17520000    21420000    24180000   \n",
       "32    10020000     9420000     9360000     7860000     7560000     8100000   \n",
       "33     8460000     9420000     9660000    12780000    12120000    13860000   \n",
       "34     4920000     5040000     5640000     5640000     5340000     5580000   \n",
       "35     1020000     1260000     1320000     1500000      960000     1140000   \n",
       "\n",
       "          2017        2018        2019  Total_import  \n",
       "1   1769280000  1735080000  1851240000   42507660000  \n",
       "2   1305900000  1328820000  1345920000   31481400000  \n",
       "3    601200000   638340000   654840000   13272120000  \n",
       "4    458820000   452400000   482400000   12422760000  \n",
       "5    418020000   457440000   479580000   11972520000  \n",
       "6    324840000   340380000   359040000    7840620000  \n",
       "7    299340000   341280000   333240000    6731460000  \n",
       "8    340620000   344520000   371940000    6240540000  \n",
       "9    304080000   331200000   321240000    5951400000  \n",
       "10   328080000   317280000   355020000    5731080000  \n",
       "11   239940000   259500000   267120000    4815540000  \n",
       "12   174240000   185160000   193680000    3212700000  \n",
       "13   138360000   135720000   140880000    3148800000  \n",
       "14    87600000    85740000    86880000    2765760000  \n",
       "15    81600000    77100000    90900000    2151840000  \n",
       "16    90420000   114180000    96540000    1816020000  \n",
       "17    51120000    52080000    54480000    1741860000  \n",
       "18    52020000    69600000    74760000    1640040000  \n",
       "19    65640000    68400000    73200000    1568700000  \n",
       "20    69300000    70440000    69900000    1380180000  \n",
       "21    48060000    44580000    47160000    1334340000  \n",
       "22    43320000    46740000    46380000    1327440000  \n",
       "23           0           0           0    1257900000  \n",
       "24    42420000    44220000    47100000     830700000  \n",
       "25    43380000    53400000    46380000     821760000  \n",
       "26    26340000    26760000    27960000     622080000  \n",
       "27    32760000    31980000    30480000     492540000  \n",
       "28    25920000    26460000    28440000     473460000  \n",
       "29    22800000    25980000    24120000     415620000  \n",
       "30    24060000    33000000    37200000     395520000  \n",
       "31    25620000    26400000    26280000     384300000  \n",
       "32     7980000     8820000     8880000     268980000  \n",
       "33    13740000    14580000    14100000     261540000  \n",
       "34     6000000     7980000     7980000     130380000  \n",
       "35     1020000     1140000     1380000      29700000  \n",
       "\n",
       "[35 rows x 32 columns]"
      ]
     },
     "execution_count": 148,
     "metadata": {},
     "output_type": "execute_result"
    }
   ],
   "source": [
    "ci #Of course is the USA!"
   ]
  },
  {
   "cell_type": "code",
   "execution_count": 149,
   "id": "47a5ff12",
   "metadata": {},
   "outputs": [],
   "source": [
    "usaimport = ci[ci[\"Country\"]==\"United States of America\"] #splitting just the usa imports"
   ]
  },
  {
   "cell_type": "code",
   "execution_count": 150,
   "id": "1eeb193a",
   "metadata": {},
   "outputs": [],
   "source": [
    "usaimport = usaimport.select_dtypes(include = \"number\") #just numbers"
   ]
  },
  {
   "cell_type": "code",
   "execution_count": 151,
   "id": "208e5f44",
   "metadata": {},
   "outputs": [
    {
     "data": {
      "text/plain": [
       "array([[ 1260420000,  1190400000,  1376340000,  1159740000,   970260000,\n",
       "         1026420000,  1166700000,  1220580000,  1261800000,  1364760000,\n",
       "         1426020000,  1284900000,  1298340000,  1365600000,  1391040000,\n",
       "         1382520000,  1422540000,  1453140000,  1456620000,  1414680000,\n",
       "         1462680000,  1565580000,  1563360000,  1620960000,  1653900000,\n",
       "         1662480000,  1730280000,  1769280000,  1735080000,  1851240000,\n",
       "        42507660000]], dtype=int64)"
      ]
     },
     "execution_count": 151,
     "metadata": {},
     "output_type": "execute_result"
    }
   ],
   "source": [
    "usav = usaimport.values\n",
    "usav #just the values"
   ]
  },
  {
   "cell_type": "code",
   "execution_count": 152,
   "id": "ba02b7ea",
   "metadata": {},
   "outputs": [
    {
     "data": {
      "text/plain": [
       "Index(['1990', '1991', '1992', '1993', '1994', '1995', '1996', '1997', '1998',\n",
       "       '1999', '2000', '2001', '2002', '2003', '2004', '2005', '2006', '2007',\n",
       "       '2008', '2009', '2010', '2011', '2012', '2013', '2014', '2015', '2016',\n",
       "       '2017', '2018', '2019', 'Total_import'],\n",
       "      dtype='object')"
      ]
     },
     "execution_count": 152,
     "metadata": {},
     "output_type": "execute_result"
    }
   ],
   "source": [
    "usac = usaimport.columns\n",
    "usac"
   ]
  },
  {
   "cell_type": "code",
   "execution_count": 153,
   "id": "fcaa6f25",
   "metadata": {},
   "outputs": [],
   "source": [
    "df4 = pd.DataFrame(usav.T,index=bnc2,columns=[\"Valores\"])"
   ]
  },
  {
   "cell_type": "code",
   "execution_count": 154,
   "id": "b380cafc",
   "metadata": {},
   "outputs": [],
   "source": [
    "two = pd.concat([df[\"Valores\"],df2[\"Valores\"],df3[\"Valores\"],df4[\"Valores\"]],axis=1)\n",
    "two.columns= [\"Consumption\",\"Production\",\"Export\",\"USA Import\"]"
   ]
  },
  {
   "cell_type": "code",
   "execution_count": 155,
   "id": "48da939c",
   "metadata": {},
   "outputs": [
    {
     "data": {
      "text/html": [
       "<div>\n",
       "<style scoped>\n",
       "    .dataframe tbody tr th:only-of-type {\n",
       "        vertical-align: middle;\n",
       "    }\n",
       "\n",
       "    .dataframe tbody tr th {\n",
       "        vertical-align: top;\n",
       "    }\n",
       "\n",
       "    .dataframe thead th {\n",
       "        text-align: right;\n",
       "    }\n",
       "</style>\n",
       "<table border=\"1\" class=\"dataframe\">\n",
       "  <thead>\n",
       "    <tr style=\"text-align: right;\">\n",
       "      <th></th>\n",
       "      <th>Consumption</th>\n",
       "      <th>Production</th>\n",
       "      <th>Export</th>\n",
       "      <th>USA Import</th>\n",
       "    </tr>\n",
       "  </thead>\n",
       "  <tbody>\n",
       "    <tr>\n",
       "      <th>1990/91</th>\n",
       "      <td>4.920000e+08</td>\n",
       "      <td>1.637160e+09</td>\n",
       "      <td>1.016160e+09</td>\n",
       "      <td>1260420000</td>\n",
       "    </tr>\n",
       "    <tr>\n",
       "      <th>1991/92</th>\n",
       "      <td>5.100000e+08</td>\n",
       "      <td>1.637580e+09</td>\n",
       "      <td>1.270980e+09</td>\n",
       "      <td>1190400000</td>\n",
       "    </tr>\n",
       "    <tr>\n",
       "      <th>1992/93</th>\n",
       "      <td>5.340000e+08</td>\n",
       "      <td>2.076180e+09</td>\n",
       "      <td>1.127460e+09</td>\n",
       "      <td>1376340000</td>\n",
       "    </tr>\n",
       "    <tr>\n",
       "      <th>1993/94</th>\n",
       "      <td>5.460000e+08</td>\n",
       "      <td>1.690020e+09</td>\n",
       "      <td>1.070280e+09</td>\n",
       "      <td>1159740000</td>\n",
       "    </tr>\n",
       "    <tr>\n",
       "      <th>1994/95</th>\n",
       "      <td>5.580000e+08</td>\n",
       "      <td>1.691520e+09</td>\n",
       "      <td>1.036380e+09</td>\n",
       "      <td>970260000</td>\n",
       "    </tr>\n",
       "    <tr>\n",
       "      <th>1995/96</th>\n",
       "      <td>6.060000e+08</td>\n",
       "      <td>1.083600e+09</td>\n",
       "      <td>8.680800e+08</td>\n",
       "      <td>1026420000</td>\n",
       "    </tr>\n",
       "    <tr>\n",
       "      <th>1996/97</th>\n",
       "      <td>6.600000e+08</td>\n",
       "      <td>1.751820e+09</td>\n",
       "      <td>9.150600e+08</td>\n",
       "      <td>1166700000</td>\n",
       "    </tr>\n",
       "    <tr>\n",
       "      <th>1997/98</th>\n",
       "      <td>6.900000e+08</td>\n",
       "      <td>1.568880e+09</td>\n",
       "      <td>1.008060e+09</td>\n",
       "      <td>1220580000</td>\n",
       "    </tr>\n",
       "    <tr>\n",
       "      <th>1998/99</th>\n",
       "      <td>7.320000e+08</td>\n",
       "      <td>2.205660e+09</td>\n",
       "      <td>1.088640e+09</td>\n",
       "      <td>1261800000</td>\n",
       "    </tr>\n",
       "    <tr>\n",
       "      <th>1999/00</th>\n",
       "      <td>7.620000e+08</td>\n",
       "      <td>2.854680e+09</td>\n",
       "      <td>1.388940e+09</td>\n",
       "      <td>1364760000</td>\n",
       "    </tr>\n",
       "    <tr>\n",
       "      <th>2000/01</th>\n",
       "      <td>7.920000e+08</td>\n",
       "      <td>1.878600e+09</td>\n",
       "      <td>1.080960e+09</td>\n",
       "      <td>1426020000</td>\n",
       "    </tr>\n",
       "    <tr>\n",
       "      <th>2001/02</th>\n",
       "      <td>8.154000e+08</td>\n",
       "      <td>1.881900e+09</td>\n",
       "      <td>1.390320e+09</td>\n",
       "      <td>1284900000</td>\n",
       "    </tr>\n",
       "    <tr>\n",
       "      <th>2002/03</th>\n",
       "      <td>8.250000e+08</td>\n",
       "      <td>2.901120e+09</td>\n",
       "      <td>1.678920e+09</td>\n",
       "      <td>1298340000</td>\n",
       "    </tr>\n",
       "    <tr>\n",
       "      <th>2003/04</th>\n",
       "      <td>8.520000e+08</td>\n",
       "      <td>1.732380e+09</td>\n",
       "      <td>1.542660e+09</td>\n",
       "      <td>1365600000</td>\n",
       "    </tr>\n",
       "    <tr>\n",
       "      <th>2004/05</th>\n",
       "      <td>8.967600e+08</td>\n",
       "      <td>2.356860e+09</td>\n",
       "      <td>1.588680e+09</td>\n",
       "      <td>1391040000</td>\n",
       "    </tr>\n",
       "    <tr>\n",
       "      <th>2005/06</th>\n",
       "      <td>9.322800e+08</td>\n",
       "      <td>1.975980e+09</td>\n",
       "      <td>1.571880e+09</td>\n",
       "      <td>1382520000</td>\n",
       "    </tr>\n",
       "    <tr>\n",
       "      <th>2006/07</th>\n",
       "      <td>9.798600e+08</td>\n",
       "      <td>2.905920e+09</td>\n",
       "      <td>1.642140e+09</td>\n",
       "      <td>1422540000</td>\n",
       "    </tr>\n",
       "    <tr>\n",
       "      <th>2007/08</th>\n",
       "      <td>1.026600e+09</td>\n",
       "      <td>2.334660e+09</td>\n",
       "      <td>1.691040e+09</td>\n",
       "      <td>1453140000</td>\n",
       "    </tr>\n",
       "    <tr>\n",
       "      <th>2008/09</th>\n",
       "      <td>1.059600e+09</td>\n",
       "      <td>3.089460e+09</td>\n",
       "      <td>1.770600e+09</td>\n",
       "      <td>1456620000</td>\n",
       "    </tr>\n",
       "    <tr>\n",
       "      <th>2009/10</th>\n",
       "      <td>1.103400e+09</td>\n",
       "      <td>2.638620e+09</td>\n",
       "      <td>1.822680e+09</td>\n",
       "      <td>1414680000</td>\n",
       "    </tr>\n",
       "    <tr>\n",
       "      <th>2010/11</th>\n",
       "      <td>1.147920e+09</td>\n",
       "      <td>3.325680e+09</td>\n",
       "      <td>1.990020e+09</td>\n",
       "      <td>1462680000</td>\n",
       "    </tr>\n",
       "    <tr>\n",
       "      <th>2011/12</th>\n",
       "      <td>1.183200e+09</td>\n",
       "      <td>2.915520e+09</td>\n",
       "      <td>2.028360e+09</td>\n",
       "      <td>1565580000</td>\n",
       "    </tr>\n",
       "    <tr>\n",
       "      <th>2012/13</th>\n",
       "      <td>1.219800e+09</td>\n",
       "      <td>3.325080e+09</td>\n",
       "      <td>1.712940e+09</td>\n",
       "      <td>1563360000</td>\n",
       "    </tr>\n",
       "    <tr>\n",
       "      <th>2013/14</th>\n",
       "      <td>1.205100e+09</td>\n",
       "      <td>3.281340e+09</td>\n",
       "      <td>1.899060e+09</td>\n",
       "      <td>1620960000</td>\n",
       "    </tr>\n",
       "    <tr>\n",
       "      <th>2014/15</th>\n",
       "      <td>1.219980e+09</td>\n",
       "      <td>3.198300e+09</td>\n",
       "      <td>2.147484e+09</td>\n",
       "      <td>1653900000</td>\n",
       "    </tr>\n",
       "    <tr>\n",
       "      <th>2015/16</th>\n",
       "      <td>1.230480e+09</td>\n",
       "      <td>3.172260e+09</td>\n",
       "      <td>2.147484e+09</td>\n",
       "      <td>1662480000</td>\n",
       "    </tr>\n",
       "    <tr>\n",
       "      <th>2016/17</th>\n",
       "      <td>1.273500e+09</td>\n",
       "      <td>3.407280e+09</td>\n",
       "      <td>2.056140e+09</td>\n",
       "      <td>1730280000</td>\n",
       "    </tr>\n",
       "    <tr>\n",
       "      <th>2017/18</th>\n",
       "      <td>1.319820e+09</td>\n",
       "      <td>3.164400e+09</td>\n",
       "      <td>1.855500e+09</td>\n",
       "      <td>1769280000</td>\n",
       "    </tr>\n",
       "    <tr>\n",
       "      <th>2018/19</th>\n",
       "      <td>1.332000e+09</td>\n",
       "      <td>3.907860e+09</td>\n",
       "      <td>2.138220e+09</td>\n",
       "      <td>1735080000</td>\n",
       "    </tr>\n",
       "    <tr>\n",
       "      <th>2019/20</th>\n",
       "      <td>1.320000e+09</td>\n",
       "      <td>3.492660e+09</td>\n",
       "      <td>2.147484e+09</td>\n",
       "      <td>1851240000</td>\n",
       "    </tr>\n",
       "    <tr>\n",
       "      <th>Total_production</th>\n",
       "      <td>NaN</td>\n",
       "      <td>NaN</td>\n",
       "      <td>NaN</td>\n",
       "      <td>42507660000</td>\n",
       "    </tr>\n",
       "  </tbody>\n",
       "</table>\n",
       "</div>"
      ],
      "text/plain": [
       "                   Consumption    Production        Export   USA Import\n",
       "1990/91           4.920000e+08  1.637160e+09  1.016160e+09   1260420000\n",
       "1991/92           5.100000e+08  1.637580e+09  1.270980e+09   1190400000\n",
       "1992/93           5.340000e+08  2.076180e+09  1.127460e+09   1376340000\n",
       "1993/94           5.460000e+08  1.690020e+09  1.070280e+09   1159740000\n",
       "1994/95           5.580000e+08  1.691520e+09  1.036380e+09    970260000\n",
       "1995/96           6.060000e+08  1.083600e+09  8.680800e+08   1026420000\n",
       "1996/97           6.600000e+08  1.751820e+09  9.150600e+08   1166700000\n",
       "1997/98           6.900000e+08  1.568880e+09  1.008060e+09   1220580000\n",
       "1998/99           7.320000e+08  2.205660e+09  1.088640e+09   1261800000\n",
       "1999/00           7.620000e+08  2.854680e+09  1.388940e+09   1364760000\n",
       "2000/01           7.920000e+08  1.878600e+09  1.080960e+09   1426020000\n",
       "2001/02           8.154000e+08  1.881900e+09  1.390320e+09   1284900000\n",
       "2002/03           8.250000e+08  2.901120e+09  1.678920e+09   1298340000\n",
       "2003/04           8.520000e+08  1.732380e+09  1.542660e+09   1365600000\n",
       "2004/05           8.967600e+08  2.356860e+09  1.588680e+09   1391040000\n",
       "2005/06           9.322800e+08  1.975980e+09  1.571880e+09   1382520000\n",
       "2006/07           9.798600e+08  2.905920e+09  1.642140e+09   1422540000\n",
       "2007/08           1.026600e+09  2.334660e+09  1.691040e+09   1453140000\n",
       "2008/09           1.059600e+09  3.089460e+09  1.770600e+09   1456620000\n",
       "2009/10           1.103400e+09  2.638620e+09  1.822680e+09   1414680000\n",
       "2010/11           1.147920e+09  3.325680e+09  1.990020e+09   1462680000\n",
       "2011/12           1.183200e+09  2.915520e+09  2.028360e+09   1565580000\n",
       "2012/13           1.219800e+09  3.325080e+09  1.712940e+09   1563360000\n",
       "2013/14           1.205100e+09  3.281340e+09  1.899060e+09   1620960000\n",
       "2014/15           1.219980e+09  3.198300e+09  2.147484e+09   1653900000\n",
       "2015/16           1.230480e+09  3.172260e+09  2.147484e+09   1662480000\n",
       "2016/17           1.273500e+09  3.407280e+09  2.056140e+09   1730280000\n",
       "2017/18           1.319820e+09  3.164400e+09  1.855500e+09   1769280000\n",
       "2018/19           1.332000e+09  3.907860e+09  2.138220e+09   1735080000\n",
       "2019/20           1.320000e+09  3.492660e+09  2.147484e+09   1851240000\n",
       "Total_production           NaN           NaN           NaN  42507660000"
      ]
     },
     "execution_count": 155,
     "metadata": {},
     "output_type": "execute_result"
    }
   ],
   "source": [
    "two"
   ]
  },
  {
   "cell_type": "code",
   "execution_count": 156,
   "id": "d1b1d87e",
   "metadata": {},
   "outputs": [],
   "source": [
    "#Thinking about it, it doesn't make much sense to compare domestic consumption with imports, does it?"
   ]
  },
  {
   "cell_type": "code",
   "execution_count": 157,
   "id": "b4eaeaa0",
   "metadata": {},
   "outputs": [],
   "source": [
    "two.drop(\"Consumption\",axis = 1,inplace = True)  #Let's drop it"
   ]
  },
  {
   "cell_type": "code",
   "execution_count": 158,
   "id": "0d0d0ced",
   "metadata": {},
   "outputs": [],
   "source": [
    "two.drop(\"Total_production\",axis = 0,inplace = True) #Removing an irrelevant variable"
   ]
  },
  {
   "cell_type": "code",
   "execution_count": 159,
   "id": "228dc98f",
   "metadata": {},
   "outputs": [
    {
     "data": {
      "text/html": [
       "<div>\n",
       "<style scoped>\n",
       "    .dataframe tbody tr th:only-of-type {\n",
       "        vertical-align: middle;\n",
       "    }\n",
       "\n",
       "    .dataframe tbody tr th {\n",
       "        vertical-align: top;\n",
       "    }\n",
       "\n",
       "    .dataframe thead th {\n",
       "        text-align: right;\n",
       "    }\n",
       "</style>\n",
       "<table border=\"1\" class=\"dataframe\">\n",
       "  <thead>\n",
       "    <tr style=\"text-align: right;\">\n",
       "      <th></th>\n",
       "      <th>Production</th>\n",
       "      <th>Export</th>\n",
       "      <th>USA Import</th>\n",
       "    </tr>\n",
       "  </thead>\n",
       "  <tbody>\n",
       "    <tr>\n",
       "      <th>1990/91</th>\n",
       "      <td>1.637160e+09</td>\n",
       "      <td>1.016160e+09</td>\n",
       "      <td>1260420000</td>\n",
       "    </tr>\n",
       "    <tr>\n",
       "      <th>1991/92</th>\n",
       "      <td>1.637580e+09</td>\n",
       "      <td>1.270980e+09</td>\n",
       "      <td>1190400000</td>\n",
       "    </tr>\n",
       "    <tr>\n",
       "      <th>1992/93</th>\n",
       "      <td>2.076180e+09</td>\n",
       "      <td>1.127460e+09</td>\n",
       "      <td>1376340000</td>\n",
       "    </tr>\n",
       "    <tr>\n",
       "      <th>1993/94</th>\n",
       "      <td>1.690020e+09</td>\n",
       "      <td>1.070280e+09</td>\n",
       "      <td>1159740000</td>\n",
       "    </tr>\n",
       "    <tr>\n",
       "      <th>1994/95</th>\n",
       "      <td>1.691520e+09</td>\n",
       "      <td>1.036380e+09</td>\n",
       "      <td>970260000</td>\n",
       "    </tr>\n",
       "    <tr>\n",
       "      <th>1995/96</th>\n",
       "      <td>1.083600e+09</td>\n",
       "      <td>8.680800e+08</td>\n",
       "      <td>1026420000</td>\n",
       "    </tr>\n",
       "    <tr>\n",
       "      <th>1996/97</th>\n",
       "      <td>1.751820e+09</td>\n",
       "      <td>9.150600e+08</td>\n",
       "      <td>1166700000</td>\n",
       "    </tr>\n",
       "    <tr>\n",
       "      <th>1997/98</th>\n",
       "      <td>1.568880e+09</td>\n",
       "      <td>1.008060e+09</td>\n",
       "      <td>1220580000</td>\n",
       "    </tr>\n",
       "    <tr>\n",
       "      <th>1998/99</th>\n",
       "      <td>2.205660e+09</td>\n",
       "      <td>1.088640e+09</td>\n",
       "      <td>1261800000</td>\n",
       "    </tr>\n",
       "    <tr>\n",
       "      <th>1999/00</th>\n",
       "      <td>2.854680e+09</td>\n",
       "      <td>1.388940e+09</td>\n",
       "      <td>1364760000</td>\n",
       "    </tr>\n",
       "    <tr>\n",
       "      <th>2000/01</th>\n",
       "      <td>1.878600e+09</td>\n",
       "      <td>1.080960e+09</td>\n",
       "      <td>1426020000</td>\n",
       "    </tr>\n",
       "    <tr>\n",
       "      <th>2001/02</th>\n",
       "      <td>1.881900e+09</td>\n",
       "      <td>1.390320e+09</td>\n",
       "      <td>1284900000</td>\n",
       "    </tr>\n",
       "    <tr>\n",
       "      <th>2002/03</th>\n",
       "      <td>2.901120e+09</td>\n",
       "      <td>1.678920e+09</td>\n",
       "      <td>1298340000</td>\n",
       "    </tr>\n",
       "    <tr>\n",
       "      <th>2003/04</th>\n",
       "      <td>1.732380e+09</td>\n",
       "      <td>1.542660e+09</td>\n",
       "      <td>1365600000</td>\n",
       "    </tr>\n",
       "    <tr>\n",
       "      <th>2004/05</th>\n",
       "      <td>2.356860e+09</td>\n",
       "      <td>1.588680e+09</td>\n",
       "      <td>1391040000</td>\n",
       "    </tr>\n",
       "    <tr>\n",
       "      <th>2005/06</th>\n",
       "      <td>1.975980e+09</td>\n",
       "      <td>1.571880e+09</td>\n",
       "      <td>1382520000</td>\n",
       "    </tr>\n",
       "    <tr>\n",
       "      <th>2006/07</th>\n",
       "      <td>2.905920e+09</td>\n",
       "      <td>1.642140e+09</td>\n",
       "      <td>1422540000</td>\n",
       "    </tr>\n",
       "    <tr>\n",
       "      <th>2007/08</th>\n",
       "      <td>2.334660e+09</td>\n",
       "      <td>1.691040e+09</td>\n",
       "      <td>1453140000</td>\n",
       "    </tr>\n",
       "    <tr>\n",
       "      <th>2008/09</th>\n",
       "      <td>3.089460e+09</td>\n",
       "      <td>1.770600e+09</td>\n",
       "      <td>1456620000</td>\n",
       "    </tr>\n",
       "    <tr>\n",
       "      <th>2009/10</th>\n",
       "      <td>2.638620e+09</td>\n",
       "      <td>1.822680e+09</td>\n",
       "      <td>1414680000</td>\n",
       "    </tr>\n",
       "    <tr>\n",
       "      <th>2010/11</th>\n",
       "      <td>3.325680e+09</td>\n",
       "      <td>1.990020e+09</td>\n",
       "      <td>1462680000</td>\n",
       "    </tr>\n",
       "    <tr>\n",
       "      <th>2011/12</th>\n",
       "      <td>2.915520e+09</td>\n",
       "      <td>2.028360e+09</td>\n",
       "      <td>1565580000</td>\n",
       "    </tr>\n",
       "    <tr>\n",
       "      <th>2012/13</th>\n",
       "      <td>3.325080e+09</td>\n",
       "      <td>1.712940e+09</td>\n",
       "      <td>1563360000</td>\n",
       "    </tr>\n",
       "    <tr>\n",
       "      <th>2013/14</th>\n",
       "      <td>3.281340e+09</td>\n",
       "      <td>1.899060e+09</td>\n",
       "      <td>1620960000</td>\n",
       "    </tr>\n",
       "    <tr>\n",
       "      <th>2014/15</th>\n",
       "      <td>3.198300e+09</td>\n",
       "      <td>2.147484e+09</td>\n",
       "      <td>1653900000</td>\n",
       "    </tr>\n",
       "    <tr>\n",
       "      <th>2015/16</th>\n",
       "      <td>3.172260e+09</td>\n",
       "      <td>2.147484e+09</td>\n",
       "      <td>1662480000</td>\n",
       "    </tr>\n",
       "    <tr>\n",
       "      <th>2016/17</th>\n",
       "      <td>3.407280e+09</td>\n",
       "      <td>2.056140e+09</td>\n",
       "      <td>1730280000</td>\n",
       "    </tr>\n",
       "    <tr>\n",
       "      <th>2017/18</th>\n",
       "      <td>3.164400e+09</td>\n",
       "      <td>1.855500e+09</td>\n",
       "      <td>1769280000</td>\n",
       "    </tr>\n",
       "    <tr>\n",
       "      <th>2018/19</th>\n",
       "      <td>3.907860e+09</td>\n",
       "      <td>2.138220e+09</td>\n",
       "      <td>1735080000</td>\n",
       "    </tr>\n",
       "    <tr>\n",
       "      <th>2019/20</th>\n",
       "      <td>3.492660e+09</td>\n",
       "      <td>2.147484e+09</td>\n",
       "      <td>1851240000</td>\n",
       "    </tr>\n",
       "  </tbody>\n",
       "</table>\n",
       "</div>"
      ],
      "text/plain": [
       "           Production        Export  USA Import\n",
       "1990/91  1.637160e+09  1.016160e+09  1260420000\n",
       "1991/92  1.637580e+09  1.270980e+09  1190400000\n",
       "1992/93  2.076180e+09  1.127460e+09  1376340000\n",
       "1993/94  1.690020e+09  1.070280e+09  1159740000\n",
       "1994/95  1.691520e+09  1.036380e+09   970260000\n",
       "1995/96  1.083600e+09  8.680800e+08  1026420000\n",
       "1996/97  1.751820e+09  9.150600e+08  1166700000\n",
       "1997/98  1.568880e+09  1.008060e+09  1220580000\n",
       "1998/99  2.205660e+09  1.088640e+09  1261800000\n",
       "1999/00  2.854680e+09  1.388940e+09  1364760000\n",
       "2000/01  1.878600e+09  1.080960e+09  1426020000\n",
       "2001/02  1.881900e+09  1.390320e+09  1284900000\n",
       "2002/03  2.901120e+09  1.678920e+09  1298340000\n",
       "2003/04  1.732380e+09  1.542660e+09  1365600000\n",
       "2004/05  2.356860e+09  1.588680e+09  1391040000\n",
       "2005/06  1.975980e+09  1.571880e+09  1382520000\n",
       "2006/07  2.905920e+09  1.642140e+09  1422540000\n",
       "2007/08  2.334660e+09  1.691040e+09  1453140000\n",
       "2008/09  3.089460e+09  1.770600e+09  1456620000\n",
       "2009/10  2.638620e+09  1.822680e+09  1414680000\n",
       "2010/11  3.325680e+09  1.990020e+09  1462680000\n",
       "2011/12  2.915520e+09  2.028360e+09  1565580000\n",
       "2012/13  3.325080e+09  1.712940e+09  1563360000\n",
       "2013/14  3.281340e+09  1.899060e+09  1620960000\n",
       "2014/15  3.198300e+09  2.147484e+09  1653900000\n",
       "2015/16  3.172260e+09  2.147484e+09  1662480000\n",
       "2016/17  3.407280e+09  2.056140e+09  1730280000\n",
       "2017/18  3.164400e+09  1.855500e+09  1769280000\n",
       "2018/19  3.907860e+09  2.138220e+09  1735080000\n",
       "2019/20  3.492660e+09  2.147484e+09  1851240000"
      ]
     },
     "execution_count": 159,
     "metadata": {},
     "output_type": "execute_result"
    }
   ],
   "source": [
    "two"
   ]
  },
  {
   "cell_type": "code",
   "execution_count": 160,
   "id": "d2552da6",
   "metadata": {},
   "outputs": [
    {
     "data": {
      "text/html": [
       "<div>\n",
       "<style scoped>\n",
       "    .dataframe tbody tr th:only-of-type {\n",
       "        vertical-align: middle;\n",
       "    }\n",
       "\n",
       "    .dataframe tbody tr th {\n",
       "        vertical-align: top;\n",
       "    }\n",
       "\n",
       "    .dataframe thead th {\n",
       "        text-align: right;\n",
       "    }\n",
       "</style>\n",
       "<table border=\"1\" class=\"dataframe\">\n",
       "  <thead>\n",
       "    <tr style=\"text-align: right;\">\n",
       "      <th></th>\n",
       "      <th>Production</th>\n",
       "      <th>Export</th>\n",
       "      <th>USA Import</th>\n",
       "    </tr>\n",
       "  </thead>\n",
       "  <tbody>\n",
       "    <tr>\n",
       "      <th>Production</th>\n",
       "      <td>1.000000</td>\n",
       "      <td>0.890513</td>\n",
       "      <td>0.861264</td>\n",
       "    </tr>\n",
       "    <tr>\n",
       "      <th>Export</th>\n",
       "      <td>0.890513</td>\n",
       "      <td>1.000000</td>\n",
       "      <td>0.871198</td>\n",
       "    </tr>\n",
       "    <tr>\n",
       "      <th>USA Import</th>\n",
       "      <td>0.861264</td>\n",
       "      <td>0.871198</td>\n",
       "      <td>1.000000</td>\n",
       "    </tr>\n",
       "  </tbody>\n",
       "</table>\n",
       "</div>"
      ],
      "text/plain": [
       "            Production    Export  USA Import\n",
       "Production    1.000000  0.890513    0.861264\n",
       "Export        0.890513  1.000000    0.871198\n",
       "USA Import    0.861264  0.871198    1.000000"
      ]
     },
     "execution_count": 160,
     "metadata": {},
     "output_type": "execute_result"
    }
   ],
   "source": [
    "two.corr() #Let's see if there is any correlation between the values"
   ]
  },
  {
   "cell_type": "code",
   "execution_count": 161,
   "id": "418848b7",
   "metadata": {},
   "outputs": [],
   "source": [
    "#There is a nice correlation between production/export and USA imports.\n"
   ]
  },
  {
   "cell_type": "code",
   "execution_count": 163,
   "id": "1e26c23b",
   "metadata": {},
   "outputs": [
    {
     "name": "stderr",
     "output_type": "stream",
     "text": [
      "C:\\Users\\heito\\anaconda3\\Lib\\site-packages\\seaborn\\axisgrid.py:118: UserWarning:\n",
      "\n",
      "The figure layout has changed to tight\n",
      "\n"
     ]
    },
    {
     "data": {
      "image/png": "[encoded data removed]",
      "text/plain": [
       "<Figure size 1600x800 with 2 Axes>"
      ]
     },
     "metadata": {},
     "output_type": "display_data"
    }
   ],
   "source": [
    "#Let's see that in a graph\n",
    "\n",
    "import seaborn as sns\n",
    "ax = sns.pairplot(two,x_vars = [\"Production\",\"Export\"],y_vars=\"USA Import\",kind=\"reg\",height = 8)"
   ]
  },
  {
   "cell_type": "code",
   "execution_count": null,
   "id": "96afa41b",
   "metadata": {},
   "outputs": [],
   "source": [
    "#Both of them seem to have a linear crescent relation.\n",
    "#Let's build a model."
   ]
  },
  {
   "cell_type": "code",
   "execution_count": null,
   "id": "86fa76b7",
   "metadata": {},
   "outputs": [],
   "source": [
    "from sklearn.model_selection import train_test_split \n",
    "from sklearn.linear_model import LinearRegression\n",
    "from sklearn import metrics\n"
   ]
  },
  {
   "cell_type": "code",
   "execution_count": null,
   "id": "10c373da",
   "metadata": {},
   "outputs": [],
   "source": [
    "y = two[\"USA Import\"] # Creating a series for the dependent variable."
   ]
  },
  {
   "cell_type": "code",
   "execution_count": null,
   "id": "a71eadb9",
   "metadata": {},
   "outputs": [],
   "source": [
    "X = two[[\"Production\",\"Export\"]]#Creating a dataframe for the explanatory variables."
   ]
  },
  {
   "cell_type": "code",
   "execution_count": null,
   "id": "56bba521",
   "metadata": {},
   "outputs": [],
   "source": [
    "#Splitting in train and test data through the method train_test_split\n",
    "X_train,X_test,y_train,y_test = train_test_split(X,y,test_size = 0.4,random_state = 2811)\n"
   ]
  },
  {
   "cell_type": "code",
   "execution_count": null,
   "id": "5111bcec",
   "metadata": {},
   "outputs": [],
   "source": [
    "model = LinearRegression()"
   ]
  },
  {
   "cell_type": "code",
   "execution_count": null,
   "id": "48d3e88c",
   "metadata": {},
   "outputs": [],
   "source": [
    "model.fit(X_train,y_train) #training \n"
   ]
  },
  {
   "cell_type": "code",
   "execution_count": null,
   "id": "b62b635e",
   "metadata": {},
   "outputs": [],
   "source": [
    "model.score(X_train,y_train).round(3) #verificando se o modelo foi bem ajustado"
   ]
  },
  {
   "cell_type": "code",
   "execution_count": null,
   "id": "3c954f04",
   "metadata": {},
   "outputs": [],
   "source": [
    "production = float(input(\"Enter in billions the amount of coffee production in Brazil:\"))\n",
    "production = production*10**9\n",
    "\n",
    "export = float(input(\"Enter in billions the amount of coffee exportation from Brazil:\"))\n",
    "export = export*10**9\n",
    "\n",
    "aux = [[production,export]]\n",
    "aux = pd.DataFrame(aux, columns = [\"Production\",\"Export\"])\n",
    "\n",
    "qty_import= model.predict(aux)[0]\n",
    "\n",
    "print(f\"The quantity of Brazilian coffee importation by the USA will be: {qty_import.round(3)} billion.\")"
   ]
  },
  {
   "cell_type": "code",
   "execution_count": 164,
   "id": "1d3437f3",
   "metadata": {},
   "outputs": [
    {
     "data": {
      "application/vnd.jupyter.widget-view+json": {
       "model_id": "ac4197b0a3cd481a972579e877dff8b8",
       "version_major": 2,
       "version_minor": 0
      },
      "text/plain": [
       "VBox(children=(FloatText(value=0.0, description='Production (billion):', layout=Layout(margin='0 0 0 0')), Flo…"
      ]
     },
     "metadata": {},
     "output_type": "display_data"
    }
   ],
   "source": [
    "import ipywidgets as widgets\n",
    "from IPython.display import display\n",
    "\n",
    "input_production = widgets.FloatText(description='Production (billion):',layout=widgets.Layout(margin='0 0 0 0'))\n",
    "input_export = widgets.FloatText(description='Export (billion):',layout=widgets.Layout(margin='0 0 0 0px'))\n",
    "\n",
    "button_calculate = widgets.Button(description='Calculate')\n",
    "\n",
    "label_result = widgets.Label()\n",
    "\n",
    "def calculate(aux):\n",
    "    production = input_production.value\n",
    "    production = production*10**9\n",
    "\n",
    "    export = input_export.value\n",
    "    export = export*10**9\n",
    "\n",
    "    aux = [[production,export]]\n",
    "    aux = pd.DataFrame(aux, columns = [\"Production\",\"Export\"])\n",
    "\n",
    "    qty_import = model.predict(aux)[0]\n",
    "    \n",
    "    label_result.value = (f\"The quantity of Brazilian coffee importation by the USA will be: {qty_import.round(3)} billion.\")\n",
    "    \n",
    "    return qty_import\n",
    "    \n",
    "button_calculate.on_click(calculate)\n",
    "\n",
    "\n",
    "display(widgets.VBox([input_production, input_export, button_calculate, label_result]))"
   ]
  },
  {
   "cell_type": "code",
   "execution_count": null,
   "id": "e78f3f7c",
   "metadata": {},
   "outputs": [],
   "source": []
  }
 ],
 "metadata": {
  "kernelspec": {
   "display_name": "Python 3 (ipykernel)",
   "language": "python",
   "name": "python3"
  },
  "language_info": {
   "codemirror_mode": {
    "name": "ipython",
    "version": 3
   },
   "file_extension": ".py",
   "mimetype": "text/x-python",
   "name": "python",
   "nbconvert_exporter": "python",
   "pygments_lexer": "ipython3",
   "version": "3.11.5"
  }
 },
 "nbformat": 4,
 "nbformat_minor": 5
}
